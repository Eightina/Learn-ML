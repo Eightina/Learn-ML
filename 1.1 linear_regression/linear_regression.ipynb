{
 "cells": [
  {
   "cell_type": "markdown",
   "metadata": {},
   "source": [
    "# 生成数据"
   ]
  },
  {
   "cell_type": "code",
   "execution_count": 39,
   "metadata": {},
   "outputs": [
    {
     "data": {
      "image/png": "[encoded data removed]",
      "text/plain": [
       "<Figure size 432x288 with 1 Axes>"
      ]
     },
     "metadata": {
      "needs_background": "light"
     },
     "output_type": "display_data"
    }
   ],
   "source": [
    "import numpy as np\r\n",
    "import matplotlib.pyplot as plt\r\n",
    "\r\n",
    "np.random.seed(666)\r\n",
    "x = 2 * np.random.random(size=100)\r\n",
    "y = x * 3. + 4. + np.random.normal(size=100)\r\n",
    "X = x.reshape(-1,1)\r\n",
    "plt.scatter(x,y)\r\n",
    "plt.show()"
   ]
  },
  {
   "cell_type": "code",
   "execution_count": 40,
   "metadata": {},
   "outputs": [
    {
     "data": {
      "text/plain": [
       "(100, 1)"
      ]
     },
     "execution_count": 40,
     "metadata": {},
     "output_type": "execute_result"
    }
   ],
   "source": [
    "X.shape\r\n"
   ]
  },
  {
   "cell_type": "code",
   "execution_count": 41,
   "metadata": {},
   "outputs": [
    {
     "data": {
      "text/plain": [
       "(100,)"
      ]
     },
     "execution_count": 41,
     "metadata": {},
     "output_type": "execute_result"
    }
   ],
   "source": [
    "y.shape"
   ]
  },
  {
   "cell_type": "markdown",
   "metadata": {},
   "source": [
    "# 定义目标最小二乘函数"
   ]
  },
  {
   "cell_type": "code",
   "execution_count": 42,
   "metadata": {},
   "outputs": [],
   "source": [
    "def J(theta, X_b, y):\r\n",
    "    try:\r\n",
    "        return np.sum((y-X_b.dot(theta))**2) / len(X_b)\r\n",
    "    except:\r\n",
    "        return float('inf')\r\n",
    "\r\n",
    "def dj(theta, X_b, y):\r\n",
    "    res = np.empty(len(theta))\r\n",
    "    res[0] = np.sum(X_b.dot(theta) - y)\r\n",
    "    for i in range(1, len(theta)):\r\n",
    "        res[i] = (X_b.dot(theta) - y).dot(X_b[:, i])\r\n",
    "    return res * 2/ len(X_b)"
   ]
  },
  {
   "cell_type": "markdown",
   "metadata": {},
   "source": [
    "# 定义梯度下降函数 "
   ]
  },
  {
   "cell_type": "code",
   "execution_count": 43,
   "metadata": {},
   "outputs": [],
   "source": [
    "def gradient_descent(X_b, y, init_theta, eta, n_iters=1e4, epsilon=1e-8):\r\n",
    "    theta = init_theta\r\n",
    "    i_iter=0\r\n",
    "    \r\n",
    "    while i_iter < n_iters:\r\n",
    "        gradient = dj(theta, X_b, y)\r\n",
    "        last_theta = theta\r\n",
    "        theta = last_theta - gradient * eta\r\n",
    "        \r\n",
    "        if (abs(J(theta, X_b, y)-J(last_theta, X_b, y)) < epsilon):\r\n",
    "            break\r\n",
    "        i_iter += 1\r\n",
    "        \r\n",
    "    return theta\r\n"
   ]
  },
  {
   "cell_type": "markdown",
   "metadata": {},
   "source": [
    "# 执行测试"
   ]
  },
  {
   "cell_type": "code",
   "execution_count": 44,
   "metadata": {},
   "outputs": [
    {
     "data": {
      "text/plain": [
       "array([4.02145786, 3.00706277])"
      ]
     },
     "execution_count": 44,
     "metadata": {},
     "output_type": "execute_result"
    }
   ],
   "source": [
    "X_b = np.hstack([np.ones((len(X),1)), X])\r\n",
    "init_theta = np.zeros(X_b.shape[1])\r\n",
    "eta = 0.01\r\n",
    "theta = gradient_descent(X_b, y, init_theta, eta)\r\n",
    "theta"
   ]
  },
  {
   "cell_type": "markdown",
   "metadata": {},
   "source": [
    "# QA"
   ]
  },
  {
   "cell_type": "markdown",
   "metadata": {},
   "source": [
    "## 1. 如何将类别型变量引入线性回归，提出至少1种方案？"
   ]
  },
  {
   "cell_type": "markdown",
   "metadata": {},
   "source": [
    "* Ordinal encoding（顺序编码）：\r\n",
    "    当类别变量中的分类有重要性或者顺序的区别时，为每个不同的分类变量值赋一个不同的整数值。这个方法在树类型的模型中效果较好。\r\n",
    "* One-Hot Encoding（独热码）：\r\n",
    "    根据原分类变量创建一个01矩阵：若原数据中i行含有j类型变量，则新矩阵中i行j列为1，反则为0。适用于没有内在顺序关系的“名义变量”，且如果分类过多效果也不好。"
   ]
  },
  {
   "cell_type": "markdown",
   "metadata": {},
   "source": [
    "## 2. 自变量进行标准化会对模型带来哪些影响（尝试从梯度、回归系数等⻆度）？尝试在项目过程中进行实验。"
   ]
  },
  {
   "cell_type": "markdown",
   "metadata": {},
   "source": [
    "* 数据的标准化是将数据按比例缩放，使之落入一个小的特定区间，在某些比较和评价的指标处理中经常会用到，去除数据的单位限制，将其转化为无量纲的纯数值，**便于不同单位或量级的指标能够进行比较和加权**。\r\n",
    "* 常见的标准化方式包括：\r\n",
    "  * **标准差标准化**（标准正态分布） `sklearn.preprocessing.StandardScaler().fit_transform()`\r\n",
    "  * **线性标准化**（0,1区间） `sklearn.preprocessing.MinMaxScaler().fit_transform()`\r\n",
    "  * 为什么X_train标准化是用fit_transform()，而X_test标准化是用transform()呢？\r\n",
    "fit_transform()干了两件事：fit找到数据转换规则，并将数据标准化\r\n",
    "transform：是将数据进行转换，比如数据的归一化和标准化，将测试数据按照训练数据同样的模型进行转换，得到特征向量。可以直接把转换规则拿来用，所以并不需要fit_transform()，否则，两次标准化后的数据格式（或者说数据参数）就不一样了\r\n",
    "* 标准化的好处有：\r\n",
    "  * **提高梯度下降迭代速度**，加快模型收敛速度\r\n",
    "  * 取消量纲的影响，**使回归系数可以做比较**\r\n",
    "  * 提升模型的精度\r\n",
    "  * 深度学习中可以防止模型梯度爆炸\r\n",
    "* 在项目中分别尝试了不标准化和标准化的线性回归，发现标准化后模型的精度变化不大，但是梯度下降的速度明显提高了，回归相比没有标准化的数据能节省约一倍的时间。\r\n"
   ]
  },
  {
   "cell_type": "markdown",
   "metadata": {},
   "source": [
    "# 项目"
   ]
  },
  {
   "cell_type": "markdown",
   "metadata": {},
   "source": []
  }
 ],
 "metadata": {
  "interpreter": {
   "hash": "c4ba2975249f22329a2bfd4358de00082d7a2d8b97caacaf84290d52b0d66844"
  },
  "kernelspec": {
   "display_name": "Python 3.6.13 64-bit ('python36': conda)",
   "name": "python3"
  },
  "language_info": {
   "name": "python",
   "version": ""
  },
  "orig_nbformat": 4
 },
 "nbformat": 4,
 "nbformat_minor": 2
}