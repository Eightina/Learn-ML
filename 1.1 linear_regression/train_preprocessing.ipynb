{
 "cells": [
  {
   "cell_type": "code",
   "execution_count": 1,
   "metadata": {},
   "outputs": [],
   "source": [
    "import pandas as pd\r\n",
    "import numpy as np\r\n",
    "import matplotlib.pyplot as plt\r\n",
    "import seaborn as sns\r\n",
    "\r\n",
    "import sklearn.preprocessing as prep\r\n",
    "from sklearn.decomposition import PCA\r\n",
    "from sklearn.decomposition import TruncatedSVD"
   ]
  },
  {
   "cell_type": "code",
   "execution_count": 81,
   "metadata": {},
   "outputs": [
    {
     "data": {
      "text/html": [
       "<div>\n",
       "<style scoped>\n",
       "    .dataframe tbody tr th:only-of-type {\n",
       "        vertical-align: middle;\n",
       "    }\n",
       "\n",
       "    .dataframe tbody tr th {\n",
       "        vertical-align: top;\n",
       "    }\n",
       "\n",
       "    .dataframe thead th {\n",
       "        text-align: right;\n",
       "    }\n",
       "</style>\n",
       "<table border=\"1\" class=\"dataframe\">\n",
       "  <thead>\n",
       "    <tr style=\"text-align: right;\">\n",
       "      <th></th>\n",
       "      <th>Id</th>\n",
       "      <th>MSSubClass</th>\n",
       "      <th>MSZoning</th>\n",
       "      <th>LotFrontage</th>\n",
       "      <th>LotArea</th>\n",
       "      <th>Street</th>\n",
       "      <th>Alley</th>\n",
       "      <th>LotShape</th>\n",
       "      <th>LandContour</th>\n",
       "      <th>Utilities</th>\n",
       "      <th>...</th>\n",
       "      <th>PoolArea</th>\n",
       "      <th>PoolQC</th>\n",
       "      <th>Fence</th>\n",
       "      <th>MiscFeature</th>\n",
       "      <th>MiscVal</th>\n",
       "      <th>MoSold</th>\n",
       "      <th>YrSold</th>\n",
       "      <th>SaleType</th>\n",
       "      <th>SaleCondition</th>\n",
       "      <th>SalePrice</th>\n",
       "    </tr>\n",
       "  </thead>\n",
       "  <tbody>\n",
       "    <tr>\n",
       "      <th>0</th>\n",
       "      <td>1</td>\n",
       "      <td>60</td>\n",
       "      <td>RL</td>\n",
       "      <td>65.0</td>\n",
       "      <td>8450</td>\n",
       "      <td>Pave</td>\n",
       "      <td>NaN</td>\n",
       "      <td>Reg</td>\n",
       "      <td>Lvl</td>\n",
       "      <td>AllPub</td>\n",
       "      <td>...</td>\n",
       "      <td>0</td>\n",
       "      <td>NaN</td>\n",
       "      <td>NaN</td>\n",
       "      <td>NaN</td>\n",
       "      <td>0</td>\n",
       "      <td>2</td>\n",
       "      <td>2008</td>\n",
       "      <td>WD</td>\n",
       "      <td>Normal</td>\n",
       "      <td>208500</td>\n",
       "    </tr>\n",
       "    <tr>\n",
       "      <th>1</th>\n",
       "      <td>2</td>\n",
       "      <td>20</td>\n",
       "      <td>RL</td>\n",
       "      <td>80.0</td>\n",
       "      <td>9600</td>\n",
       "      <td>Pave</td>\n",
       "      <td>NaN</td>\n",
       "      <td>Reg</td>\n",
       "      <td>Lvl</td>\n",
       "      <td>AllPub</td>\n",
       "      <td>...</td>\n",
       "      <td>0</td>\n",
       "      <td>NaN</td>\n",
       "      <td>NaN</td>\n",
       "      <td>NaN</td>\n",
       "      <td>0</td>\n",
       "      <td>5</td>\n",
       "      <td>2007</td>\n",
       "      <td>WD</td>\n",
       "      <td>Normal</td>\n",
       "      <td>181500</td>\n",
       "    </tr>\n",
       "    <tr>\n",
       "      <th>2</th>\n",
       "      <td>3</td>\n",
       "      <td>60</td>\n",
       "      <td>RL</td>\n",
       "      <td>68.0</td>\n",
       "      <td>11250</td>\n",
       "      <td>Pave</td>\n",
       "      <td>NaN</td>\n",
       "      <td>IR1</td>\n",
       "      <td>Lvl</td>\n",
       "      <td>AllPub</td>\n",
       "      <td>...</td>\n",
       "      <td>0</td>\n",
       "      <td>NaN</td>\n",
       "      <td>NaN</td>\n",
       "      <td>NaN</td>\n",
       "      <td>0</td>\n",
       "      <td>9</td>\n",
       "      <td>2008</td>\n",
       "      <td>WD</td>\n",
       "      <td>Normal</td>\n",
       "      <td>223500</td>\n",
       "    </tr>\n",
       "    <tr>\n",
       "      <th>3</th>\n",
       "      <td>4</td>\n",
       "      <td>70</td>\n",
       "      <td>RL</td>\n",
       "      <td>60.0</td>\n",
       "      <td>9550</td>\n",
       "      <td>Pave</td>\n",
       "      <td>NaN</td>\n",
       "      <td>IR1</td>\n",
       "      <td>Lvl</td>\n",
       "      <td>AllPub</td>\n",
       "      <td>...</td>\n",
       "      <td>0</td>\n",
       "      <td>NaN</td>\n",
       "      <td>NaN</td>\n",
       "      <td>NaN</td>\n",
       "      <td>0</td>\n",
       "      <td>2</td>\n",
       "      <td>2006</td>\n",
       "      <td>WD</td>\n",
       "      <td>Abnorml</td>\n",
       "      <td>140000</td>\n",
       "    </tr>\n",
       "    <tr>\n",
       "      <th>4</th>\n",
       "      <td>5</td>\n",
       "      <td>60</td>\n",
       "      <td>RL</td>\n",
       "      <td>84.0</td>\n",
       "      <td>14260</td>\n",
       "      <td>Pave</td>\n",
       "      <td>NaN</td>\n",
       "      <td>IR1</td>\n",
       "      <td>Lvl</td>\n",
       "      <td>AllPub</td>\n",
       "      <td>...</td>\n",
       "      <td>0</td>\n",
       "      <td>NaN</td>\n",
       "      <td>NaN</td>\n",
       "      <td>NaN</td>\n",
       "      <td>0</td>\n",
       "      <td>12</td>\n",
       "      <td>2008</td>\n",
       "      <td>WD</td>\n",
       "      <td>Normal</td>\n",
       "      <td>250000</td>\n",
       "    </tr>\n",
       "  </tbody>\n",
       "</table>\n",
       "<p>5 rows × 81 columns</p>\n",
       "</div>"
      ],
      "text/plain": [
       "   Id  MSSubClass MSZoning  LotFrontage  LotArea Street Alley LotShape  \\\n",
       "0   1          60       RL         65.0     8450   Pave   NaN      Reg   \n",
       "1   2          20       RL         80.0     9600   Pave   NaN      Reg   \n",
       "2   3          60       RL         68.0    11250   Pave   NaN      IR1   \n",
       "3   4          70       RL         60.0     9550   Pave   NaN      IR1   \n",
       "4   5          60       RL         84.0    14260   Pave   NaN      IR1   \n",
       "\n",
       "  LandContour Utilities  ... PoolArea PoolQC Fence MiscFeature MiscVal MoSold  \\\n",
       "0         Lvl    AllPub  ...        0    NaN   NaN         NaN       0      2   \n",
       "1         Lvl    AllPub  ...        0    NaN   NaN         NaN       0      5   \n",
       "2         Lvl    AllPub  ...        0    NaN   NaN         NaN       0      9   \n",
       "3         Lvl    AllPub  ...        0    NaN   NaN         NaN       0      2   \n",
       "4         Lvl    AllPub  ...        0    NaN   NaN         NaN       0     12   \n",
       "\n",
       "  YrSold  SaleType  SaleCondition  SalePrice  \n",
       "0   2008        WD         Normal     208500  \n",
       "1   2007        WD         Normal     181500  \n",
       "2   2008        WD         Normal     223500  \n",
       "3   2006        WD        Abnorml     140000  \n",
       "4   2008        WD         Normal     250000  \n",
       "\n",
       "[5 rows x 81 columns]"
      ]
     },
     "execution_count": 81,
     "metadata": {},
     "output_type": "execute_result"
    }
   ],
   "source": [
    "og_data = pd.read_csv(\"train.csv\")\r\n",
    "og_data.head()"
   ]
  },
  {
   "cell_type": "code",
   "execution_count": 82,
   "metadata": {},
   "outputs": [
    {
     "data": {
      "text/plain": [
       "(Index(['Id', 'MSSubClass', 'MSZoning', 'LotFrontage', 'LotArea', 'Street',\n",
       "        'Alley', 'LotShape', 'LandContour', 'Utilities', 'LotConfig',\n",
       "        'LandSlope', 'Neighborhood', 'Condition1', 'Condition2', 'BldgType',\n",
       "        'HouseStyle', 'OverallQual', 'OverallCond', 'YearBuilt', 'YearRemodAdd',\n",
       "        'RoofStyle', 'RoofMatl', 'Exterior1st', 'Exterior2nd', 'MasVnrType',\n",
       "        'MasVnrArea', 'ExterQual', 'ExterCond', 'Foundation', 'BsmtQual',\n",
       "        'BsmtCond', 'BsmtExposure', 'BsmtFinType1', 'BsmtFinSF1',\n",
       "        'BsmtFinType2', 'BsmtFinSF2', 'BsmtUnfSF', 'TotalBsmtSF', 'Heating',\n",
       "        'HeatingQC', 'CentralAir', 'Electrical', '1stFlrSF', '2ndFlrSF',\n",
       "        'LowQualFinSF', 'GrLivArea', 'BsmtFullBath', 'BsmtHalfBath', 'FullBath',\n",
       "        'HalfBath', 'BedroomAbvGr', 'KitchenAbvGr', 'KitchenQual',\n",
       "        'TotRmsAbvGrd', 'Functional', 'Fireplaces', 'FireplaceQu', 'GarageType',\n",
       "        'GarageYrBlt', 'GarageFinish', 'GarageCars', 'GarageArea', 'GarageQual',\n",
       "        'GarageCond', 'PavedDrive', 'WoodDeckSF', 'OpenPorchSF',\n",
       "        'EnclosedPorch', '3SsnPorch', 'ScreenPorch', 'PoolArea', 'PoolQC',\n",
       "        'Fence', 'MiscFeature', 'MiscVal', 'MoSold', 'YrSold', 'SaleType',\n",
       "        'SaleCondition', 'SalePrice'],\n",
       "       dtype='object'),\n",
       " 81)"
      ]
     },
     "execution_count": 82,
     "metadata": {},
     "output_type": "execute_result"
    }
   ],
   "source": [
    "og_data.columns, len(og_data.columns)"
   ]
  },
  {
   "cell_type": "code",
   "execution_count": 69,
   "metadata": {},
   "outputs": [],
   "source": [
    "i=0"
   ]
  },
  {
   "cell_type": "code",
   "execution_count": 75,
   "metadata": {},
   "outputs": [
    {
     "name": "stdout",
     "output_type": "stream",
     "text": [
      "Street\n"
     ]
    }
   ],
   "source": [
    "print(og_data.columns[i])\r\n",
    "i+=1"
   ]
  },
  {
   "cell_type": "code",
   "execution_count": 83,
   "metadata": {},
   "outputs": [],
   "source": [
    "ohe=prep.OneHotEncoder()\r\n",
    "pca=TruncatedSVD(n_components=1)\r\n",
    "\r\n",
    "matrix=ohe.fit_transform(og_data[\"MSZoning\"].values.reshape(-1,1))\r\n",
    "ncol=pca.fit_transform(matrix)\r\n",
    "og_data[\"MSZoning\"]=ncol\r\n",
    "\r\n"
   ]
  },
  {
   "cell_type": "code",
   "execution_count": 84,
   "metadata": {},
   "outputs": [],
   "source": [
    "nlot=og_data.LotFrontage.values\r\n",
    "for i in range(len(nlot)):\r\n",
    "    if not nlot[i]>=0:\r\n",
    "        nlot[i]=70\r\n",
    "og_data.LotFrontage=nlot\r\n",
    "        "
   ]
  },
  {
   "cell_type": "code",
   "execution_count": 85,
   "metadata": {},
   "outputs": [],
   "source": [
    "og_data.Street=og_data.Street.map({'Grvl':0.5, 'Pave':1})"
   ]
  },
  {
   "cell_type": "code",
   "execution_count": 86,
   "metadata": {},
   "outputs": [],
   "source": [
    "og_data.Alley=og_data.Alley.map({'Grvl':0.5, 'Pave':1, np.nan:0})"
   ]
  },
  {
   "cell_type": "code",
   "execution_count": 89,
   "metadata": {},
   "outputs": [],
   "source": [
    "og_data.LotShape=og_data.LotShape.map({'Reg':1, 'IR1':0.75, 'IR2':0.5, \"IR3\":0.25})"
   ]
  },
  {
   "cell_type": "code",
   "execution_count": 91,
   "metadata": {},
   "outputs": [],
   "source": [
    "og_data.LandContour=og_data.LandContour.map({'Lvl':1, 'Bnk':0.75, 'HLS':0.5, \"Low\":0.25})"
   ]
  },
  {
   "cell_type": "code",
   "execution_count": 93,
   "metadata": {},
   "outputs": [],
   "source": [
    "og_data.Utilities=og_data.Utilities.map({'AllPub':1, 'NoSewr':0.75, 'NoSeWa':0.5, \"ELO\":0.25})"
   ]
  },
  {
   "cell_type": "code",
   "execution_count": 95,
   "metadata": {},
   "outputs": [],
   "source": [
    "ohe=prep.OneHotEncoder()\r\n",
    "pca=TruncatedSVD(n_components=1)\r\n",
    "\r\n",
    "matrix=ohe.fit_transform(og_data[\"LotConfig\"].values.reshape(-1,1))\r\n",
    "ncol=pca.fit_transform(matrix)\r\n",
    "og_data[\"LotConfig\"]=ncol"
   ]
  },
  {
   "cell_type": "code",
   "execution_count": 97,
   "metadata": {},
   "outputs": [],
   "source": [
    "og_data.LandSlope=og_data.LandSlope.map({'Gtl':1, 'Mod':0.5, \"Sev\":0})"
   ]
  },
  {
   "cell_type": "code",
   "execution_count": 98,
   "metadata": {},
   "outputs": [],
   "source": [
    "ohe=prep.OneHotEncoder()\r\n",
    "pca=TruncatedSVD(n_components=1)\r\n",
    "\r\n",
    "matrix=ohe.fit_transform(og_data[\"Neighborhood\"].values.reshape(-1,1))\r\n",
    "ncol=pca.fit_transform(matrix)\r\n",
    "og_data[\"Neighborhood\"]=ncol"
   ]
  },
  {
   "cell_type": "code",
   "execution_count": 99,
   "metadata": {},
   "outputs": [],
   "source": [
    "og_data.Condition1=og_data.Condition1.map({'Norm':0, 'Artery':1, \"Feedr\":1, \"RRNn\":0.5, \"RRAn\":1,\r\n",
    "                                        \"PosN\":0.5, \"PosA\":1, \"RRNe\":0.5, \"RRAe\":1})"
   ]
  },
  {
   "cell_type": "code",
   "execution_count": 101,
   "metadata": {},
   "outputs": [],
   "source": [
    "og_data.Condition2=og_data.Condition2.map({'Norm':0, 'Artery':1, \"Feedr\":1, \"RRNn\":0.5, \"RRAn\":1,\r\n",
    "                                        \"PosN\":0.5, \"PosA\":1, \"RRNe\":0.5, \"RRAe\":1})\r\n"
   ]
  },
  {
   "cell_type": "code",
   "execution_count": 2,
   "metadata": {},
   "outputs": [],
   "source": [
    "og_data=pd.read_csv('temp_data.csv')"
   ]
  },
  {
   "cell_type": "code",
   "execution_count": 4,
   "metadata": {},
   "outputs": [],
   "source": [
    "og_data.BldgType=og_data.BldgType.map({'TwnhsI':1, 'TwnhsE':1, 'Duplx':0.75, '2FmCon':0.5, \"1Fam\":0.25})"
   ]
  },
  {
   "cell_type": "code",
   "execution_count": 5,
   "metadata": {},
   "outputs": [],
   "source": [
    "og_data.HouseStyle=og_data.HouseStyle.map({'2.5Fin':0.75, '2.5Unf':0.625, '1.5Fin':0.375, 'SFoyer':0.875,\r\n",
    "                                        'SLvl':1, '1.5Unf':0.25, \"1Story\":0.125, \"2Story\":0.5})"
   ]
  },
  {
   "cell_type": "code",
   "execution_count": 44,
   "metadata": {},
   "outputs": [],
   "source": [
    "og_data.YearBuilt"
   ]
  },
  {
   "cell_type": "code",
   "execution_count": 46,
   "metadata": {},
   "outputs": [],
   "source": [
    "og_data.YearRemodAdd"
   ]
  },
  {
   "cell_type": "code",
   "execution_count": 49,
   "metadata": {},
   "outputs": [],
   "source": [
    "og_data['year1']=og_data.YrSold-og_data.YearBuilt"
   ]
  },
  {
   "cell_type": "code",
   "execution_count": 50,
   "metadata": {},
   "outputs": [],
   "source": [
    "og_data['year2']=og_data.YrSold-og_data.YearRemodAdd"
   ]
  },
  {
   "cell_type": "code",
   "execution_count": 9,
   "metadata": {},
   "outputs": [],
   "source": [
    "ohe=prep.OneHotEncoder()\r\n",
    "pca=TruncatedSVD(n_components=1)\r\n",
    "\r\n",
    "matrix=ohe.fit_transform(og_data[\"RoofStyle\"].values.reshape(-1,1))\r\n",
    "ncol=pca.fit_transform(matrix)\r\n",
    "og_data[\"RoofStyle\"]=ncol"
   ]
  },
  {
   "cell_type": "code",
   "execution_count": 10,
   "metadata": {},
   "outputs": [],
   "source": [
    "ohe=prep.OneHotEncoder()\r\n",
    "pca=TruncatedSVD(n_components=1)\r\n",
    "\r\n",
    "matrix=ohe.fit_transform(og_data[\"RoofMatl\"].values.reshape(-1,1))\r\n",
    "ncol=pca.fit_transform(matrix)\r\n",
    "og_data[\"RoofMatl\"]=ncol"
   ]
  },
  {
   "cell_type": "code",
   "execution_count": 11,
   "metadata": {},
   "outputs": [],
   "source": [
    "ohe=prep.OneHotEncoder()\r\n",
    "pca=TruncatedSVD(n_components=1)\r\n",
    "\r\n",
    "matrix=ohe.fit_transform(og_data[\"Exterior1st\"].values.reshape(-1,1))\r\n",
    "ncol=pca.fit_transform(matrix)\r\n",
    "og_data[\"Exterior1st\"]=ncol"
   ]
  },
  {
   "cell_type": "code",
   "execution_count": 12,
   "metadata": {},
   "outputs": [],
   "source": [
    "ohe=prep.OneHotEncoder()\r\n",
    "pca=TruncatedSVD(n_components=1)\r\n",
    "\r\n",
    "matrix=ohe.fit_transform(og_data[\"Exterior2nd\"].values.reshape(-1,1))\r\n",
    "ncol=pca.fit_transform(matrix)\r\n",
    "og_data[\"Exterior2nd\"]=ncol"
   ]
  },
  {
   "cell_type": "code",
   "execution_count": 13,
   "metadata": {},
   "outputs": [],
   "source": [
    "ohe=prep.OneHotEncoder()\r\n",
    "pca=TruncatedSVD(n_components=1)\r\n",
    "\r\n",
    "matrix=ohe.fit_transform(og_data[\"MasVnrType\"].values.reshape(-1,1))\r\n",
    "ncol=pca.fit_transform(matrix)\r\n",
    "og_data[\"MasVnrType\"]=ncol"
   ]
  },
  {
   "cell_type": "code",
   "execution_count": 14,
   "metadata": {},
   "outputs": [],
   "source": [
    "og_data.ExterQual=og_data.ExterQual.map({'Ex':1, 'Gd':0.75, 'TA':0.5, \"Fa\":0.25, \"Po\":0})"
   ]
  },
  {
   "cell_type": "code",
   "execution_count": 16,
   "metadata": {},
   "outputs": [],
   "source": [
    "og_data.ExterCond=og_data.ExterCond.map({'Ex':1, 'Gd':0.75, 'TA':0.5, \"Fa\":0.25, \"Po\":0})"
   ]
  },
  {
   "cell_type": "code",
   "execution_count": 15,
   "metadata": {},
   "outputs": [],
   "source": [
    "ohe=prep.OneHotEncoder()\r\n",
    "pca=TruncatedSVD(n_components=1)\r\n",
    "\r\n",
    "matrix=ohe.fit_transform(og_data[\"Foundation\"].values.reshape(-1,1))\r\n",
    "ncol=pca.fit_transform(matrix)\r\n",
    "og_data[\"Foundation\"]=ncol"
   ]
  },
  {
   "cell_type": "code",
   "execution_count": 17,
   "metadata": {},
   "outputs": [],
   "source": [
    "og_data.BsmtQual=og_data.BsmtQual.map({'Ex':1, 'Gd':0.8, 'TA':0.6, \"Fa\":0.4, \"Po\":0.2, np.nan:0})"
   ]
  },
  {
   "cell_type": "code",
   "execution_count": 18,
   "metadata": {},
   "outputs": [],
   "source": [
    "og_data.BsmtCond=og_data.BsmtCond.map({'Ex':1, 'Gd':0.8, 'TA':0.6, \"Fa\":0.4, \"Po\":0.2, np.nan:0})"
   ]
  },
  {
   "cell_type": "code",
   "execution_count": 19,
   "metadata": {},
   "outputs": [],
   "source": [
    "og_data.BsmtExposure=og_data.BsmtExposure.map({'Gd':1, 'Av':0.75, 'Mn':0.5, \"No\":0.25, np.nan:0})"
   ]
  },
  {
   "cell_type": "code",
   "execution_count": 20,
   "metadata": {},
   "outputs": [],
   "source": [
    "og_data.BsmtFinType1=og_data.BsmtFinType1.map({'GLQ':1, 'ALQ':0.75, 'BLQ':0.5, \"Rec\":0.3, \"LwQ\":0.2,\r\n",
    "                                            \"Unf\":0.1, np.nan:0})"
   ]
  },
  {
   "cell_type": "code",
   "execution_count": 21,
   "metadata": {},
   "outputs": [],
   "source": [
    "og_data.BsmtFinType2=og_data.BsmtFinType2.map({'GLQ':1, 'ALQ':0.75, 'BLQ':0.5, \"Rec\":0.3, \"LwQ\":0.2,\r\n",
    "                                            \"Unf\":0.1, np.nan:0})"
   ]
  },
  {
   "cell_type": "code",
   "execution_count": 28,
   "metadata": {},
   "outputs": [],
   "source": [
    "nbsmt=(og_data.BsmtFinType1*og_data.BsmtFinSF1+og_data.BsmtFinType2*og_data.BsmtFinSF2)\r\n",
    "og_data.drop([\"BsmtFinType2\",\"BsmtFinSF2\"], axis=1)\r\n",
    "og_data.BsmtFinType1=nbsmt"
   ]
  },
  {
   "cell_type": "code",
   "execution_count": 29,
   "metadata": {},
   "outputs": [],
   "source": [
    "ohe=prep.OneHotEncoder()\r\n",
    "pca=TruncatedSVD(n_components=1)\r\n",
    "\r\n",
    "matrix=ohe.fit_transform(og_data[\"Heating\"].values.reshape(-1,1))\r\n",
    "ncol=pca.fit_transform(matrix)\r\n",
    "og_data[\"Heating\"]=ncol"
   ]
  },
  {
   "cell_type": "code",
   "execution_count": 30,
   "metadata": {},
   "outputs": [],
   "source": [
    "og_data.HeatingQC=og_data.HeatingQC.map({'Ex':1, 'Gd':0.8, 'TA':0.6, \"Fa\":0.4, \"Po\":0.2})"
   ]
  },
  {
   "cell_type": "code",
   "execution_count": 31,
   "metadata": {},
   "outputs": [],
   "source": [
    "og_data.CentralAir=og_data.CentralAir.map({'N':0, 'Y':1})"
   ]
  },
  {
   "cell_type": "code",
   "execution_count": 32,
   "metadata": {},
   "outputs": [],
   "source": [
    "og_data.Electrical=og_data.Electrical.map({'SBrkr':1, 'FuseA':0.75, 'FuseF':0.5, \"FuseP\":0.25, \"Mix\":0.5})"
   ]
  },
  {
   "cell_type": "code",
   "execution_count": null,
   "metadata": {},
   "outputs": [],
   "source": [
    "og_data.KitchenQual=og_data.KitchenQual.map({'Ex':1, 'Gd':0.8, 'TA':0.6, \"Fa\":0.4, \"Po\":0.2})"
   ]
  },
  {
   "cell_type": "code",
   "execution_count": 33,
   "metadata": {},
   "outputs": [],
   "source": [
    "og_data.Functional=og_data.Functional.map({'Min2':0.75, 'Mod':0.625, 'Maj2':0.375, 'Min1':0.875,\r\n",
    "                                        'Typ':1, 'Sev':0.25, \"Sal\":0.125, \"Maj1\":0.5})"
   ]
  },
  {
   "cell_type": "code",
   "execution_count": 34,
   "metadata": {},
   "outputs": [],
   "source": [
    "og_data.FireplaceQu=og_data.FireplaceQu.map({'Ex':1, 'Gd':0.8, 'TA':0.6, \"Fa\":0.4, \"Po\":0.2, np.nan:0})"
   ]
  },
  {
   "cell_type": "code",
   "execution_count": 35,
   "metadata": {},
   "outputs": [],
   "source": [
    "og_data.GarageType=og_data.GarageType.map({'2Types':1, 'Attchd':0.8, 'Basment':0.7, \"BuiltIn\":0.6, \"CarPort\":0.5, \"Detchd\":0.2, np.nan:0})"
   ]
  },
  {
   "cell_type": "code",
   "execution_count": 36,
   "metadata": {},
   "outputs": [],
   "source": [
    "og_data.GarageYrBlt=2019-og_data.GarageYrBlt"
   ]
  },
  {
   "cell_type": "code",
   "execution_count": 37,
   "metadata": {},
   "outputs": [],
   "source": [
    "og_data.GarageFinish=og_data.GarageFinish.map({'Fin':1, 'RFn':0.6, \"Unf\":0.3, np.nan:0})"
   ]
  },
  {
   "cell_type": "code",
   "execution_count": 38,
   "metadata": {},
   "outputs": [],
   "source": [
    "og_data.GarageQual=og_data.GarageQual.map({'Ex':1, 'Gd':0.8, 'TA':0.6, \"Fa\":0.4, \"Po\":0.2, np.nan:0})"
   ]
  },
  {
   "cell_type": "code",
   "execution_count": 39,
   "metadata": {},
   "outputs": [],
   "source": [
    "og_data.GarageCond=og_data.GarageCond.map({'Ex':1, 'Gd':0.8, 'TA':0.6, \"Fa\":0.4, \"Po\":0.2, np.nan:0})\r\n"
   ]
  },
  {
   "cell_type": "code",
   "execution_count": 40,
   "metadata": {},
   "outputs": [],
   "source": [
    "og_data.PavedDrive=og_data.PavedDrive.map({'Y':1, 'P':0.5, 'N':0})\r\n"
   ]
  },
  {
   "cell_type": "code",
   "execution_count": 41,
   "metadata": {},
   "outputs": [],
   "source": [
    "og_data.PoolQC=og_data.PoolQC.map({'Ex':1, 'Gd':0.75, 'TA':0.5, \"Fa\":0.25, np.nan:0})\r\n"
   ]
  },
  {
   "cell_type": "code",
   "execution_count": 42,
   "metadata": {},
   "outputs": [],
   "source": [
    "og_data.Fence=og_data.Fence.map({'GdPrv':1, 'MnPrv':0.75, 'GdWo':0.5, \"MnWw\":0.25, np.nan:0})\r\n"
   ]
  },
  {
   "cell_type": "code",
   "execution_count": 43,
   "metadata": {},
   "outputs": [],
   "source": [
    "ohe=prep.OneHotEncoder()\r\n",
    "pca=TruncatedSVD(n_components=1)\r\n",
    "\r\n",
    "matrix=ohe.fit_transform(og_data[\"MiscFeature\"].values.reshape(-1,1))\r\n",
    "ncol=pca.fit_transform(matrix)\r\n",
    "og_data[\"MiscFeature\"]=ncol"
   ]
  },
  {
   "cell_type": "code",
   "execution_count": 51,
   "metadata": {},
   "outputs": [],
   "source": [
    "ohe=prep.OneHotEncoder()\r\n",
    "pca=TruncatedSVD(n_components=1)\r\n",
    "\r\n",
    "matrix=ohe.fit_transform(og_data[\"SaleType\"].values.reshape(-1,1))\r\n",
    "ncol=pca.fit_transform(matrix)\r\n",
    "og_data[\"SaleType\"]=ncol"
   ]
  },
  {
   "cell_type": "code",
   "execution_count": 52,
   "metadata": {},
   "outputs": [],
   "source": [
    "og_data.SaleCondition=og_data.SaleCondition.map({'Normal':1, 'Abnorml':0.5, 'Family':0.75,\r\n",
    "                                                \"AdjLand\":1, \"Alloca\":1, \"Partial\":0.8})\r\n"
   ]
  },
  {
   "cell_type": "code",
   "execution_count": null,
   "metadata": {},
   "outputs": [],
   "source": [
    "og_data.to_csv(\"temp_data.csv\")"
   ]
  },
  {
   "cell_type": "markdown",
   "metadata": {},
   "source": []
  },
  {
   "cell_type": "code",
   "execution_count": null,
   "metadata": {},
   "outputs": [],
   "source": []
  }
 ],
 "metadata": {
  "interpreter": {
   "hash": "c4ba2975249f22329a2bfd4358de00082d7a2d8b97caacaf84290d52b0d66844"
  },
  "kernelspec": {
   "display_name": "Python 3.6.13 64-bit ('python36': conda)",
   "name": "python3"
  },
  "language_info": {
   "name": "python",
   "version": ""
  },
  "orig_nbformat": 4
 },
 "nbformat": 4,
 "nbformat_minor": 2
}