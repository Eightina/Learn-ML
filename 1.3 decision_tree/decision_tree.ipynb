{
    "cells": [
        {
            "cell_type": "markdown",
            "metadata": {},
            "source": [
                "# ***Decision Tree 决策树***"
            ]
        },
        {
            "cell_type": "markdown",
            "metadata": {},
            "source": [
                "# QA\n",
                "----\n",
                "## **1.采用信息增益、信息增益率作为决策树生⻓策略，有什么区别？**\n",
                "### a. ID3算法采用信息增益作为特征选择的标准，而C4.5作为ID3的改进使用了信息增益率作为标准。这一改变是为了解决在ID3算法中出现的，信息增益主导的特征选择偏向取值更多的特征的问题。\n",
                "### b. 对于信息增益的计算，分布相同的情况下，取值更多的特征的信息增益更大，但是他们本来都是不确定的，不应该有一方偏大。特别是对于连续量或者取值很多的离散量的情况下这个问题比较严重，极限情况下条件熵趋于0，使得信息增益明显偏大。\n",
                "### c. 而信息增益率是信息增益除以特征熵，特征取值越多其熵也越大，能够一定程度矫正前面的问题。\n",
                "\n",
                "\n",
                "-----\n",
                "\n",
                "## **2. 其他条件一致，对样本某变量进行单调非线性变化，是否会影响决策树生⻓，为什么？**\n",
                "### 只要变化是单调的应该就不会。以C4.5算法为例，如果该特征是离散的，那么特征具体取值的变化不会影响条件熵和特征熵以及信息增益的计算，从而不会影响决策树生长。如果该特征是连续的，也需要进行离散化处理，也是取两两相邻样本值的平均作为二分点，所以只要变化是单调的，这里的划分情况都和原来没有区别。\n",
                "\n",
                "----\n",
                "\n",
                "## **3.随机森林参数有哪些重要的参数，分别的作用是什么？**\n",
                "### a. 决策树个数n_esitinators:决策树的个数，太少容易欠拟合，太多计算量太大。\n",
                "### b. 最大特征数max_features:每棵树选择建立模型的最多特征数。由于模型每个节点随机采用部分特征n_sub用于决策树训练，这个参数决定了n_sub的最大值。n_sub越小，则模型越健壮，当然此时对于训练集的拟合程度会变差。也就是说nsub越小，模型的方差会减小，但是偏倚会增大。\n",
                "### c. 树最大深度max_depth:决定每棵树的最大深度。一般来说，数据少或者特征少的时候可以不管这个值。如果模型样本量多，特征也多的情况下，推荐限制这个最大深度，具体的取值取决于数据的分布。常用的可以取值10-100之间。\n",
                "### d. 最大叶子结点数mas_leaf_nodes:一般情况下，决策树的深度越深，叶节点个数越多，树的复杂度越高。随机森林的复杂度与训练样本数和树的个数成正比。\n",
                "\n",
                "----\n",
                "\n",
                "## **4. 多个模型预测结果做Average融合，模型间具备怎样的特点会取得更好的效果？**\n",
                "### 模型最好互不相同，这样各模型的误差相关性低，不会造成错误的叠加，\n"
            ]
        },
        {
            "cell_type": "markdown",
            "metadata": {},
            "source": [
                "\n",
                "# ***Titanic***\n",
                "## test survival on the Titanic\n",
                "## 尝试用随机森林提交预测结果，并调整模型参数提升成绩\n",
                "## 尝试利用Average融合思路设计随机森林&逻辑回归融合\n",
                "\n"
            ]
        },
        {
            "cell_type": "code",
            "execution_count": 3,
            "metadata": {},
            "outputs": [],
            "source": [
                "import pandas as pd\n",
                "import numpy as np\n",
                "from matplotlib import pyplot as plt\n",
                "import seaborn as sns\n",
                "from sklearn.preprocessing import OneHotEncoder\n",
                "from sklearn.decomposition import PCA\n",
                "train = pd.read_csv('train.csv')\n",
                "test = pd.read_csv('test.csv')"
            ]
        },
        {
            "cell_type": "markdown",
            "metadata": {},
            "source": [
                "----\n",
                "## 1. 在1.2处理好的数据基础上进行随机森林分类\n",
                "### 观察并选择特征，做好处理。进行随机森林分类并调优。"
            ]
        },
        {
            "cell_type": "code",
            "execution_count": 4,
            "metadata": {},
            "outputs": [],
            "source": [
                "train=pd.read_csv('train_processed.csv')\n",
                "test=pd.read_csv('test_precessed.csv')\n",
                "train.isnull().sum()\n",
                "test.isnull().sum()"
            ]
        },
        {
            "cell_type": "markdown",
            "metadata": {},
            "source": [
                "### 共线性对决策树和随机森林有影响吗\n",
                "\n",
                "一般来说做线性回归或其他回归问题前会做共线性检验，如果存在比较严重的共线性问题时要用特定算法或者降维处理。而决策树和随机森林的预测能力不受多重共线性影响。\n",
                "\n",
                "但是决策树和随机森林的数据解释性会被多重共线性影响。随机森林可以返回特征的重要性（importantce），当有多重共线性时，importance会被影响。一些具体多重共线性的特征的重要性会被相互抵消，从而影响我们解释和理解特征。比如说，特征A和B完全一样，我们在用随机森林时，它们的重要性应该非常接近（考虑到随机性）。如果我们在训练前删除特征B，那么特征A的重要性就会翻番。这一下子就影响了我们对特征、数据的理解。\n",
                "\n",
                "考虑到两个亲友关系特征的共线性关系，进行降维处理。"
            ]
        },
        {
            "cell_type": "code",
            "execution_count": 6,
            "metadata": {},
            "outputs": [],
            "source": [
                "train=pd.read_csv('train_processed.csv')\n",
                "test=pd.read_csv('test_precessed.csv')\n",
                "train.isnull().sum()\n",
                "test.isnull().sum()\n",
                "pca=PCA(n_components=1)\n",
                "ncol=pca.fit_transform(train[['SibSp','Parch']])\n",
                "train[\"Companion\"]=ncol\n",
                "pca=PCA(n_components=1)\n",
                "ncol=pca.fit_transform(test[['SibSp','Parch']])\n",
                "test[\"Companion\"]=ncol\n",
                "\n",
                "df_train = pd.get_dummies(train, columns=[\"Pclass\",\"Embarked\",\"Sex\"])\n",
                "df_train.drop('Sex_female', axis=1, inplace=True)\n",
                "df_train.drop('PassengerId', axis=1, inplace=True)\n",
                "df_train.drop('Ticket', axis=1, inplace=True)\n",
                "df_train.drop('SibSp', axis=1, inplace=True)\n",
                "df_train.drop('Parch', axis=1, inplace=True)\n",
                "\n",
                "df_test = pd.get_dummies(test, columns=[\"Pclass\",\"Embarked\",\"Sex\"])\n",
                "df_test.drop('Sex_female', axis=1, inplace=True)\n",
                "df_test.drop('PassengerId', axis=1, inplace=True)\n",
                "df_test.drop('Ticket', axis=1, inplace=True)\n",
                "df_test.drop('SibSp', axis=1, inplace=True)\n",
                "df_test.drop('Parch', axis=1, inplace=True)\n",
                "\n",
                "from sklearn.preprocessing import StandardScaler\n",
                "from sklearn.model_selection import GridSearchCV\n",
                "from sklearn.ensemble import RandomForestClassifier\n",
                "\n",
                "scaler = StandardScaler()\n",
                "y = df_train.Survived\n",
                "df_train = scaler.fit_transform(df_train.drop('Survived',axis=1))\n",
                "df_test = scaler.transform(df_test)\n",
                "X = df_train\n",
                "\n"
            ]
        },
        {
            "cell_type": "markdown",
            "metadata": {},
            "source": [
                "先调试框架参数"
            ]
        },
        {
            "cell_type": "code",
            "execution_count": 13,
            "metadata": {},
            "outputs": [
                {
                    "data": {
                        "text/plain": [
                            "GridSearchCV(estimator=RandomForestClassifier(), n_jobs=-1,\n",
                            "             param_grid={'n_estimators': range(1, 200, 10)},\n",
                            "             return_train_score=True, scoring='roc_auc')"
                        ]
                    },
                    "execution_count": 13,
                    "metadata": {},
                    "output_type": "execute_result"
                }
            ],
            "source": [
                "estimator = RandomForestClassifier()\n",
                "# test_size=0.3\n",
                "# X_train, X_test, y_train, y_test = train_test_split(test_size, y, test_size=test_size, random_state=9)\n",
                "\n",
                "params0 = {'n_estimators': range(1, 200 ,10)}\n",
                "\n",
                "grid_search0 = GridSearchCV(estimator=estimator, \n",
                "                        return_train_score=True,\n",
                "                        n_jobs=-1, \n",
                "                        param_grid=params0, \n",
                "                        scoring='roc_auc')\n",
                "grid_search0.fit(X,y)"
            ]
        },
        {
            "cell_type": "code",
            "execution_count": 19,
            "metadata": {},
            "outputs": [
                {
                    "data": {
                        "text/plain": [
                            "(0.8635302987641733, {'n_estimators': 161})"
                        ]
                    },
                    "execution_count": 19,
                    "metadata": {},
                    "output_type": "execute_result"
                }
            ],
            "source": [
                "grid_search0.best_score_, grid_search0.best_params_"
            ]
        },
        {
            "cell_type": "code",
            "execution_count": 35,
            "metadata": {},
            "outputs": [
                {
                    "data": {
                        "text/plain": [
                            "0.8114478114478114"
                        ]
                    },
                    "execution_count": 35,
                    "metadata": {},
                    "output_type": "execute_result"
                }
            ],
            "source": [
                "rf_clf0 = RandomForestClassifier(n_estimators=161, oob_score=True)\n",
                "rf_clf0.fit(X,y).oob_score_\n"
            ]
        },
        {
            "cell_type": "markdown",
            "metadata": {},
            "source": [
                "下面调试树参数"
            ]
        },
        {
            "cell_type": "code",
            "execution_count": 39,
            "metadata": {},
            "outputs": [
                {
                    "name": "stderr",
                    "output_type": "stream",
                    "text": [
                        "D:\\programs\\envs\\python36\\lib\\site-packages\\sklearn\\model_selection\\_search.py:925: UserWarning: One or more of the test scores are non-finite: [       nan 0.85666534 0.8570589  0.85568956 0.85633378 0.85429838\n",
                        " 0.85551785 0.8549406  0.85451379 0.85639632        nan 0.86086227\n",
                        " 0.85598736 0.85522775 0.85620154 0.85508796 0.85644797 0.86059974\n",
                        " 0.85488787 0.85557713        nan 0.87069391 0.8680906  0.86924241\n",
                        " 0.87060769 0.87091289 0.86834387 0.86766148 0.86898389 0.86850377\n",
                        "        nan 0.86746304 0.86877518 0.86842911 0.86727324 0.86946232\n",
                        " 0.86815754 0.86611732 0.8662131  0.86834571        nan 0.87195687\n",
                        " 0.87032395 0.86902788 0.87041639 0.87082012 0.874207   0.87387758\n",
                        " 0.87084599 0.87047921        nan 0.86910282 0.87189549 0.86951229\n",
                        " 0.87235929 0.87187026 0.8691537  0.87084293 0.86780795 0.87307147\n",
                        "        nan 0.873018   0.87513804 0.87344178 0.87499587 0.87425941\n",
                        " 0.87410969 0.87450848 0.87550655 0.87531731        nan 0.87234978\n",
                        " 0.87432631 0.87335295 0.8751648  0.87315934 0.87581048 0.8768964\n",
                        " 0.87319282 0.87554821        nan 0.86795367 0.87373543 0.87521801\n",
                        " 0.87734866 0.87630704 0.87738436 0.87807484 0.87823315 0.87634385\n",
                        "        nan 0.87170064 0.87578223 0.87348577 0.87634672 0.87712455\n",
                        " 0.87630211 0.87687662 0.8734134  0.87584432        nan 0.86664593\n",
                        " 0.87361128 0.87378295 0.87580514 0.87344454 0.87736488 0.87630124\n",
                        " 0.87899473 0.87664296        nan 0.87389556 0.87525147 0.87644166\n",
                        " 0.87795033 0.87780153 0.8766561  0.87604196 0.87574671 0.87695225\n",
                        "        nan 0.86325725 0.87118589 0.87120453 0.8754416  0.87913826\n",
                        " 0.87718761 0.87904701 0.8808349  0.878172          nan 0.87585267\n",
                        " 0.87360645 0.87360813 0.87546514 0.87746491 0.87751768 0.87662214\n",
                        " 0.87938719 0.87607334        nan 0.86116507 0.87079189 0.87389469\n",
                        " 0.87639374 0.87549852 0.87854716 0.87995517 0.87814627 0.8769182\n",
                        "        nan 0.87450115 0.8749543  0.87735216 0.87817449 0.87711157\n",
                        " 0.8763847  0.87609178 0.87760243 0.87950847        nan 0.8646451\n",
                        " 0.87200325 0.87261194 0.87552081 0.87511677 0.87800805 0.87708026\n",
                        " 0.88064636 0.8781034         nan 0.87316682 0.87223946 0.87693428\n",
                        " 0.87715904 0.87682855 0.87803378 0.87577564 0.87808289 0.876022  ]\n",
                        "  category=UserWarning\n",
                        "D:\\programs\\envs\\python36\\lib\\site-packages\\sklearn\\model_selection\\_search.py:925: UserWarning: One or more of the train scores are non-finite: [       nan 0.8799548  0.87802132 0.8793287  0.87846355 0.87726477\n",
                        " 0.87780813 0.87813954 0.87793288 0.87690782        nan 0.8783291\n",
                        " 0.87875517 0.8780704  0.87794527 0.87783754 0.87619835 0.87805005\n",
                        " 0.87686376 0.87717261        nan 0.91572529 0.91601826 0.91376315\n",
                        " 0.91215422 0.91077005 0.90965558 0.90829678 0.9070775  0.90802968\n",
                        "        nan 0.91371325 0.91238061 0.91177368 0.91121042 0.90987899\n",
                        " 0.90778207 0.9073025  0.90733651 0.90616485        nan 0.95517158\n",
                        " 0.95129981 0.94823777 0.94423516 0.94145525 0.93767995 0.93451432\n",
                        " 0.93199255 0.9296362         nan 0.94668608 0.94492385 0.94338642\n",
                        " 0.94023728 0.93713657 0.9350651  0.93254685 0.92936076 0.92793479\n",
                        "        nan 0.97803536 0.97150351 0.96550114 0.96003315 0.95535607\n",
                        " 0.95091296 0.94750288 0.94327    0.94061136        nan 0.96391611\n",
                        " 0.96171219 0.95801418 0.95385455 0.94964246 0.94634618 0.94240082\n",
                        " 0.93886372 0.93560848        nan 0.98891952 0.98124207 0.97492801\n",
                        " 0.96828877 0.96239015 0.95687087 0.95305144 0.9488677  0.94485786\n",
                        "        nan 0.97318892 0.97066298 0.96501666 0.95992642 0.95521616\n",
                        " 0.95090915 0.94702586 0.94273336 0.93994642        nan 0.99368305\n",
                        " 0.98576445 0.97888728 0.97183193 0.96607273 0.96051697 0.95542346\n",
                        " 0.95155013 0.94670182        nan 0.97672469 0.97424216 0.96734625\n",
                        " 0.96302029 0.95707201 0.95317426 0.94904045 0.94522648 0.94152358\n",
                        "        nan 0.99504269 0.98791875 0.98024241 0.97366454 0.96697935\n",
                        " 0.96170226 0.95608272 0.95245218 0.94766665        nan 0.97799322\n",
                        " 0.97579374 0.96923986 0.96410418 0.95877271 0.95385259 0.94954668\n",
                        " 0.94654275 0.94247653        nan 0.9955587  0.98834911 0.98100878\n",
                        " 0.97423866 0.96761571 0.96140026 0.95662533 0.9523195  0.94854863\n",
                        "        nan 0.97831435 0.97619434 0.9700195  0.96395479 0.95862573\n",
                        " 0.95470039 0.94937513 0.94619664 0.94232137        nan 0.99551067\n",
                        " 0.98851314 0.98106931 0.97391946 0.96789766 0.96216257 0.95652566\n",
                        " 0.95222412 0.94821115        nan 0.97833278 0.9761356  0.96991039\n",
                        " 0.96436351 0.95866726 0.95401644 0.94988856 0.94578016 0.94273822]\n",
                        "  category=UserWarning\n"
                    ]
                },
                {
                    "data": {
                        "text/plain": [
                            "GridSearchCV(estimator=RandomForestClassifier(n_estimators=161), n_jobs=-1,\n",
                            "             param_grid={'max_depth': range(3, 20, 2),\n",
                            "                         'min_samples_leaf': range(1, 3),\n",
                            "                         'min_samples_split': range(1, 20, 2)},\n",
                            "             return_train_score=True, scoring='roc_auc')"
                        ]
                    },
                    "execution_count": 39,
                    "metadata": {},
                    "output_type": "execute_result"
                }
            ],
            "source": [
                "estimator = RandomForestClassifier(n_estimators=161)\n",
                "# test_size=0.3\n",
                "# X_train, X_test, y_train, y_test = train_test_split(test_size, y, test_size=test_size, random_state=9)\n",
                "\n",
                "params1 = {'max_depth':range(3,20,2),\n",
                "        'min_samples_split':range(1,20,2),\n",
                "        'min_samples_leaf':range(1,3)}\n",
                "\n",
                "grid_search1 = GridSearchCV(estimator=estimator, \n",
                "                        return_train_score=True,\n",
                "                        n_jobs=-1, \n",
                "                        param_grid=params1, \n",
                "                        scoring='roc_auc')\n",
                "grid_search1.fit(X,y)"
            ]
        },
        {
            "cell_type": "code",
            "execution_count": 40,
            "metadata": {},
            "outputs": [
                {
                    "data": {
                        "text/plain": [
                            "(0.8808348993584451,\n",
                            " {'max_depth': 15, 'min_samples_leaf': 1, 'min_samples_split': 17})"
                        ]
                    },
                    "execution_count": 40,
                    "metadata": {},
                    "output_type": "execute_result"
                }
            ],
            "source": [
                "grid_search1.best_score_, grid_search1.best_params_"
            ]
        },
        {
            "cell_type": "code",
            "execution_count": 14,
            "metadata": {},
            "outputs": [
                {
                    "data": {
                        "text/plain": [
                            "0.819304152637486"
                        ]
                    },
                    "execution_count": 14,
                    "metadata": {},
                    "output_type": "execute_result"
                }
            ],
            "source": [
                "rf_clf1 = RandomForestClassifier(n_estimators=161, oob_score=True,max_depth=15, min_samples_leaf=1, min_samples_split=17)\n",
                "rf_clf1.fit(X,y).oob_score_"
            ]
        },
        {
            "cell_type": "markdown",
            "metadata": {},
            "source": [
                "进一步调节"
            ]
        },
        {
            "cell_type": "code",
            "execution_count": 15,
            "metadata": {},
            "outputs": [
                {
                    "data": {
                        "text/plain": [
                            "(0.8792135887607391, {'criterion': 'entropy', 'max_features': 'auto'})"
                        ]
                    },
                    "execution_count": 15,
                    "metadata": {},
                    "output_type": "execute_result"
                }
            ],
            "source": [
                "estimator = RandomForestClassifier(n_estimators=161,\n",
                "                                oob_score=True,\n",
                "                                max_depth=15, \n",
                "                                min_samples_leaf=1, \n",
                "                                min_samples_split=17)\n",
                "# test_size=0.3\n",
                "# X_train, X_test, y_train, y_test = train_test_split(test_size, y, test_size=test_size, random_state=9)\n",
                "\n",
                "params2 = {'max_features':['sqrt', 'log2', 'auto'],\n",
                "        'criterion':['gini', 'entropy']}\n",
                "\n",
                "grid_search2 = GridSearchCV(estimator=estimator, \n",
                "                        return_train_score=True,\n",
                "                        n_jobs=-1, \n",
                "                        param_grid=params2, \n",
                "                        scoring='roc_auc')\n",
                "grid_search2.fit(X,y)\n",
                "grid_search2.best_score_, grid_search2.best_params_"
            ]
        },
        {
            "cell_type": "code",
            "execution_count": 17,
            "metadata": {},
            "outputs": [
                {
                    "data": {
                        "text/plain": [
                            "0.8327721661054994"
                        ]
                    },
                    "execution_count": 17,
                    "metadata": {},
                    "output_type": "execute_result"
                }
            ],
            "source": [
                "rf_clf2 = RandomForestClassifier(n_estimators=161, oob_score=True,max_depth=15, min_samples_leaf=1, min_samples_split=17,\n",
                "                                max_features='auto', criterion='entropy')\n",
                "rf_clf2.fit(X,y).oob_score_"
            ]
        },
        {
            "cell_type": "code",
            "execution_count": 112,
            "metadata": {},
            "outputs": [],
            "source": [
                "record=pd.DataFrame(grid_result.cv_results_)"
            ]
        },
        {
            "cell_type": "code",
            "execution_count": 58,
            "metadata": {},
            "outputs": [],
            "source": [
                "pred_result=rf_clf2.predict(df_test)"
            ]
        },
        {
            "cell_type": "code",
            "execution_count": 59,
            "metadata": {},
            "outputs": [],
            "source": [
                "temp=pd.read_csv('test.csv')\n",
                "submission={'PassengerId':temp.PassengerId,'Survived':pred_result}\n",
                "df_submission=pd.DataFrame(submission)\n",
                "df_submission.to_csv('submission_7.csv')"
            ]
        },
        {
            "cell_type": "markdown",
            "metadata": {},
            "source": [
                "----\n",
                "## 2. 逻辑回归与随机森林模型averaging融合\n",
                "### 先构建逻辑回归，然后保存两者预测概率，再观察两者预测概率结果的相关性\n"
            ]
        },
        {
            "cell_type": "code",
            "execution_count": 40,
            "metadata": {},
            "outputs": [],
            "source": [
                "train1=pd.read_csv('train_processed.csv')\n",
                "test1=pd.read_csv('test_precessed.csv')\n",
                "pca=PCA(n_components=1)\n",
                "ncol=pca.fit_transform(train1[['SibSp','Parch']])\n",
                "train1[\"Companion\"]=ncol\n",
                "pca=PCA(n_components=1)\n",
                "ncol=pca.fit_transform(test1[['SibSp','Parch']])\n",
                "test1[\"Companion\"]=ncol\n",
                "df_train1 = pd.get_dummies(train1, columns=[\"Pclass\",\"Embarked\",\"Sex\"])\n",
                "df_train1.drop('Sex_female', axis=1, inplace=True)\n",
                "df_train1.drop('PassengerId', axis=1, inplace=True)\n",
                "df_train1.drop('Ticket', axis=1, inplace=True)\n",
                "df_train1.drop('SibSp', axis=1, inplace=True)\n",
                "df_train1.drop('Parch', axis=1, inplace=True)\n",
                "df_test1 = pd.get_dummies(test1, columns=[\"Pclass\",\"Embarked\",\"Sex\"])\n",
                "df_test1.drop('Sex_female', axis=1, inplace=True)\n",
                "df_test1.drop('PassengerId', axis=1, inplace=True)\n",
                "df_test1.drop('Ticket', axis=1, inplace=True)\n",
                "df_test1.drop('SibSp', axis=1, inplace=True)\n",
                "df_test1.drop('Parch', axis=1, inplace=True)\n",
                "picked_features = ['Age', 'Companion', 'Pclass_1', 'Pclass_2', 'Pclass_3', 'Embarked_C', 'Embarked_Q', 'Embarked_S', 'Sex_male']\\\n",
                "\n",
                "\n",
                "X1 = df_train1[picked_features]\n",
                "y = df_train1.Survived\n",
                "df_test1=df_test1[picked_features]\n",
                "scaler = StandardScaler()\n",
                "X1 = scaler.fit_transform(X1)\n",
                "df_test1 = scaler.transform(df_test1)\n",
                "\n",
                "\n",
                "from sklearn.linear_model import LogisticRegression\n",
                "model = LogisticRegression()\n",
                "model.fit(X1, y)\n",
                "result=model.predict_proba(df_test1)[:,1]\n",
                "temp=pd.read_csv('test.csv')\n",
                "submission={'PassengerId':temp.PassengerId,'Survived':result}\n",
                "df_submission=pd.DataFrame(submission)\n",
                "df_submission.to_csv('prob_logistic.csv')\n",
                "pred_prob=rf_clf2.predict_proba(df_test)[:,1]\n",
                "temp=pd.read_csv('test.csv')\n",
                "submission={'PassengerId':temp.PassengerId,'Survived':pred_prob}\n",
                "df_submission=pd.DataFrame(submission)\n",
                "df_submission.to_csv('prob_rf.csv')\n",
                "\n",
                "\n",
                "\n",
                "prob_logistic = pd.read_csv('prob_logistic.csv')\n",
                "prob_rf = pd.read_csv('prob_rf.csv')\n",
                "prob_logistic['logistic']=prob_logistic['Survived']\n",
                "prob_logistic.drop('Survived',axis=1,inplace=True)\n",
                "prob_rf['rf'] = prob_rf['Survived']\n",
                "prob_rf.drop('Survived',axis=1,inplace=True)\n",
                "\n",
                "prob_logistic['rf']=prob_rf['rf']\n",
                "n_df=prob_logistic.drop(['PassengerId'], axis=1)"
            ]
        },
        {
            "cell_type": "code",
            "execution_count": 52,
            "metadata": {},
            "outputs": [
                {
                    "data": {
                        "text/plain": [
                            "<AxesSubplot:>"
                        ]
                    },
                    "execution_count": 52,
                    "metadata": {},
                    "output_type": "execute_result"
                },
                {
                    "data": {
                        "image/png": "[encoded data removed]",
                        "image/svg+xml": "<?xml version=\"1.0\" encoding=\"utf-8\" standalone=\"no\"?>\r\n<!DOCTYPE svg PUBLIC \"-//W3C//DTD SVG 1.1//EN\"\r\n  \"http://www.w3.org/Graphics/SVG/1.1/DTD/svg11.dtd\">\r\n<!-- Created with matplotlib (https://matplotlib.org/) -->\r\n<svg height=\"252.317344pt\" version=\"1.1\" viewBox=\"0 0 355.79575 252.317344\" width=\"355.79575pt\" xmlns=\"http://www.w3.org/2000/svg\" xmlns:xlink=\"http://www.w3.org/1999/xlink\">\r\n <metadata>\r\n  <rdf:RDF xmlns:cc=\"http://creativecommons.org/ns#\" xmlns:dc=\"http://purl.org/dc/elements/1.1/\" xmlns:rdf=\"http://www.w3.org/1999/02/22-rdf-syntax-ns#\">\r\n   <cc:Work>\r\n    <dc:type rdf:resource=\"http://purl.org/dc/dcmitype/StillImage\"/>\r\n    <dc:date>2021-08-15T13:29:02.463174</dc:date>\r\n    <dc:format>image/svg+xml</dc:format>\r\n    <dc:creator>\r\n     <cc:Agent>\r\n      <dc:title>Matplotlib v3.3.4, https://matplotlib.org/</dc:title>\r\n     </cc:Agent>\r\n    </dc:creator>\r\n   </cc:Work>\r\n  </rdf:RDF>\r\n </metadata>\r\n <defs>\r\n  <style type=\"text/css\">*{stroke-linecap:butt;stroke-linejoin:round;}</style>\r\n </defs>\r\n <g id=\"figure_1\">\r\n  <g id=\"patch_1\">\r\n   <path d=\"M -0 252.317344 \r\nL 355.79575 252.317344 \r\nL 355.79575 0 \r\nL -0 0 \r\nz\r\n\" style=\"fill:none;\"/>\r\n  </g>\r\n  <g id=\"axes_1\">\r\n   <g id=\"patch_2\">\r\n    <path d=\"M 23.878125 228.439219 \r\nL 291.718125 228.439219 \r\nL 291.718125 10.999219 \r\nL 23.878125 10.999219 \r\nz\r\n\" style=\"fill:#ffffff;\"/>\r\n   </g>\r\n   <g id=\"QuadMesh_1\">\r\n    <path clip-path=\"url(#p826895d464)\" d=\"M 23.878125 10.999219 \r\nL 157.798125 10.999219 \r\nL 157.798125 119.719219 \r\nL 23.878125 119.719219 \r\nL 23.878125 10.999219 \r\n\" style=\"fill:#faebdd;\"/>\r\n    <path clip-path=\"url(#p826895d464)\" d=\"M 157.798125 10.999219 \r\nL 291.718125 10.999219 \r\nL 291.718125 119.719219 \r\nL 157.798125 119.719219 \r\nL 157.798125 10.999219 \r\n\" style=\"fill:#03051a;\"/>\r\n    <path clip-path=\"url(#p826895d464)\" d=\"M 23.878125 119.719219 \r\nL 157.798125 119.719219 \r\nL 157.798125 228.439219 \r\nL 23.878125 228.439219 \r\nL 23.878125 119.719219 \r\n\" style=\"fill:#03051a;\"/>\r\n    <path clip-path=\"url(#p826895d464)\" d=\"M 157.798125 119.719219 \r\nL 291.718125 119.719219 \r\nL 291.718125 228.439219 \r\nL 157.798125 228.439219 \r\nL 157.798125 119.719219 \r\n\" style=\"fill:#faebdd;\"/>\r\n   </g>\r\n   <g id=\"matplotlib.axis_1\">\r\n    <g id=\"xtick_1\">\r\n     <g id=\"line2d_1\">\r\n      <defs>\r\n       <path d=\"M 0 0 \r\nL 0 3.5 \r\n\" id=\"md9ae84b320\" style=\"stroke:#000000;stroke-width:0.8;\"/>\r\n      </defs>\r\n      <g>\r\n       <use style=\"stroke:#000000;stroke-width:0.8;\" x=\"90.838125\" xlink:href=\"#md9ae84b320\" y=\"228.439219\"/>\r\n      </g>\r\n     </g>\r\n     <g id=\"text_1\">\r\n      <!-- logistic -->\r\n      <g transform=\"translate(73.123281 243.037656)scale(0.1 -0.1)\">\r\n       <defs>\r\n        <path d=\"M 9.421875 75.984375 \r\nL 18.40625 75.984375 \r\nL 18.40625 0 \r\nL 9.421875 0 \r\nz\r\n\" id=\"DejaVuSans-108\"/>\r\n        <path d=\"M 30.609375 48.390625 \r\nQ 23.390625 48.390625 19.1875 42.75 \r\nQ 14.984375 37.109375 14.984375 27.296875 \r\nQ 14.984375 17.484375 19.15625 11.84375 \r\nQ 23.34375 6.203125 30.609375 6.203125 \r\nQ 37.796875 6.203125 41.984375 11.859375 \r\nQ 46.1875 17.53125 46.1875 27.296875 \r\nQ 46.1875 37.015625 41.984375 42.703125 \r\nQ 37.796875 48.390625 30.609375 48.390625 \r\nz\r\nM 30.609375 56 \r\nQ 42.328125 56 49.015625 48.375 \r\nQ 55.71875 40.765625 55.71875 27.296875 \r\nQ 55.71875 13.875 49.015625 6.21875 \r\nQ 42.328125 -1.421875 30.609375 -1.421875 \r\nQ 18.84375 -1.421875 12.171875 6.21875 \r\nQ 5.515625 13.875 5.515625 27.296875 \r\nQ 5.515625 40.765625 12.171875 48.375 \r\nQ 18.84375 56 30.609375 56 \r\nz\r\n\" id=\"DejaVuSans-111\"/>\r\n        <path d=\"M 45.40625 27.984375 \r\nQ 45.40625 37.75 41.375 43.109375 \r\nQ 37.359375 48.484375 30.078125 48.484375 \r\nQ 22.859375 48.484375 18.828125 43.109375 \r\nQ 14.796875 37.75 14.796875 27.984375 \r\nQ 14.796875 18.265625 18.828125 12.890625 \r\nQ 22.859375 7.515625 30.078125 7.515625 \r\nQ 37.359375 7.515625 41.375 12.890625 \r\nQ 45.40625 18.265625 45.40625 27.984375 \r\nz\r\nM 54.390625 6.78125 \r\nQ 54.390625 -7.171875 48.1875 -13.984375 \r\nQ 42 -20.796875 29.203125 -20.796875 \r\nQ 24.46875 -20.796875 20.265625 -20.09375 \r\nQ 16.0625 -19.390625 12.109375 -17.921875 \r\nL 12.109375 -9.1875 \r\nQ 16.0625 -11.328125 19.921875 -12.34375 \r\nQ 23.78125 -13.375 27.78125 -13.375 \r\nQ 36.625 -13.375 41.015625 -8.765625 \r\nQ 45.40625 -4.15625 45.40625 5.171875 \r\nL 45.40625 9.625 \r\nQ 42.625 4.78125 38.28125 2.390625 \r\nQ 33.9375 0 27.875 0 \r\nQ 17.828125 0 11.671875 7.65625 \r\nQ 5.515625 15.328125 5.515625 27.984375 \r\nQ 5.515625 40.671875 11.671875 48.328125 \r\nQ 17.828125 56 27.875 56 \r\nQ 33.9375 56 38.28125 53.609375 \r\nQ 42.625 51.21875 45.40625 46.390625 \r\nL 45.40625 54.6875 \r\nL 54.390625 54.6875 \r\nz\r\n\" id=\"DejaVuSans-103\"/>\r\n        <path d=\"M 9.421875 54.6875 \r\nL 18.40625 54.6875 \r\nL 18.40625 0 \r\nL 9.421875 0 \r\nz\r\nM 9.421875 75.984375 \r\nL 18.40625 75.984375 \r\nL 18.40625 64.59375 \r\nL 9.421875 64.59375 \r\nz\r\n\" id=\"DejaVuSans-105\"/>\r\n        <path d=\"M 44.28125 53.078125 \r\nL 44.28125 44.578125 \r\nQ 40.484375 46.53125 36.375 47.5 \r\nQ 32.28125 48.484375 27.875 48.484375 \r\nQ 21.1875 48.484375 17.84375 46.4375 \r\nQ 14.5 44.390625 14.5 40.28125 \r\nQ 14.5 37.15625 16.890625 35.375 \r\nQ 19.28125 33.59375 26.515625 31.984375 \r\nL 29.59375 31.296875 \r\nQ 39.15625 29.25 43.1875 25.515625 \r\nQ 47.21875 21.78125 47.21875 15.09375 \r\nQ 47.21875 7.46875 41.1875 3.015625 \r\nQ 35.15625 -1.421875 24.609375 -1.421875 \r\nQ 20.21875 -1.421875 15.453125 -0.5625 \r\nQ 10.6875 0.296875 5.421875 2 \r\nL 5.421875 11.28125 \r\nQ 10.40625 8.6875 15.234375 7.390625 \r\nQ 20.0625 6.109375 24.8125 6.109375 \r\nQ 31.15625 6.109375 34.5625 8.28125 \r\nQ 37.984375 10.453125 37.984375 14.40625 \r\nQ 37.984375 18.0625 35.515625 20.015625 \r\nQ 33.0625 21.96875 24.703125 23.78125 \r\nL 21.578125 24.515625 \r\nQ 13.234375 26.265625 9.515625 29.90625 \r\nQ 5.8125 33.546875 5.8125 39.890625 \r\nQ 5.8125 47.609375 11.28125 51.796875 \r\nQ 16.75 56 26.8125 56 \r\nQ 31.78125 56 36.171875 55.265625 \r\nQ 40.578125 54.546875 44.28125 53.078125 \r\nz\r\n\" id=\"DejaVuSans-115\"/>\r\n        <path d=\"M 18.3125 70.21875 \r\nL 18.3125 54.6875 \r\nL 36.8125 54.6875 \r\nL 36.8125 47.703125 \r\nL 18.3125 47.703125 \r\nL 18.3125 18.015625 \r\nQ 18.3125 11.328125 20.140625 9.421875 \r\nQ 21.96875 7.515625 27.59375 7.515625 \r\nL 36.8125 7.515625 \r\nL 36.8125 0 \r\nL 27.59375 0 \r\nQ 17.1875 0 13.234375 3.875 \r\nQ 9.28125 7.765625 9.28125 18.015625 \r\nL 9.28125 47.703125 \r\nL 2.6875 47.703125 \r\nL 2.6875 54.6875 \r\nL 9.28125 54.6875 \r\nL 9.28125 70.21875 \r\nz\r\n\" id=\"DejaVuSans-116\"/>\r\n        <path d=\"M 48.78125 52.59375 \r\nL 48.78125 44.1875 \r\nQ 44.96875 46.296875 41.140625 47.34375 \r\nQ 37.3125 48.390625 33.40625 48.390625 \r\nQ 24.65625 48.390625 19.8125 42.84375 \r\nQ 14.984375 37.3125 14.984375 27.296875 \r\nQ 14.984375 17.28125 19.8125 11.734375 \r\nQ 24.65625 6.203125 33.40625 6.203125 \r\nQ 37.3125 6.203125 41.140625 7.25 \r\nQ 44.96875 8.296875 48.78125 10.40625 \r\nL 48.78125 2.09375 \r\nQ 45.015625 0.34375 40.984375 -0.53125 \r\nQ 36.96875 -1.421875 32.421875 -1.421875 \r\nQ 20.0625 -1.421875 12.78125 6.34375 \r\nQ 5.515625 14.109375 5.515625 27.296875 \r\nQ 5.515625 40.671875 12.859375 48.328125 \r\nQ 20.21875 56 33.015625 56 \r\nQ 37.15625 56 41.109375 55.140625 \r\nQ 45.0625 54.296875 48.78125 52.59375 \r\nz\r\n\" id=\"DejaVuSans-99\"/>\r\n       </defs>\r\n       <use xlink:href=\"#DejaVuSans-108\"/>\r\n       <use x=\"27.783203\" xlink:href=\"#DejaVuSans-111\"/>\r\n       <use x=\"88.964844\" xlink:href=\"#DejaVuSans-103\"/>\r\n       <use x=\"152.441406\" xlink:href=\"#DejaVuSans-105\"/>\r\n       <use x=\"180.224609\" xlink:href=\"#DejaVuSans-115\"/>\r\n       <use x=\"232.324219\" xlink:href=\"#DejaVuSans-116\"/>\r\n       <use x=\"271.533203\" xlink:href=\"#DejaVuSans-105\"/>\r\n       <use x=\"299.316406\" xlink:href=\"#DejaVuSans-99\"/>\r\n      </g>\r\n     </g>\r\n    </g>\r\n    <g id=\"xtick_2\">\r\n     <g id=\"line2d_2\">\r\n      <g>\r\n       <use style=\"stroke:#000000;stroke-width:0.8;\" x=\"224.758125\" xlink:href=\"#md9ae84b320\" y=\"228.439219\"/>\r\n      </g>\r\n     </g>\r\n     <g id=\"text_2\">\r\n      <!-- rf -->\r\n      <g transform=\"translate(220.9425 243.037656)scale(0.1 -0.1)\">\r\n       <defs>\r\n        <path d=\"M 41.109375 46.296875 \r\nQ 39.59375 47.171875 37.8125 47.578125 \r\nQ 36.03125 48 33.890625 48 \r\nQ 26.265625 48 22.1875 43.046875 \r\nQ 18.109375 38.09375 18.109375 28.8125 \r\nL 18.109375 0 \r\nL 9.078125 0 \r\nL 9.078125 54.6875 \r\nL 18.109375 54.6875 \r\nL 18.109375 46.1875 \r\nQ 20.953125 51.171875 25.484375 53.578125 \r\nQ 30.03125 56 36.53125 56 \r\nQ 37.453125 56 38.578125 55.875 \r\nQ 39.703125 55.765625 41.0625 55.515625 \r\nz\r\n\" id=\"DejaVuSans-114\"/>\r\n        <path d=\"M 37.109375 75.984375 \r\nL 37.109375 68.5 \r\nL 28.515625 68.5 \r\nQ 23.6875 68.5 21.796875 66.546875 \r\nQ 19.921875 64.59375 19.921875 59.515625 \r\nL 19.921875 54.6875 \r\nL 34.71875 54.6875 \r\nL 34.71875 47.703125 \r\nL 19.921875 47.703125 \r\nL 19.921875 0 \r\nL 10.890625 0 \r\nL 10.890625 47.703125 \r\nL 2.296875 47.703125 \r\nL 2.296875 54.6875 \r\nL 10.890625 54.6875 \r\nL 10.890625 58.5 \r\nQ 10.890625 67.625 15.140625 71.796875 \r\nQ 19.390625 75.984375 28.609375 75.984375 \r\nz\r\n\" id=\"DejaVuSans-102\"/>\r\n       </defs>\r\n       <use xlink:href=\"#DejaVuSans-114\"/>\r\n       <use x=\"41.113281\" xlink:href=\"#DejaVuSans-102\"/>\r\n      </g>\r\n     </g>\r\n    </g>\r\n   </g>\r\n   <g id=\"matplotlib.axis_2\">\r\n    <g id=\"ytick_1\">\r\n     <g id=\"line2d_3\">\r\n      <defs>\r\n       <path d=\"M 0 0 \r\nL -3.5 0 \r\n\" id=\"mdaa93d0c53\" style=\"stroke:#000000;stroke-width:0.8;\"/>\r\n      </defs>\r\n      <g>\r\n       <use style=\"stroke:#000000;stroke-width:0.8;\" x=\"23.878125\" xlink:href=\"#mdaa93d0c53\" y=\"65.359219\"/>\r\n      </g>\r\n     </g>\r\n     <g id=\"text_3\">\r\n      <!-- logistic -->\r\n      <g transform=\"translate(14.798437 96.989688)rotate(-90)scale(0.1 -0.1)\">\r\n       <use xlink:href=\"#DejaVuSans-108\"/>\r\n       <use x=\"27.783203\" xlink:href=\"#DejaVuSans-111\"/>\r\n       <use x=\"88.964844\" xlink:href=\"#DejaVuSans-103\"/>\r\n       <use x=\"152.441406\" xlink:href=\"#DejaVuSans-105\"/>\r\n       <use x=\"180.224609\" xlink:href=\"#DejaVuSans-115\"/>\r\n       <use x=\"232.324219\" xlink:href=\"#DejaVuSans-116\"/>\r\n       <use x=\"271.533203\" xlink:href=\"#DejaVuSans-105\"/>\r\n       <use x=\"299.316406\" xlink:href=\"#DejaVuSans-99\"/>\r\n      </g>\r\n     </g>\r\n    </g>\r\n    <g id=\"ytick_2\">\r\n     <g id=\"line2d_4\">\r\n      <g>\r\n       <use style=\"stroke:#000000;stroke-width:0.8;\" x=\"23.878125\" xlink:href=\"#mdaa93d0c53\" y=\"174.079219\"/>\r\n      </g>\r\n     </g>\r\n     <g id=\"text_4\">\r\n      <!-- rf -->\r\n      <g transform=\"translate(14.798438 177.91125)rotate(-90)scale(0.1 -0.1)\">\r\n       <use xlink:href=\"#DejaVuSans-114\"/>\r\n       <use x=\"41.113281\" xlink:href=\"#DejaVuSans-102\"/>\r\n      </g>\r\n     </g>\r\n    </g>\r\n   </g>\r\n  </g>\r\n  <g id=\"axes_2\">\r\n   <g id=\"patch_3\">\r\n    <path clip-path=\"url(#pf7af8857cd)\" d=\"M 308.458125 228.439219 \r\nL 308.458125 227.589844 \r\nL 308.458125 11.848594 \r\nL 308.458125 10.999219 \r\nL 319.330125 10.999219 \r\nL 319.330125 11.848594 \r\nL 319.330125 227.589844 \r\nL 319.330125 228.439219 \r\nz\r\n\" style=\"fill:#ffffff;stroke:#ffffff;stroke-linejoin:miter;stroke-width:0.01;\"/>\r\n   </g>\r\n   <image height=\"217\" id=\"image977d261860\" transform=\"scale(1 -1)translate(0 -217)\" width=\"11\" x=\"308\" xlink:href=\"data:image/png;base64,\r\niVBORw0KGgoAAAANSUhEUgAAAAsAAADZCAYAAAD2WsoCAAABX0lEQVR4nNWa2w0DMQjAeN0S3X/OXlfAH5ZovhEyhqS5qDnP543lmszcxtLgAMFdJWUurcAiGCgzsuFhHPHc6dk4MXWoQLEpNzKb7dZsaBgTaDb2y5wNrd0QY7/Mk58EjzZIzIbXbm9brUPp8HvqoA2AIarTmJGNI8wIg+1ukpkVuP48+FsbJJjY8DDmBgZrN2EehHHEhoYx7z61uAfrBgaykWExwwIBRjNmEgxEi+oSnAXTJLhIMMKAmdexMV1fKbNYIDjsGHM1sAGZAQZSJ9oYbTYQs6auwFWGYYQ3G14wuPeQxx6qjmUGN3OWGdwLJgiGx8wwwM8mzEyeLFBmGEze6zQbQZ4NPRtJbES3hIGa4nnO0QoU200yoz0IPnlVG6SDHgaywc461EFLHdzdGoZXIMrcaPhvMLN2o3nWNmzemDrRBinwxvBnP1Jmc/iJZ9Ju9C+LKwWydmtnnVXgD2R4KiPLLY7SAAAAAElFTkSuQmCC\" y=\"-11\"/>\r\n   <g id=\"matplotlib.axis_3\"/>\r\n   <g id=\"matplotlib.axis_4\">\r\n    <g id=\"ytick_3\">\r\n     <g id=\"line2d_5\">\r\n      <defs>\r\n       <path d=\"M 0 0 \r\nL 3.5 0 \r\n\" id=\"mab83775db9\" style=\"stroke:#000000;stroke-width:0.8;\"/>\r\n      </defs>\r\n      <g>\r\n       <use style=\"stroke:#000000;stroke-width:0.8;\" x=\"319.330125\" xlink:href=\"#mab83775db9\" y=\"210.221635\"/>\r\n      </g>\r\n     </g>\r\n     <g id=\"text_5\">\r\n      <!-- 0.90 -->\r\n      <g transform=\"translate(326.330125 214.020854)scale(0.1 -0.1)\">\r\n       <defs>\r\n        <path d=\"M 31.78125 66.40625 \r\nQ 24.171875 66.40625 20.328125 58.90625 \r\nQ 16.5 51.421875 16.5 36.375 \r\nQ 16.5 21.390625 20.328125 13.890625 \r\nQ 24.171875 6.390625 31.78125 6.390625 \r\nQ 39.453125 6.390625 43.28125 13.890625 \r\nQ 47.125 21.390625 47.125 36.375 \r\nQ 47.125 51.421875 43.28125 58.90625 \r\nQ 39.453125 66.40625 31.78125 66.40625 \r\nz\r\nM 31.78125 74.21875 \r\nQ 44.046875 74.21875 50.515625 64.515625 \r\nQ 56.984375 54.828125 56.984375 36.375 \r\nQ 56.984375 17.96875 50.515625 8.265625 \r\nQ 44.046875 -1.421875 31.78125 -1.421875 \r\nQ 19.53125 -1.421875 13.0625 8.265625 \r\nQ 6.59375 17.96875 6.59375 36.375 \r\nQ 6.59375 54.828125 13.0625 64.515625 \r\nQ 19.53125 74.21875 31.78125 74.21875 \r\nz\r\n\" id=\"DejaVuSans-48\"/>\r\n        <path d=\"M 10.6875 12.40625 \r\nL 21 12.40625 \r\nL 21 0 \r\nL 10.6875 0 \r\nz\r\n\" id=\"DejaVuSans-46\"/>\r\n        <path d=\"M 10.984375 1.515625 \r\nL 10.984375 10.5 \r\nQ 14.703125 8.734375 18.5 7.8125 \r\nQ 22.3125 6.890625 25.984375 6.890625 \r\nQ 35.75 6.890625 40.890625 13.453125 \r\nQ 46.046875 20.015625 46.78125 33.40625 \r\nQ 43.953125 29.203125 39.59375 26.953125 \r\nQ 35.25 24.703125 29.984375 24.703125 \r\nQ 19.046875 24.703125 12.671875 31.3125 \r\nQ 6.296875 37.9375 6.296875 49.421875 \r\nQ 6.296875 60.640625 12.9375 67.421875 \r\nQ 19.578125 74.21875 30.609375 74.21875 \r\nQ 43.265625 74.21875 49.921875 64.515625 \r\nQ 56.59375 54.828125 56.59375 36.375 \r\nQ 56.59375 19.140625 48.40625 8.859375 \r\nQ 40.234375 -1.421875 26.421875 -1.421875 \r\nQ 22.703125 -1.421875 18.890625 -0.6875 \r\nQ 15.09375 0.046875 10.984375 1.515625 \r\nz\r\nM 30.609375 32.421875 \r\nQ 37.25 32.421875 41.125 36.953125 \r\nQ 45.015625 41.5 45.015625 49.421875 \r\nQ 45.015625 57.28125 41.125 61.84375 \r\nQ 37.25 66.40625 30.609375 66.40625 \r\nQ 23.96875 66.40625 20.09375 61.84375 \r\nQ 16.21875 57.28125 16.21875 49.421875 \r\nQ 16.21875 41.5 20.09375 36.953125 \r\nQ 23.96875 32.421875 30.609375 32.421875 \r\nz\r\n\" id=\"DejaVuSans-57\"/>\r\n       </defs>\r\n       <use xlink:href=\"#DejaVuSans-48\"/>\r\n       <use x=\"63.623047\" xlink:href=\"#DejaVuSans-46\"/>\r\n       <use x=\"95.410156\" xlink:href=\"#DejaVuSans-57\"/>\r\n       <use x=\"159.033203\" xlink:href=\"#DejaVuSans-48\"/>\r\n      </g>\r\n     </g>\r\n    </g>\r\n    <g id=\"ytick_4\">\r\n     <g id=\"line2d_6\">\r\n      <g>\r\n       <use style=\"stroke:#000000;stroke-width:0.8;\" x=\"319.330125\" xlink:href=\"#mab83775db9\" y=\"170.377152\"/>\r\n      </g>\r\n     </g>\r\n     <g id=\"text_6\">\r\n      <!-- 0.92 -->\r\n      <g transform=\"translate(326.330125 174.17637)scale(0.1 -0.1)\">\r\n       <defs>\r\n        <path d=\"M 19.1875 8.296875 \r\nL 53.609375 8.296875 \r\nL 53.609375 0 \r\nL 7.328125 0 \r\nL 7.328125 8.296875 \r\nQ 12.9375 14.109375 22.625 23.890625 \r\nQ 32.328125 33.6875 34.8125 36.53125 \r\nQ 39.546875 41.84375 41.421875 45.53125 \r\nQ 43.3125 49.21875 43.3125 52.78125 \r\nQ 43.3125 58.59375 39.234375 62.25 \r\nQ 35.15625 65.921875 28.609375 65.921875 \r\nQ 23.96875 65.921875 18.8125 64.3125 \r\nQ 13.671875 62.703125 7.8125 59.421875 \r\nL 7.8125 69.390625 \r\nQ 13.765625 71.78125 18.9375 73 \r\nQ 24.125 74.21875 28.421875 74.21875 \r\nQ 39.75 74.21875 46.484375 68.546875 \r\nQ 53.21875 62.890625 53.21875 53.421875 \r\nQ 53.21875 48.921875 51.53125 44.890625 \r\nQ 49.859375 40.875 45.40625 35.40625 \r\nQ 44.1875 33.984375 37.640625 27.21875 \r\nQ 31.109375 20.453125 19.1875 8.296875 \r\nz\r\n\" id=\"DejaVuSans-50\"/>\r\n       </defs>\r\n       <use xlink:href=\"#DejaVuSans-48\"/>\r\n       <use x=\"63.623047\" xlink:href=\"#DejaVuSans-46\"/>\r\n       <use x=\"95.410156\" xlink:href=\"#DejaVuSans-57\"/>\r\n       <use x=\"159.033203\" xlink:href=\"#DejaVuSans-50\"/>\r\n      </g>\r\n     </g>\r\n    </g>\r\n    <g id=\"ytick_5\">\r\n     <g id=\"line2d_7\">\r\n      <g>\r\n       <use style=\"stroke:#000000;stroke-width:0.8;\" x=\"319.330125\" xlink:href=\"#mab83775db9\" y=\"130.532668\"/>\r\n      </g>\r\n     </g>\r\n     <g id=\"text_7\">\r\n      <!-- 0.94 -->\r\n      <g transform=\"translate(326.330125 134.331887)scale(0.1 -0.1)\">\r\n       <defs>\r\n        <path d=\"M 37.796875 64.3125 \r\nL 12.890625 25.390625 \r\nL 37.796875 25.390625 \r\nz\r\nM 35.203125 72.90625 \r\nL 47.609375 72.90625 \r\nL 47.609375 25.390625 \r\nL 58.015625 25.390625 \r\nL 58.015625 17.1875 \r\nL 47.609375 17.1875 \r\nL 47.609375 0 \r\nL 37.796875 0 \r\nL 37.796875 17.1875 \r\nL 4.890625 17.1875 \r\nL 4.890625 26.703125 \r\nz\r\n\" id=\"DejaVuSans-52\"/>\r\n       </defs>\r\n       <use xlink:href=\"#DejaVuSans-48\"/>\r\n       <use x=\"63.623047\" xlink:href=\"#DejaVuSans-46\"/>\r\n       <use x=\"95.410156\" xlink:href=\"#DejaVuSans-57\"/>\r\n       <use x=\"159.033203\" xlink:href=\"#DejaVuSans-52\"/>\r\n      </g>\r\n     </g>\r\n    </g>\r\n    <g id=\"ytick_6\">\r\n     <g id=\"line2d_8\">\r\n      <g>\r\n       <use style=\"stroke:#000000;stroke-width:0.8;\" x=\"319.330125\" xlink:href=\"#mab83775db9\" y=\"90.688185\"/>\r\n      </g>\r\n     </g>\r\n     <g id=\"text_8\">\r\n      <!-- 0.96 -->\r\n      <g transform=\"translate(326.330125 94.487404)scale(0.1 -0.1)\">\r\n       <defs>\r\n        <path d=\"M 33.015625 40.375 \r\nQ 26.375 40.375 22.484375 35.828125 \r\nQ 18.609375 31.296875 18.609375 23.390625 \r\nQ 18.609375 15.53125 22.484375 10.953125 \r\nQ 26.375 6.390625 33.015625 6.390625 \r\nQ 39.65625 6.390625 43.53125 10.953125 \r\nQ 47.40625 15.53125 47.40625 23.390625 \r\nQ 47.40625 31.296875 43.53125 35.828125 \r\nQ 39.65625 40.375 33.015625 40.375 \r\nz\r\nM 52.59375 71.296875 \r\nL 52.59375 62.3125 \r\nQ 48.875 64.0625 45.09375 64.984375 \r\nQ 41.3125 65.921875 37.59375 65.921875 \r\nQ 27.828125 65.921875 22.671875 59.328125 \r\nQ 17.53125 52.734375 16.796875 39.40625 \r\nQ 19.671875 43.65625 24.015625 45.921875 \r\nQ 28.375 48.1875 33.59375 48.1875 \r\nQ 44.578125 48.1875 50.953125 41.515625 \r\nQ 57.328125 34.859375 57.328125 23.390625 \r\nQ 57.328125 12.15625 50.6875 5.359375 \r\nQ 44.046875 -1.421875 33.015625 -1.421875 \r\nQ 20.359375 -1.421875 13.671875 8.265625 \r\nQ 6.984375 17.96875 6.984375 36.375 \r\nQ 6.984375 53.65625 15.1875 63.9375 \r\nQ 23.390625 74.21875 37.203125 74.21875 \r\nQ 40.921875 74.21875 44.703125 73.484375 \r\nQ 48.484375 72.75 52.59375 71.296875 \r\nz\r\n\" id=\"DejaVuSans-54\"/>\r\n       </defs>\r\n       <use xlink:href=\"#DejaVuSans-48\"/>\r\n       <use x=\"63.623047\" xlink:href=\"#DejaVuSans-46\"/>\r\n       <use x=\"95.410156\" xlink:href=\"#DejaVuSans-57\"/>\r\n       <use x=\"159.033203\" xlink:href=\"#DejaVuSans-54\"/>\r\n      </g>\r\n     </g>\r\n    </g>\r\n    <g id=\"ytick_7\">\r\n     <g id=\"line2d_9\">\r\n      <g>\r\n       <use style=\"stroke:#000000;stroke-width:0.8;\" x=\"319.330125\" xlink:href=\"#mab83775db9\" y=\"50.843702\"/>\r\n      </g>\r\n     </g>\r\n     <g id=\"text_9\">\r\n      <!-- 0.98 -->\r\n      <g transform=\"translate(326.330125 54.642921)scale(0.1 -0.1)\">\r\n       <defs>\r\n        <path d=\"M 31.78125 34.625 \r\nQ 24.75 34.625 20.71875 30.859375 \r\nQ 16.703125 27.09375 16.703125 20.515625 \r\nQ 16.703125 13.921875 20.71875 10.15625 \r\nQ 24.75 6.390625 31.78125 6.390625 \r\nQ 38.8125 6.390625 42.859375 10.171875 \r\nQ 46.921875 13.96875 46.921875 20.515625 \r\nQ 46.921875 27.09375 42.890625 30.859375 \r\nQ 38.875 34.625 31.78125 34.625 \r\nz\r\nM 21.921875 38.8125 \r\nQ 15.578125 40.375 12.03125 44.71875 \r\nQ 8.5 49.078125 8.5 55.328125 \r\nQ 8.5 64.0625 14.71875 69.140625 \r\nQ 20.953125 74.21875 31.78125 74.21875 \r\nQ 42.671875 74.21875 48.875 69.140625 \r\nQ 55.078125 64.0625 55.078125 55.328125 \r\nQ 55.078125 49.078125 51.53125 44.71875 \r\nQ 48 40.375 41.703125 38.8125 \r\nQ 48.828125 37.15625 52.796875 32.3125 \r\nQ 56.78125 27.484375 56.78125 20.515625 \r\nQ 56.78125 9.90625 50.3125 4.234375 \r\nQ 43.84375 -1.421875 31.78125 -1.421875 \r\nQ 19.734375 -1.421875 13.25 4.234375 \r\nQ 6.78125 9.90625 6.78125 20.515625 \r\nQ 6.78125 27.484375 10.78125 32.3125 \r\nQ 14.796875 37.15625 21.921875 38.8125 \r\nz\r\nM 18.3125 54.390625 \r\nQ 18.3125 48.734375 21.84375 45.5625 \r\nQ 25.390625 42.390625 31.78125 42.390625 \r\nQ 38.140625 42.390625 41.71875 45.5625 \r\nQ 45.3125 48.734375 45.3125 54.390625 \r\nQ 45.3125 60.0625 41.71875 63.234375 \r\nQ 38.140625 66.40625 31.78125 66.40625 \r\nQ 25.390625 66.40625 21.84375 63.234375 \r\nQ 18.3125 60.0625 18.3125 54.390625 \r\nz\r\n\" id=\"DejaVuSans-56\"/>\r\n       </defs>\r\n       <use xlink:href=\"#DejaVuSans-48\"/>\r\n       <use x=\"63.623047\" xlink:href=\"#DejaVuSans-46\"/>\r\n       <use x=\"95.410156\" xlink:href=\"#DejaVuSans-57\"/>\r\n       <use x=\"159.033203\" xlink:href=\"#DejaVuSans-56\"/>\r\n      </g>\r\n     </g>\r\n    </g>\r\n    <g id=\"ytick_8\">\r\n     <g id=\"line2d_10\">\r\n      <g>\r\n       <use style=\"stroke:#000000;stroke-width:0.8;\" x=\"319.330125\" xlink:href=\"#mab83775db9\" y=\"10.999219\"/>\r\n      </g>\r\n     </g>\r\n     <g id=\"text_10\">\r\n      <!-- 1.00 -->\r\n      <g transform=\"translate(326.330125 14.798438)scale(0.1 -0.1)\">\r\n       <defs>\r\n        <path d=\"M 12.40625 8.296875 \r\nL 28.515625 8.296875 \r\nL 28.515625 63.921875 \r\nL 10.984375 60.40625 \r\nL 10.984375 69.390625 \r\nL 28.421875 72.90625 \r\nL 38.28125 72.90625 \r\nL 38.28125 8.296875 \r\nL 54.390625 8.296875 \r\nL 54.390625 0 \r\nL 12.40625 0 \r\nz\r\n\" id=\"DejaVuSans-49\"/>\r\n       </defs>\r\n       <use xlink:href=\"#DejaVuSans-49\"/>\r\n       <use x=\"63.623047\" xlink:href=\"#DejaVuSans-46\"/>\r\n       <use x=\"95.410156\" xlink:href=\"#DejaVuSans-48\"/>\r\n       <use x=\"159.033203\" xlink:href=\"#DejaVuSans-48\"/>\r\n      </g>\r\n     </g>\r\n    </g>\r\n   </g>\r\n   <g id=\"patch_4\">\r\n    <path d=\"M 308.458125 228.439219 \r\nL 308.458125 227.589844 \r\nL 308.458125 11.848594 \r\nL 308.458125 10.999219 \r\nL 319.330125 10.999219 \r\nL 319.330125 11.848594 \r\nL 319.330125 227.589844 \r\nL 319.330125 228.439219 \r\nz\r\n\" style=\"fill:none;\"/>\r\n   </g>\r\n  </g>\r\n </g>\r\n <defs>\r\n  <clipPath id=\"p826895d464\">\r\n   <rect height=\"217.44\" width=\"267.84\" x=\"23.878125\" y=\"10.999219\"/>\r\n  </clipPath>\r\n  <clipPath id=\"pf7af8857cd\">\r\n   <rect height=\"217.44\" width=\"10.872\" x=\"308.458125\" y=\"10.999219\"/>\r\n  </clipPath>\r\n </defs>\r\n</svg>\r\n",
                        "text/plain": [
                            "<Figure size 432x288 with 2 Axes>"
                        ]
                    },
                    "metadata": {
                        "needs_background": "light"
                    },
                    "output_type": "display_data"
                }
            ],
            "source": [
                "sns.heatmap(n_df.corr())"
            ]
        },
        {
            "cell_type": "markdown",
            "metadata": {},
            "source": [
                "可以看到两种分类模型得到的结果相关性很强。还是尝试一下融合，考虑到两个模型相关性较高，另一方面分类结果得分也很相近，认为效果基本一致，所以融合取平均。"
            ]
        },
        {
            "cell_type": "code",
            "execution_count": 58,
            "metadata": {},
            "outputs": [],
            "source": [
                "n_col = (n_df.rf + n_df.logistic).values/2\n",
                "ensemble_result = [int(i>=0.5) for i in n_col]"
            ]
        },
        {
            "cell_type": "code",
            "execution_count": 60,
            "metadata": {},
            "outputs": [],
            "source": [
                "temp=pd.read_csv('test.csv')\n",
                "submission={'PassengerId':temp.PassengerId,'Survived':ensemble_result}\n",
                "df_submission=pd.DataFrame(submission)\n",
                "df_submission.to_csv('ensemble_submission8.csv')"
            ]
        }
    ],
    "metadata": {
        "interpreter": {
            "hash": "c4ba2975249f22329a2bfd4358de00082d7a2d8b97caacaf84290d52b0d66844"
        },
        "kernelspec": {
            "display_name": "Python 3.6.13 64-bit ('python36': conda)",
            "name": "python3"
        },
        "language_info": {
            "codemirror_mode": {
                "name": "ipython",
                "version": 3
            },
            "file_extension": ".py",
            "mimetype": "text/x-python",
            "name": "python",
            "nbconvert_exporter": "python",
            "pygments_lexer": "ipython3",
            "version": "3.6.13"
        },
        "orig_nbformat": 4
    },
    "nbformat": 4,
    "nbformat_minor": 2
}
