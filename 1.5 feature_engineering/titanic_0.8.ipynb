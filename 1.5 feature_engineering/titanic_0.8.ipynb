{
 "cells": [
  {
   "cell_type": "code",
   "execution_count": 244,
   "metadata": {
    "execution": {
     "iopub.execute_input": "2021-06-30T16:43:41.785027Z",
     "iopub.status.busy": "2021-06-30T16:43:41.784626Z",
     "iopub.status.idle": "2021-06-30T16:43:41.802441Z",
     "shell.execute_reply": "2021-06-30T16:43:41.801366Z",
     "shell.execute_reply.started": "2021-06-30T16:43:41.784953Z"
    }
   },
   "outputs": [],
   "source": [
    "def score(y_pred):\n",
    "    count=0\n",
    "    for i in range(len(y_pred)):\n",
    "        if y_pred['Survived'][i]==correct['Survived'][i]:\n",
    "            count=count+1\n",
    "    rate=count/(len(y_pred))\n",
    "    return rate"
   ]
  },
  {
   "cell_type": "code",
   "execution_count": 245,
   "metadata": {
    "execution": {
     "iopub.execute_input": "2021-06-30T16:43:41.805015Z",
     "iopub.status.busy": "2021-06-30T16:43:41.804655Z",
     "iopub.status.idle": "2021-06-30T16:43:41.824242Z",
     "shell.execute_reply": "2021-06-30T16:43:41.823095Z",
     "shell.execute_reply.started": "2021-06-30T16:43:41.804964Z"
    }
   },
   "outputs": [],
   "source": [
    "def score_test(X_test):\n",
    "    #test\n",
    "    testid = pd.read_csv(\"../input/titanic/test.csv\")\n",
    "    y_pred_1=svc.predict_proba(X_test)\n",
    "    y_pred_2=GBC.predict_proba(X_test)\n",
    "    y_pred_3=knn.predict_proba(X_test)\n",
    "    \n",
    "    y_pred=(y_pred_1*10+y_pred_2*10+y_pred_3*0)/20\n",
    "    y_test_pred = np.argmax(y_pred, axis=1)\n",
    "    y_pred1=pd.DataFrame({'PassengerId':testid.PassengerId,'Survived':y_test_pred},index=None)\n",
    "    \n",
    "    y_pred=(y_pred_1*10+y_pred_2*0+y_pred_3*10)/20\n",
    "    y_test_pred = np.argmax(y_pred, axis=1)\n",
    "    y_pred2=pd.DataFrame({'PassengerId':testid.PassengerId,'Survived':y_test_pred},index=None)\n",
    "    \n",
    "    y_pred=(y_pred_1*0+y_pred_2*10+y_pred_3*10)/20\n",
    "    y_test_pred = np.argmax(y_pred, axis=1)\n",
    "    y_pred3=pd.DataFrame({'PassengerId':testid.PassengerId,'Survived':y_test_pred},index=None)\n",
    "    \n",
    "    y_pred=(y_pred_1*10+y_pred_2*10+y_pred_3*10)/30\n",
    "    y_test_pred = np.argmax(y_pred, axis=1)\n",
    "    y_pred4=pd.DataFrame({'PassengerId':testid.PassengerId,'Survived':y_test_pred},index=None)\n",
    "\n",
    "    y_pred=(y_pred_1*10+y_pred_2*0+y_pred_3*0)/10\n",
    "    y_test_pred = np.argmax(y_pred, axis=1)\n",
    "    y_preds=pd.DataFrame({'PassengerId':testid.PassengerId,'Survived':y_test_pred},index=None)\n",
    "    \n",
    "    y_pred=(y_pred_1*0+y_pred_2*10+y_pred_3*0)/10\n",
    "    y_test_pred = np.argmax(y_pred, axis=1)\n",
    "    y_predg=pd.DataFrame({'PassengerId':testid.PassengerId,'Survived':y_test_pred},index=None)\n",
    "    \n",
    "    y_pred=(y_pred_1*0+y_pred_2*0+y_pred_3*10)/10\n",
    "    y_test_pred = np.argmax(y_pred, axis=1)\n",
    "    y_predk=pd.DataFrame({'PassengerId':testid.PassengerId,'Survived':y_test_pred},index=None)\n",
    "    \n",
    "    #result\n",
    "    rate1=score(y_pred1)\n",
    "    rate2=score(y_pred2)\n",
    "    rate3=score(y_pred3)\n",
    "    rate4=score(y_pred4)\n",
    "    rates=score(y_preds)\n",
    "    rateg=score(y_predg)\n",
    "    ratek=score(y_predk)\n",
    "\n",
    "    print (rate1,rate2,rate3,rate4,rates,rateg,ratek)\n",
    "    return rate1,rate2,rate3,rate4,rates,rateg,ratek"
   ]
  },
  {
   "cell_type": "code",
   "execution_count": 246,
   "metadata": {
    "execution": {
     "iopub.execute_input": "2021-06-30T16:43:41.828774Z",
     "iopub.status.busy": "2021-06-30T16:43:41.828390Z",
     "iopub.status.idle": "2021-06-30T16:43:41.864972Z",
     "shell.execute_reply": "2021-06-30T16:43:41.863928Z",
     "shell.execute_reply.started": "2021-06-30T16:43:41.828742Z"
    }
   },
   "outputs": [],
   "source": [
    "import numpy as np\n",
    "import pandas as pd\n",
    "\n",
    "from sklearn.ensemble import RandomForestClassifier,GradientBoostingClassifier,ExtraTreesClassifier\n",
    "from sklearn.discriminant_analysis import LinearDiscriminantAnalysis\n",
    "from sklearn.linear_model import LogisticRegression\n",
    "from sklearn.neighbors import KNeighborsClassifier\n",
    "from sklearn.tree import DecisionTreeClassifier\n",
    "from sklearn.svm import SVC\n",
    "from sklearn.model_selection import GridSearchCV,cross_val_score,StratifiedKFold\n",
    "from sklearn.feature_selection import SelectFromModel\n",
    "\n",
    "import seaborn as sns\n",
    "import matplotlib.pyplot as plt\n",
    "\n",
    "import warnings \n",
    "warnings.filterwarnings('ignore')\n",
    "from easydl import clear_output\n",
    "\n",
    "#Read data\n",
    "train=pd.read_csv('../input/titanic/train.csv')\n",
    "test=pd.read_csv('../input/titanic/test.csv')\n",
    "full=train.append(test,ignore_index=True)"
   ]
  },
  {
   "cell_type": "code",
   "execution_count": 247,
   "metadata": {
    "execution": {
     "iopub.execute_input": "2021-06-30T16:43:41.869781Z",
     "iopub.status.busy": "2021-06-30T16:43:41.868978Z",
     "iopub.status.idle": "2021-06-30T16:43:41.887824Z",
     "shell.execute_reply": "2021-06-30T16:43:41.886948Z",
     "shell.execute_reply.started": "2021-06-30T16:43:41.869725Z"
    }
   },
   "outputs": [],
   "source": [
    "#log Fare\n",
    "full['Fare']=full['Fare'].map(lambda x: np.log(x) if x>0 else 0)\n",
    "#nan in Cabin\n",
    "full['Cabin']=full['Cabin'].fillna('U')\n",
    "#nan in embarked\n",
    "full['Embarked']=full['Embarked'].fillna('S')\n",
    "# Fare, pclass=3&embarked=S&cabin=u\n",
    "full['Fare']=full['Fare'].fillna(full[(full['Pclass']==3)&(full['Embarked']=='S')&(full['Cabin']=='U')]['Fare'].mean())"
   ]
  },
  {
   "cell_type": "code",
   "execution_count": 248,
   "metadata": {
    "execution": {
     "iopub.execute_input": "2021-06-30T16:43:41.890423Z",
     "iopub.status.busy": "2021-06-30T16:43:41.889912Z",
     "iopub.status.idle": "2021-06-30T16:43:41.909713Z",
     "shell.execute_reply": "2021-06-30T16:43:41.907838Z",
     "shell.execute_reply.started": "2021-06-30T16:43:41.890372Z"
    }
   },
   "outputs": [],
   "source": [
    "#title\n",
    "full['Title']=full['Name'].map(lambda x:x.split(',')[1].split('.')[0].strip())\n",
    "TitleDict={}\n",
    "TitleDict['Mr']='Mr'\n",
    "TitleDict['Mlle']='Miss'\n",
    "TitleDict['Miss']='Miss'\n",
    "TitleDict['Master']='Master'\n",
    "TitleDict['Jonkheer']='Master'\n",
    "TitleDict['Mme']='Mrs'\n",
    "TitleDict['Ms']='Mrs'\n",
    "TitleDict['Mrs']='Mrs'\n",
    "TitleDict['Don']='Royalty'\n",
    "TitleDict['Sir']='Royalty'\n",
    "TitleDict['the Countess']='Royalty'\n",
    "TitleDict['Dona']='Royalty'\n",
    "TitleDict['Lady']='Royalty'\n",
    "TitleDict['Capt']='Officer'\n",
    "TitleDict['Col']='Officer'\n",
    "TitleDict['Major']='Officer'\n",
    "TitleDict['Dr']='Officer'\n",
    "TitleDict['Rev']='Officer'\n",
    "\n",
    "full['Title']=full['Title'].map(TitleDict)"
   ]
  },
  {
   "cell_type": "code",
   "execution_count": 249,
   "metadata": {
    "execution": {
     "iopub.execute_input": "2021-06-30T16:43:41.912104Z",
     "iopub.status.busy": "2021-06-30T16:43:41.911539Z",
     "iopub.status.idle": "2021-06-30T16:43:41.925284Z",
     "shell.execute_reply": "2021-06-30T16:43:41.924258Z",
     "shell.execute_reply.started": "2021-06-30T16:43:41.912062Z"
    }
   },
   "outputs": [],
   "source": [
    "#family\n",
    "def familysize(familyNum):\n",
    "    if familyNum==1:\n",
    "        return 0\n",
    "    elif (familyNum>=2)&(familyNum<=4):\n",
    "        return 1\n",
    "    else:\n",
    "        return 2\n",
    "#family size\n",
    "full['familyNum']=full['Parch']+full['SibSp']+1\n",
    "full['familySize']=full['familyNum'].map(familysize)"
   ]
  },
  {
   "cell_type": "code",
   "execution_count": 250,
   "metadata": {
    "execution": {
     "iopub.execute_input": "2021-06-30T16:43:41.927262Z",
     "iopub.status.busy": "2021-06-30T16:43:41.926933Z",
     "iopub.status.idle": "2021-06-30T16:43:41.941320Z",
     "shell.execute_reply": "2021-06-30T16:43:41.940279Z",
     "shell.execute_reply.started": "2021-06-30T16:43:41.927233Z"
    }
   },
   "outputs": [],
   "source": [
    "# Deck\n",
    "full['Deck']=full['Cabin'].map(lambda x:x[0])"
   ]
  },
  {
   "cell_type": "code",
   "execution_count": 251,
   "metadata": {
    "execution": {
     "iopub.execute_input": "2021-06-30T16:43:41.943174Z",
     "iopub.status.busy": "2021-06-30T16:43:41.942829Z",
     "iopub.status.idle": "2021-06-30T16:43:41.961565Z",
     "shell.execute_reply": "2021-06-30T16:43:41.960137Z",
     "shell.execute_reply.started": "2021-06-30T16:43:41.943139Z"
    }
   },
   "outputs": [],
   "source": [
    "# ticket\n",
    "TickCountDict={}\n",
    "TickCountDict=full['Ticket'].value_counts()\n",
    "full['TickCot']=full['Ticket'].map(TickCountDict)\n",
    "def TickCountGroup(num):\n",
    "    if (num>=2)&(num<=4):\n",
    "        return 0\n",
    "    elif (num==1)|((num>=5)&(num<=8)):\n",
    "        return 1\n",
    "    else :\n",
    "        return 2\n",
    "#category in ticket\n",
    "full['TickGroup']=full['TickCot'].map(TickCountGroup)"
   ]
  },
  {
   "cell_type": "code",
   "execution_count": 252,
   "metadata": {
    "execution": {
     "iopub.execute_input": "2021-06-30T16:43:41.963702Z",
     "iopub.status.busy": "2021-06-30T16:43:41.963347Z",
     "iopub.status.idle": "2021-06-30T16:43:41.994913Z",
     "shell.execute_reply": "2021-06-30T16:43:41.993367Z",
     "shell.execute_reply.started": "2021-06-30T16:43:41.963666Z"
    }
   },
   "outputs": [],
   "source": [
    "# select features\n",
    "AgePre=full[['Age','Parch','Pclass','SibSp','Title','familyNum','TickCot']]\n",
    "# one-hot\n",
    "AgePre=pd.get_dummies(AgePre)\n",
    "ParAge=pd.get_dummies(AgePre['Parch'],prefix='Parch')\n",
    "SibAge=pd.get_dummies(AgePre['SibSp'],prefix='SibSp')\n",
    "PclAge=pd.get_dummies(AgePre['Pclass'],prefix='Pclass')\n",
    "# check\n",
    "AgeCorrDf=pd.DataFrame()\n",
    "AgeCorrDf=AgePre.corr()\n",
    "AgeCorrDf['Age'].sort_values()\n",
    "AgePre=pd.concat([AgePre,ParAge,SibAge,PclAge],axis=1)"
   ]
  },
  {
   "cell_type": "code",
   "execution_count": 253,
   "metadata": {
    "execution": {
     "iopub.execute_input": "2021-06-30T16:43:41.996706Z",
     "iopub.status.busy": "2021-06-30T16:43:41.996362Z",
     "iopub.status.idle": "2021-06-30T16:43:43.761567Z",
     "shell.execute_reply": "2021-06-30T16:43:43.760179Z",
     "shell.execute_reply.started": "2021-06-30T16:43:41.996675Z"
    }
   },
   "outputs": [],
   "source": [
    "#split\n",
    "AgeKnown=AgePre[AgePre['Age'].notnull()]\n",
    "AgeUnKnown=AgePre[AgePre['Age'].isnull()]\n",
    "\n",
    "#generate the training set and test set of age\n",
    "AgeKnown_X=AgeKnown.drop(['Age'],axis=1)\n",
    "AgeKnown_y=AgeKnown['Age']\n",
    "AgeUnKnown_X=AgeUnKnown.drop(['Age'],axis=1)\n",
    "\n",
    "#RF\n",
    "from sklearn.ensemble import RandomForestRegressor\n",
    "rfr=RandomForestRegressor(random_state=None,n_estimators=500,n_jobs=-1)\n",
    "rfr.fit(AgeKnown_X,AgeKnown_y)\n",
    "AgeUnKnown_y=rfr.predict(AgeUnKnown_X)\n",
    "#full\n",
    "full.loc[full['Age'].isnull(),['Age']]=AgeUnKnown_y"
   ]
  },
  {
   "cell_type": "code",
   "execution_count": 254,
   "metadata": {
    "execution": {
     "iopub.execute_input": "2021-06-30T16:43:43.764778Z",
     "iopub.status.busy": "2021-06-30T16:43:43.764132Z",
     "iopub.status.idle": "2021-06-30T16:43:43.793102Z",
     "shell.execute_reply": "2021-06-30T16:43:43.792155Z",
     "shell.execute_reply.started": "2021-06-30T16:43:43.764741Z"
    }
   },
   "outputs": [],
   "source": [
    "#name\n",
    "full['Surname']=full['Name'].map(lambda x:x.split(',')[0].strip())\n",
    "SurNameDict={}\n",
    "SurNameDict=full['Surname'].value_counts()\n",
    "full['SurnameNum']=full['Surname'].map(SurNameDict)\n",
    "\n",
    "# \n",
    "MaleDf=full[(full['Sex']=='male')&(full['Age']>12)&(full['familyNum']>=2)]\n",
    "FemChildDf=full[((full['Sex']=='female')|(full['Age']<=12))&(full['familyNum']>=2)]\n",
    "\n",
    "# survived/male\n",
    "MSurNamDf=MaleDf['Survived'].groupby(MaleDf['Surname']).mean()\n",
    "MSurNamDf.value_counts()\n",
    "\n",
    "MSurNamDict={}\n",
    "MSurNamDict=MSurNamDf[MSurNamDf.values==1].index\n",
    "\n",
    "# survived/female\n",
    "FCSurNamDf=FemChildDf['Survived'].groupby(FemChildDf['Surname']).mean()\n",
    "FCSurNamDf.value_counts()\n",
    "\n",
    "FCSurNamDict={}\n",
    "FCSurNamDict=FCSurNamDf[FCSurNamDf.values==0].index"
   ]
  },
  {
   "cell_type": "code",
   "execution_count": 255,
   "metadata": {
    "execution": {
     "iopub.execute_input": "2021-06-30T16:43:43.795217Z",
     "iopub.status.busy": "2021-06-30T16:43:43.794527Z",
     "iopub.status.idle": "2021-06-30T16:43:43.812174Z",
     "shell.execute_reply": "2021-06-30T16:43:43.811223Z",
     "shell.execute_reply.started": "2021-06-30T16:43:43.795180Z"
    }
   },
   "outputs": [],
   "source": [
    "#adjust\n",
    "full.loc[(full['Survived'].isnull())&(full['Surname'].isin(MSurNamDict))&(full['Sex']=='male'),'Age']=5\n",
    "full.loc[(full['Survived'].isnull())&(full['Surname'].isin(MSurNamDict))&(full['Sex']=='male'),'Sex']='female'\n",
    "\n",
    "\n",
    "full.loc[(full['Survived'].isnull())&(full['Surname'].isin(FCSurNamDict))&((full['Sex']=='female')|(full['Age']<=12)),'Age']=60\n",
    "full.loc[(full['Survived'].isnull())&(full['Surname'].isin(FCSurNamDict))&((full['Sex']=='female')|(full['Age']<=12)),'Sex']='male'"
   ]
  },
  {
   "cell_type": "code",
   "execution_count": 256,
   "metadata": {
    "execution": {
     "iopub.execute_input": "2021-06-30T16:43:43.813940Z",
     "iopub.status.busy": "2021-06-30T16:43:43.813411Z",
     "iopub.status.idle": "2021-06-30T16:43:43.832174Z",
     "shell.execute_reply": "2021-06-30T16:43:43.831300Z",
     "shell.execute_reply.started": "2021-06-30T16:43:43.813895Z"
    }
   },
   "outputs": [
    {
     "data": {
      "text/plain": [
       "Pclass       -0.338481\n",
       "TickGroup    -0.319278\n",
       "Age          -0.060160\n",
       "SibSp        -0.035322\n",
       "familyNum     0.016639\n",
       "TickCot       0.064962\n",
       "Parch         0.081629\n",
       "familySize    0.108631\n",
       "Fare          0.331805\n",
       "Survived      1.000000\n",
       "Name: Survived, dtype: float64"
      ]
     },
     "execution_count": 256,
     "metadata": {},
     "output_type": "execute_result"
    }
   ],
   "source": [
    "fullSel=full.drop(['Cabin','Name','Ticket','PassengerId','Surname','SurnameNum'],axis=1)\n",
    "#corelation\n",
    "corrDf=pd.DataFrame()\n",
    "corrDf=fullSel.corr()\n",
    "corrDf['Survived'].sort_values(ascending=True)"
   ]
  },
  {
   "cell_type": "code",
   "execution_count": 258,
   "metadata": {
    "execution": {
     "iopub.execute_input": "2021-06-30T16:43:44.799411Z",
     "iopub.status.busy": "2021-06-30T16:43:44.799094Z",
     "iopub.status.idle": "2021-06-30T16:43:44.822582Z",
     "shell.execute_reply": "2021-06-30T16:43:44.821524Z",
     "shell.execute_reply.started": "2021-06-30T16:43:44.799380Z"
    }
   },
   "outputs": [],
   "source": [
    "fullSel=fullSel.drop(['familyNum','SibSp','TickCot','Parch'],axis=1)\n",
    "#one-hot\n",
    "fullSel=pd.get_dummies(fullSel)\n",
    "PclassDf=pd.get_dummies(full['Pclass'],prefix='Pclass')\n",
    "TickGroupDf=pd.get_dummies(full['TickGroup'],prefix='TickGroup')\n",
    "familySizeDf=pd.get_dummies(full['familySize'],prefix='familySize')\n",
    "\n",
    "fullSel=pd.concat([fullSel,PclassDf,TickGroupDf,familySizeDf],axis=1)"
   ]
  },
  {
   "cell_type": "code",
   "execution_count": 259,
   "metadata": {
    "_kg_hide-input": true,
    "_kg_hide-output": true,
    "execution": {
     "iopub.execute_input": "2021-06-30T16:43:44.824538Z",
     "iopub.status.busy": "2021-06-30T16:43:44.824197Z",
     "iopub.status.idle": "2021-06-30T16:43:50.517463Z",
     "shell.execute_reply": "2021-06-30T16:43:50.516549Z",
     "shell.execute_reply.started": "2021-06-30T16:43:44.824507Z"
    }
   },
   "outputs": [
    {
     "data": {
      "text/html": [
       "<div>\n",
       "<style scoped>\n",
       "    .dataframe tbody tr th:only-of-type {\n",
       "        vertical-align: middle;\n",
       "    }\n",
       "\n",
       "    .dataframe tbody tr th {\n",
       "        vertical-align: top;\n",
       "    }\n",
       "\n",
       "    .dataframe thead th {\n",
       "        text-align: right;\n",
       "    }\n",
       "</style>\n",
       "<table border=\"1\" class=\"dataframe\">\n",
       "  <thead>\n",
       "    <tr style=\"text-align: right;\">\n",
       "      <th></th>\n",
       "      <th>cv_mean</th>\n",
       "      <th>cv_std</th>\n",
       "      <th>algorithm</th>\n",
       "    </tr>\n",
       "  </thead>\n",
       "  <tbody>\n",
       "    <tr>\n",
       "      <th>0</th>\n",
       "      <td>0.763296</td>\n",
       "      <td>0.051620</td>\n",
       "      <td>SVC</td>\n",
       "    </tr>\n",
       "    <tr>\n",
       "      <th>1</th>\n",
       "      <td>0.777853</td>\n",
       "      <td>0.053897</td>\n",
       "      <td>DecisionTreeCla</td>\n",
       "    </tr>\n",
       "    <tr>\n",
       "      <th>2</th>\n",
       "      <td>0.817104</td>\n",
       "      <td>0.037350</td>\n",
       "      <td>RandomForestCla</td>\n",
       "    </tr>\n",
       "    <tr>\n",
       "      <th>3</th>\n",
       "      <td>0.794644</td>\n",
       "      <td>0.044788</td>\n",
       "      <td>ExtraTreesCla</td>\n",
       "    </tr>\n",
       "    <tr>\n",
       "      <th>4</th>\n",
       "      <td>0.836192</td>\n",
       "      <td>0.042724</td>\n",
       "      <td>GradientBoostingCla</td>\n",
       "    </tr>\n",
       "    <tr>\n",
       "      <th>5</th>\n",
       "      <td>0.794657</td>\n",
       "      <td>0.038653</td>\n",
       "      <td>KNN</td>\n",
       "    </tr>\n",
       "    <tr>\n",
       "      <th>6</th>\n",
       "      <td>0.828315</td>\n",
       "      <td>0.030782</td>\n",
       "      <td>LR</td>\n",
       "    </tr>\n",
       "    <tr>\n",
       "      <th>7</th>\n",
       "      <td>0.823833</td>\n",
       "      <td>0.029460</td>\n",
       "      <td>LinearDiscrimiAna</td>\n",
       "    </tr>\n",
       "  </tbody>\n",
       "</table>\n",
       "</div>"
      ],
      "text/plain": [
       "    cv_mean    cv_std            algorithm\n",
       "0  0.763296  0.051620                  SVC\n",
       "1  0.777853  0.053897      DecisionTreeCla\n",
       "2  0.817104  0.037350      RandomForestCla\n",
       "3  0.794644  0.044788        ExtraTreesCla\n",
       "4  0.836192  0.042724  GradientBoostingCla\n",
       "5  0.794657  0.038653                  KNN\n",
       "6  0.828315  0.030782                   LR\n",
       "7  0.823833  0.029460    LinearDiscrimiAna"
      ]
     },
     "execution_count": 259,
     "metadata": {},
     "output_type": "execute_result"
    }
   ],
   "source": [
    "kfold=StratifiedKFold(n_splits=10)\n",
    "\n",
    "classifiers=[]\n",
    "classifiers.append(SVC())\n",
    "classifiers.append(DecisionTreeClassifier())\n",
    "classifiers.append(RandomForestClassifier())\n",
    "classifiers.append(ExtraTreesClassifier())\n",
    "classifiers.append(GradientBoostingClassifier())\n",
    "classifiers.append(KNeighborsClassifier())\n",
    "classifiers.append(LogisticRegression())\n",
    "classifiers.append(LinearDiscriminantAnalysis())\n",
    "\n",
    "cv_results=[]\n",
    "for classifier in classifiers:\n",
    "    cv_results.append(cross_val_score(classifier,X_train,y,\n",
    "                                      scoring='accuracy',cv=kfold,n_jobs=-1))\n",
    "    \n",
    "cv_means=[]\n",
    "cv_std=[]\n",
    "for cv_result in cv_results:\n",
    "    cv_means.append(cv_result.mean())\n",
    "    cv_std.append(cv_result.std())\n",
    "    \n",
    "\n",
    "cvResDf=pd.DataFrame({'cv_mean':cv_means,\n",
    "                     'cv_std':cv_std,\n",
    "                     'algorithm':['SVC','DecisionTreeCla','RandomForestCla','ExtraTreesCla',\n",
    "                                  'GradientBoostingCla','KNN','LR','LinearDiscrimiAna']})\n",
    "\n",
    "cvResDf"
   ]
  },
  {
   "cell_type": "code",
   "execution_count": 260,
   "metadata": {
    "execution": {
     "iopub.execute_input": "2021-06-30T16:43:50.519204Z",
     "iopub.status.busy": "2021-06-30T16:43:50.518781Z",
     "iopub.status.idle": "2021-06-30T16:43:51.156625Z",
     "shell.execute_reply": "2021-06-30T16:43:51.155091Z",
     "shell.execute_reply.started": "2021-06-30T16:43:50.519174Z"
    }
   },
   "outputs": [
    {
     "data": {
      "text/plain": [
       "<seaborn.axisgrid.FacetGrid at 0x7f13de4132d0>"
      ]
     },
     "execution_count": 260,
     "metadata": {},
     "output_type": "execute_result"
    },
    {
     "data": {
      "image/png": "[encoded data removed]",
      "text/plain": [
       "<Figure size 432x288 with 1 Axes>"
      ]
     },
     "metadata": {},
     "output_type": "display_data"
    },
    {
     "data": {
      "image/png": "[encoded data removed]",
      "text/plain": [
       "<Figure size 440.8x216 with 1 Axes>"
      ]
     },
     "metadata": {},
     "output_type": "display_data"
    }
   ],
   "source": [
    "sns.barplot(data=cvResDf,x='cv_mean',y='algorithm',**{'xerr':cv_std})\n",
    "\n",
    "cvResFacet=sns.FacetGrid(cvResDf.sort_values(by='cv_mean',ascending=False),sharex=False,\n",
    "            sharey=False,aspect=2)\n",
    "cvResFacet.map(sns.barplot,'cv_mean','algorithm',**{'xerr':cv_std},\n",
    "               palette='muted')\n",
    "cvResFacet.set(xlim=(0.7,0.9))\n",
    "cvResFacet.add_legend()"
   ]
  },
  {
   "cell_type": "code",
   "execution_count": 275,
   "metadata": {
    "execution": {
     "iopub.execute_input": "2021-06-30T16:56:27.261168Z",
     "iopub.status.busy": "2021-06-30T16:56:27.260691Z",
     "iopub.status.idle": "2021-06-30T16:56:27.851972Z",
     "shell.execute_reply": "2021-06-30T16:56:27.850906Z",
     "shell.execute_reply.started": "2021-06-30T16:56:27.261131Z"
    }
   },
   "outputs": [
    {
     "name": "stdout",
     "output_type": "stream",
     "text": [
      "0.7894736842105263 0.7942583732057417 0.8038277511961722 0.7918660287081339 0.7870813397129187 0.7870813397129187 0.80622009569378\n"
     ]
    }
   ],
   "source": [
    "experData=fullSel[fullSel['Survived'].notnull()]\n",
    "preData=fullSel[fullSel['Survived'].isnull()]\n",
    "X_train=experData.drop('Survived',axis=1)\n",
    "X_test=preData.drop('Survived',axis=1)\n",
    "y=experData['Survived']\n",
    "features=SelectFromModel(RandomForestClassifier(n_estimators=46,min_samples_split=2,\n",
    "                                                min_samples_leaf=1,max_depth=9 ,random_state=10),\n",
    "                         max_features=10).fit(X_train, y)\n",
    "\n",
    "X_train=X_train[X_train.columns[features.get_support()]]\n",
    "X_test=X_test[X_test.columns[features.get_support()]]\n",
    "\n",
    "# train A\n",
    "GBC = GradientBoostingClassifier()\n",
    "GBC.fit(X_train,y)\n",
    "svc = SVC(C=10,gamma=0.001,kernel='rbf',probability=True)\n",
    "svc.fit(X_train,y)\n",
    "# here, it is not KNN\n",
    "knn=LogisticRegression()\n",
    "knn.fit(X_train,y)\n",
    "rate1,rate2,rate3,rate4,rates,rateg,ratek=score_test(X_test)"
   ]
  },
  {
   "cell_type": "code",
   "execution_count": null,
   "metadata": {},
   "outputs": [],
   "source": [
    "# 逻辑回归进行分类，测试集准确率能过0.8，代码整体比较粗糙，很多细节还可以调整～"
   ]
  }
 ],
 "metadata": {
  "kernelspec": {
   "display_name": "Python 3",
   "language": "python",
   "name": "python3"
  },
  "language_info": {
   "codemirror_mode": {
    "name": "ipython",
    "version": 3
   },
   "file_extension": ".py",
   "mimetype": "text/x-python",
   "name": "python",
   "nbconvert_exporter": "python",
   "pygments_lexer": "ipython3",
   "version": "3.7.6"
  }
 },
 "nbformat": 4,
 "nbformat_minor": 4
}
