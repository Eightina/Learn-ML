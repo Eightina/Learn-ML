{
    "cells": [
        {
            "cell_type": "code",
            "execution_count": 1,
            "source": [
                "import pandas as pd\r\n",
                "import numpy as np\r\n",
                "import seaborn as sns\r\n",
                "import matplotlib.pyplot as plt\r\n",
                "import sklearn\r\n",
                "from sklearn.model_selection import train_test_split, cross_val_score\r\n",
                "from sklearn.preprocessing import StandardScaler, MinMaxScaler\r\n"
            ],
            "outputs": [],
            "metadata": {}
        },
        {
            "cell_type": "code",
            "execution_count": 2,
            "source": [
                "plt.style.use('seaborn')\r\n",
                "from sklearn.datasets import load_wine\r\n",
                "wine = load_wine()\r\n",
                "cols = list(wine.feature_names)\r\n",
                "cols.append('target')\r\n",
                "df = pd.DataFrame(data=np.c_[wine.data, wine.target], columns=cols)\r\n",
                "df.head(5)"
            ],
            "outputs": [
                {
                    "output_type": "execute_result",
                    "data": {
                        "text/html": [
                            "<div>\n",
                            "<style scoped>\n",
                            "    .dataframe tbody tr th:only-of-type {\n",
                            "        vertical-align: middle;\n",
                            "    }\n",
                            "\n",
                            "    .dataframe tbody tr th {\n",
                            "        vertical-align: top;\n",
                            "    }\n",
                            "\n",
                            "    .dataframe thead th {\n",
                            "        text-align: right;\n",
                            "    }\n",
                            "</style>\n",
                            "<table border=\"1\" class=\"dataframe\">\n",
                            "  <thead>\n",
                            "    <tr style=\"text-align: right;\">\n",
                            "      <th></th>\n",
                            "      <th>alcohol</th>\n",
                            "      <th>malic_acid</th>\n",
                            "      <th>ash</th>\n",
                            "      <th>alcalinity_of_ash</th>\n",
                            "      <th>magnesium</th>\n",
                            "      <th>total_phenols</th>\n",
                            "      <th>flavanoids</th>\n",
                            "      <th>nonflavanoid_phenols</th>\n",
                            "      <th>proanthocyanins</th>\n",
                            "      <th>color_intensity</th>\n",
                            "      <th>hue</th>\n",
                            "      <th>od280/od315_of_diluted_wines</th>\n",
                            "      <th>proline</th>\n",
                            "      <th>target</th>\n",
                            "    </tr>\n",
                            "  </thead>\n",
                            "  <tbody>\n",
                            "    <tr>\n",
                            "      <th>0</th>\n",
                            "      <td>14.23</td>\n",
                            "      <td>1.71</td>\n",
                            "      <td>2.43</td>\n",
                            "      <td>15.6</td>\n",
                            "      <td>127.0</td>\n",
                            "      <td>2.80</td>\n",
                            "      <td>3.06</td>\n",
                            "      <td>0.28</td>\n",
                            "      <td>2.29</td>\n",
                            "      <td>5.64</td>\n",
                            "      <td>1.04</td>\n",
                            "      <td>3.92</td>\n",
                            "      <td>1065.0</td>\n",
                            "      <td>0.0</td>\n",
                            "    </tr>\n",
                            "    <tr>\n",
                            "      <th>1</th>\n",
                            "      <td>13.20</td>\n",
                            "      <td>1.78</td>\n",
                            "      <td>2.14</td>\n",
                            "      <td>11.2</td>\n",
                            "      <td>100.0</td>\n",
                            "      <td>2.65</td>\n",
                            "      <td>2.76</td>\n",
                            "      <td>0.26</td>\n",
                            "      <td>1.28</td>\n",
                            "      <td>4.38</td>\n",
                            "      <td>1.05</td>\n",
                            "      <td>3.40</td>\n",
                            "      <td>1050.0</td>\n",
                            "      <td>0.0</td>\n",
                            "    </tr>\n",
                            "    <tr>\n",
                            "      <th>2</th>\n",
                            "      <td>13.16</td>\n",
                            "      <td>2.36</td>\n",
                            "      <td>2.67</td>\n",
                            "      <td>18.6</td>\n",
                            "      <td>101.0</td>\n",
                            "      <td>2.80</td>\n",
                            "      <td>3.24</td>\n",
                            "      <td>0.30</td>\n",
                            "      <td>2.81</td>\n",
                            "      <td>5.68</td>\n",
                            "      <td>1.03</td>\n",
                            "      <td>3.17</td>\n",
                            "      <td>1185.0</td>\n",
                            "      <td>0.0</td>\n",
                            "    </tr>\n",
                            "    <tr>\n",
                            "      <th>3</th>\n",
                            "      <td>14.37</td>\n",
                            "      <td>1.95</td>\n",
                            "      <td>2.50</td>\n",
                            "      <td>16.8</td>\n",
                            "      <td>113.0</td>\n",
                            "      <td>3.85</td>\n",
                            "      <td>3.49</td>\n",
                            "      <td>0.24</td>\n",
                            "      <td>2.18</td>\n",
                            "      <td>7.80</td>\n",
                            "      <td>0.86</td>\n",
                            "      <td>3.45</td>\n",
                            "      <td>1480.0</td>\n",
                            "      <td>0.0</td>\n",
                            "    </tr>\n",
                            "    <tr>\n",
                            "      <th>4</th>\n",
                            "      <td>13.24</td>\n",
                            "      <td>2.59</td>\n",
                            "      <td>2.87</td>\n",
                            "      <td>21.0</td>\n",
                            "      <td>118.0</td>\n",
                            "      <td>2.80</td>\n",
                            "      <td>2.69</td>\n",
                            "      <td>0.39</td>\n",
                            "      <td>1.82</td>\n",
                            "      <td>4.32</td>\n",
                            "      <td>1.04</td>\n",
                            "      <td>2.93</td>\n",
                            "      <td>735.0</td>\n",
                            "      <td>0.0</td>\n",
                            "    </tr>\n",
                            "  </tbody>\n",
                            "</table>\n",
                            "</div>"
                        ],
                        "text/plain": [
                            "   alcohol  malic_acid   ash  alcalinity_of_ash  magnesium  total_phenols  \\\n",
                            "0    14.23        1.71  2.43               15.6      127.0           2.80   \n",
                            "1    13.20        1.78  2.14               11.2      100.0           2.65   \n",
                            "2    13.16        2.36  2.67               18.6      101.0           2.80   \n",
                            "3    14.37        1.95  2.50               16.8      113.0           3.85   \n",
                            "4    13.24        2.59  2.87               21.0      118.0           2.80   \n",
                            "\n",
                            "   flavanoids  nonflavanoid_phenols  proanthocyanins  color_intensity   hue  \\\n",
                            "0        3.06                  0.28             2.29             5.64  1.04   \n",
                            "1        2.76                  0.26             1.28             4.38  1.05   \n",
                            "2        3.24                  0.30             2.81             5.68  1.03   \n",
                            "3        3.49                  0.24             2.18             7.80  0.86   \n",
                            "4        2.69                  0.39             1.82             4.32  1.04   \n",
                            "\n",
                            "   od280/od315_of_diluted_wines  proline  target  \n",
                            "0                          3.92   1065.0     0.0  \n",
                            "1                          3.40   1050.0     0.0  \n",
                            "2                          3.17   1185.0     0.0  \n",
                            "3                          3.45   1480.0     0.0  \n",
                            "4                          2.93    735.0     0.0  "
                        ]
                    },
                    "metadata": {},
                    "execution_count": 2
                }
            ],
            "metadata": {}
        },
        {
            "cell_type": "code",
            "execution_count": 3,
            "source": [
                "df.info()"
            ],
            "outputs": [
                {
                    "output_type": "stream",
                    "name": "stdout",
                    "text": [
                        "<class 'pandas.core.frame.DataFrame'>\n",
                        "RangeIndex: 178 entries, 0 to 177\n",
                        "Data columns (total 14 columns):\n",
                        " #   Column                        Non-Null Count  Dtype  \n",
                        "---  ------                        --------------  -----  \n",
                        " 0   alcohol                       178 non-null    float64\n",
                        " 1   malic_acid                    178 non-null    float64\n",
                        " 2   ash                           178 non-null    float64\n",
                        " 3   alcalinity_of_ash             178 non-null    float64\n",
                        " 4   magnesium                     178 non-null    float64\n",
                        " 5   total_phenols                 178 non-null    float64\n",
                        " 6   flavanoids                    178 non-null    float64\n",
                        " 7   nonflavanoid_phenols          178 non-null    float64\n",
                        " 8   proanthocyanins               178 non-null    float64\n",
                        " 9   color_intensity               178 non-null    float64\n",
                        " 10  hue                           178 non-null    float64\n",
                        " 11  od280/od315_of_diluted_wines  178 non-null    float64\n",
                        " 12  proline                       178 non-null    float64\n",
                        " 13  target                        178 non-null    float64\n",
                        "dtypes: float64(14)\n",
                        "memory usage: 19.6 KB\n"
                    ]
                }
            ],
            "metadata": {}
        },
        {
            "cell_type": "code",
            "execution_count": 4,
            "source": [
                "df.describe()"
            ],
            "outputs": [
                {
                    "output_type": "execute_result",
                    "data": {
                        "text/html": [
                            "<div>\n",
                            "<style scoped>\n",
                            "    .dataframe tbody tr th:only-of-type {\n",
                            "        vertical-align: middle;\n",
                            "    }\n",
                            "\n",
                            "    .dataframe tbody tr th {\n",
                            "        vertical-align: top;\n",
                            "    }\n",
                            "\n",
                            "    .dataframe thead th {\n",
                            "        text-align: right;\n",
                            "    }\n",
                            "</style>\n",
                            "<table border=\"1\" class=\"dataframe\">\n",
                            "  <thead>\n",
                            "    <tr style=\"text-align: right;\">\n",
                            "      <th></th>\n",
                            "      <th>alcohol</th>\n",
                            "      <th>malic_acid</th>\n",
                            "      <th>ash</th>\n",
                            "      <th>alcalinity_of_ash</th>\n",
                            "      <th>magnesium</th>\n",
                            "      <th>total_phenols</th>\n",
                            "      <th>flavanoids</th>\n",
                            "      <th>nonflavanoid_phenols</th>\n",
                            "      <th>proanthocyanins</th>\n",
                            "      <th>color_intensity</th>\n",
                            "      <th>hue</th>\n",
                            "      <th>od280/od315_of_diluted_wines</th>\n",
                            "      <th>proline</th>\n",
                            "      <th>target</th>\n",
                            "    </tr>\n",
                            "  </thead>\n",
                            "  <tbody>\n",
                            "    <tr>\n",
                            "      <th>count</th>\n",
                            "      <td>178.000000</td>\n",
                            "      <td>178.000000</td>\n",
                            "      <td>178.000000</td>\n",
                            "      <td>178.000000</td>\n",
                            "      <td>178.000000</td>\n",
                            "      <td>178.000000</td>\n",
                            "      <td>178.000000</td>\n",
                            "      <td>178.000000</td>\n",
                            "      <td>178.000000</td>\n",
                            "      <td>178.000000</td>\n",
                            "      <td>178.000000</td>\n",
                            "      <td>178.000000</td>\n",
                            "      <td>178.000000</td>\n",
                            "      <td>178.000000</td>\n",
                            "    </tr>\n",
                            "    <tr>\n",
                            "      <th>mean</th>\n",
                            "      <td>13.000618</td>\n",
                            "      <td>2.336348</td>\n",
                            "      <td>2.366517</td>\n",
                            "      <td>19.494944</td>\n",
                            "      <td>99.741573</td>\n",
                            "      <td>2.295112</td>\n",
                            "      <td>2.029270</td>\n",
                            "      <td>0.361854</td>\n",
                            "      <td>1.590899</td>\n",
                            "      <td>5.058090</td>\n",
                            "      <td>0.957449</td>\n",
                            "      <td>2.611685</td>\n",
                            "      <td>746.893258</td>\n",
                            "      <td>0.938202</td>\n",
                            "    </tr>\n",
                            "    <tr>\n",
                            "      <th>std</th>\n",
                            "      <td>0.811827</td>\n",
                            "      <td>1.117146</td>\n",
                            "      <td>0.274344</td>\n",
                            "      <td>3.339564</td>\n",
                            "      <td>14.282484</td>\n",
                            "      <td>0.625851</td>\n",
                            "      <td>0.998859</td>\n",
                            "      <td>0.124453</td>\n",
                            "      <td>0.572359</td>\n",
                            "      <td>2.318286</td>\n",
                            "      <td>0.228572</td>\n",
                            "      <td>0.709990</td>\n",
                            "      <td>314.907474</td>\n",
                            "      <td>0.775035</td>\n",
                            "    </tr>\n",
                            "    <tr>\n",
                            "      <th>min</th>\n",
                            "      <td>11.030000</td>\n",
                            "      <td>0.740000</td>\n",
                            "      <td>1.360000</td>\n",
                            "      <td>10.600000</td>\n",
                            "      <td>70.000000</td>\n",
                            "      <td>0.980000</td>\n",
                            "      <td>0.340000</td>\n",
                            "      <td>0.130000</td>\n",
                            "      <td>0.410000</td>\n",
                            "      <td>1.280000</td>\n",
                            "      <td>0.480000</td>\n",
                            "      <td>1.270000</td>\n",
                            "      <td>278.000000</td>\n",
                            "      <td>0.000000</td>\n",
                            "    </tr>\n",
                            "    <tr>\n",
                            "      <th>25%</th>\n",
                            "      <td>12.362500</td>\n",
                            "      <td>1.602500</td>\n",
                            "      <td>2.210000</td>\n",
                            "      <td>17.200000</td>\n",
                            "      <td>88.000000</td>\n",
                            "      <td>1.742500</td>\n",
                            "      <td>1.205000</td>\n",
                            "      <td>0.270000</td>\n",
                            "      <td>1.250000</td>\n",
                            "      <td>3.220000</td>\n",
                            "      <td>0.782500</td>\n",
                            "      <td>1.937500</td>\n",
                            "      <td>500.500000</td>\n",
                            "      <td>0.000000</td>\n",
                            "    </tr>\n",
                            "    <tr>\n",
                            "      <th>50%</th>\n",
                            "      <td>13.050000</td>\n",
                            "      <td>1.865000</td>\n",
                            "      <td>2.360000</td>\n",
                            "      <td>19.500000</td>\n",
                            "      <td>98.000000</td>\n",
                            "      <td>2.355000</td>\n",
                            "      <td>2.135000</td>\n",
                            "      <td>0.340000</td>\n",
                            "      <td>1.555000</td>\n",
                            "      <td>4.690000</td>\n",
                            "      <td>0.965000</td>\n",
                            "      <td>2.780000</td>\n",
                            "      <td>673.500000</td>\n",
                            "      <td>1.000000</td>\n",
                            "    </tr>\n",
                            "    <tr>\n",
                            "      <th>75%</th>\n",
                            "      <td>13.677500</td>\n",
                            "      <td>3.082500</td>\n",
                            "      <td>2.557500</td>\n",
                            "      <td>21.500000</td>\n",
                            "      <td>107.000000</td>\n",
                            "      <td>2.800000</td>\n",
                            "      <td>2.875000</td>\n",
                            "      <td>0.437500</td>\n",
                            "      <td>1.950000</td>\n",
                            "      <td>6.200000</td>\n",
                            "      <td>1.120000</td>\n",
                            "      <td>3.170000</td>\n",
                            "      <td>985.000000</td>\n",
                            "      <td>2.000000</td>\n",
                            "    </tr>\n",
                            "    <tr>\n",
                            "      <th>max</th>\n",
                            "      <td>14.830000</td>\n",
                            "      <td>5.800000</td>\n",
                            "      <td>3.230000</td>\n",
                            "      <td>30.000000</td>\n",
                            "      <td>162.000000</td>\n",
                            "      <td>3.880000</td>\n",
                            "      <td>5.080000</td>\n",
                            "      <td>0.660000</td>\n",
                            "      <td>3.580000</td>\n",
                            "      <td>13.000000</td>\n",
                            "      <td>1.710000</td>\n",
                            "      <td>4.000000</td>\n",
                            "      <td>1680.000000</td>\n",
                            "      <td>2.000000</td>\n",
                            "    </tr>\n",
                            "  </tbody>\n",
                            "</table>\n",
                            "</div>"
                        ],
                        "text/plain": [
                            "          alcohol  malic_acid         ash  alcalinity_of_ash   magnesium  \\\n",
                            "count  178.000000  178.000000  178.000000         178.000000  178.000000   \n",
                            "mean    13.000618    2.336348    2.366517          19.494944   99.741573   \n",
                            "std      0.811827    1.117146    0.274344           3.339564   14.282484   \n",
                            "min     11.030000    0.740000    1.360000          10.600000   70.000000   \n",
                            "25%     12.362500    1.602500    2.210000          17.200000   88.000000   \n",
                            "50%     13.050000    1.865000    2.360000          19.500000   98.000000   \n",
                            "75%     13.677500    3.082500    2.557500          21.500000  107.000000   \n",
                            "max     14.830000    5.800000    3.230000          30.000000  162.000000   \n",
                            "\n",
                            "       total_phenols  flavanoids  nonflavanoid_phenols  proanthocyanins  \\\n",
                            "count     178.000000  178.000000            178.000000       178.000000   \n",
                            "mean        2.295112    2.029270              0.361854         1.590899   \n",
                            "std         0.625851    0.998859              0.124453         0.572359   \n",
                            "min         0.980000    0.340000              0.130000         0.410000   \n",
                            "25%         1.742500    1.205000              0.270000         1.250000   \n",
                            "50%         2.355000    2.135000              0.340000         1.555000   \n",
                            "75%         2.800000    2.875000              0.437500         1.950000   \n",
                            "max         3.880000    5.080000              0.660000         3.580000   \n",
                            "\n",
                            "       color_intensity         hue  od280/od315_of_diluted_wines      proline  \\\n",
                            "count       178.000000  178.000000                    178.000000   178.000000   \n",
                            "mean          5.058090    0.957449                      2.611685   746.893258   \n",
                            "std           2.318286    0.228572                      0.709990   314.907474   \n",
                            "min           1.280000    0.480000                      1.270000   278.000000   \n",
                            "25%           3.220000    0.782500                      1.937500   500.500000   \n",
                            "50%           4.690000    0.965000                      2.780000   673.500000   \n",
                            "75%           6.200000    1.120000                      3.170000   985.000000   \n",
                            "max          13.000000    1.710000                      4.000000  1680.000000   \n",
                            "\n",
                            "           target  \n",
                            "count  178.000000  \n",
                            "mean     0.938202  \n",
                            "std      0.775035  \n",
                            "min      0.000000  \n",
                            "25%      0.000000  \n",
                            "50%      1.000000  \n",
                            "75%      2.000000  \n",
                            "max      2.000000  "
                        ]
                    },
                    "metadata": {},
                    "execution_count": 4
                }
            ],
            "metadata": {}
        },
        {
            "cell_type": "code",
            "execution_count": 5,
            "source": [
                "x, y = df.drop('target', axis=1), df.target\r\n",
                "x_train, x_test, y_train, y_test = train_test_split(x, y, test_size=0.3)"
            ],
            "outputs": [],
            "metadata": {}
        },
        {
            "cell_type": "code",
            "execution_count": 6,
            "source": [
                "sc = StandardScaler()\r\n",
                "x_train_std = sc.fit_transform(x_train)\r\n",
                "x_test_std = sc.transform(x_test)"
            ],
            "outputs": [],
            "metadata": {}
        },
        {
            "cell_type": "markdown",
            "source": [
                "在主成分分析和因子分析中，方差解释率表示提取的主成分/因子对原有变量的解释能力，方差解释率越大，解释能力越强，越能体现原始变量的关键影响因素，提取的主成分或因子越有效。在回归中，决定系数也可以称为方差解释率，他代表了总方差被预测变量所解释或决定的比率，决定系数越逼近1，拟合效果和解释效果越好。\r\n",
                "\r\n",
                "所谓方差越大，包含的信息也就越多，变量的解释能力也就越强。而各个主成分的方差等于其所对应的特征值，也就是Var(Yj)=λj，\r\n"
            ],
            "metadata": {}
        },
        {
            "cell_type": "markdown",
            "source": [
                "----\r\n",
                "特征值方法"
            ],
            "metadata": {}
        },
        {
            "cell_type": "markdown",
            "source": [
                "注意，svd和ed用的都是中心化的数据"
            ],
            "metadata": {}
        },
        {
            "cell_type": "code",
            "execution_count": 7,
            "source": [
                "cov_matrix = np.cov(x_train_std.T)\r\n",
                "eigen_val, eigen_vec = np.linalg.eig(cov_matrix)\r\n",
                "eigen_val"
            ],
            "outputs": [
                {
                    "output_type": "execute_result",
                    "data": {
                        "text/plain": [
                            "array([4.83408409, 2.46565883, 1.60795044, 0.99735841, 0.80634984,\n",
                            "       0.60102626, 0.48429853, 0.09303987, 0.34077896, 0.30016873,\n",
                            "       0.15734651, 0.20096595, 0.21666465])"
                        ]
                    },
                    "metadata": {},
                    "execution_count": 7
                }
            ],
            "metadata": {}
        },
        {
            "cell_type": "code",
            "execution_count": 8,
            "source": [
                "var_ratio = eigen_val/(eigen_val.sum())\r\n",
                "cum_var_ratio = np.cumsum(var_ratio)\r\n",
                "plt.step(x = range(1,14), y = cum_var_ratio,\r\n",
                "        label = 'Cumulative_component_variance')\r\n",
                "plt.bar(x = range(1,14), height = var_ratio, color = 'lightblue', \r\n",
                "        label = 'Individual_component_variance')\r\n",
                "plt.title('Components Variance')\r\n",
                "plt.legend(loc = 'right')\r\n"
            ],
            "outputs": [
                {
                    "output_type": "execute_result",
                    "data": {
                        "text/plain": [
                            "<matplotlib.legend.Legend at 0x1c534b18240>"
                        ]
                    },
                    "metadata": {},
                    "execution_count": 8
                },
                {
                    "output_type": "display_data",
                    "data": {
                        "image/png": "[encoded data removed]",
                        "text/plain": [
                            "<Figure size 576x396 with 1 Axes>"
                        ]
                    },
                    "metadata": {}
                }
            ],
            "metadata": {}
        },
        {
            "cell_type": "markdown",
            "source": [
                "----\r\n",
                "奇异值方法。\r\n",
                "\r\n",
                "顺便检验两种方法算出的特征值是否相同。"
            ],
            "metadata": {}
        },
        {
            "cell_type": "code",
            "execution_count": 9,
            "source": [
                "U, S, V = np.linalg.svd(x_train_std)"
            ],
            "outputs": [],
            "metadata": {}
        },
        {
            "cell_type": "code",
            "execution_count": 32,
            "source": [
                "x_train_std.shape"
            ],
            "outputs": [
                {
                    "output_type": "execute_result",
                    "data": {
                        "text/plain": [
                            "(124, 13)"
                        ]
                    },
                    "metadata": {},
                    "execution_count": 32
                }
            ],
            "metadata": {}
        },
        {
            "cell_type": "code",
            "execution_count": 11,
            "source": [
                "eigen_val"
            ],
            "outputs": [
                {
                    "output_type": "execute_result",
                    "data": {
                        "text/plain": [
                            "array([4.83408409, 2.46565883, 1.60795044, 0.99735841, 0.80634984,\n",
                            "       0.60102626, 0.48429853, 0.09303987, 0.34077896, 0.30016873,\n",
                            "       0.15734651, 0.20096595, 0.21666465])"
                        ]
                    },
                    "metadata": {},
                    "execution_count": 11
                }
            ],
            "metadata": {}
        },
        {
            "cell_type": "code",
            "execution_count": 12,
            "source": [
                "np.square(S) / (x_train_std.shape[0]-1)"
            ],
            "outputs": [
                {
                    "output_type": "execute_result",
                    "data": {
                        "text/plain": [
                            "array([4.83408409, 2.46565883, 1.60795044, 0.99735841, 0.80634984,\n",
                            "       0.60102626, 0.48429853, 0.34077896, 0.30016873, 0.21666465,\n",
                            "       0.20096595, 0.15734651, 0.09303987])"
                        ]
                    },
                    "metadata": {},
                    "execution_count": 12
                }
            ],
            "metadata": {}
        },
        {
            "cell_type": "code",
            "execution_count": 13,
            "source": [
                "eigen_val1 = np.square(S) / (x_train_std.shape[0]-1)\r\n",
                "var_ratio = eigen_val1/eigen_val1.sum()\r\n",
                "cum_var_ratio = np.cumsum(var_ratio)"
            ],
            "outputs": [],
            "metadata": {}
        },
        {
            "cell_type": "code",
            "execution_count": 14,
            "source": [
                "\r\n",
                "plt.step(x = range(1,14), \r\n",
                "        y = cum_var_ratio,\r\n",
                "        label = 'Cumulative_component_variance')\r\n",
                "\r\n",
                "plt.bar(x = range(1,14), \r\n",
                "        height = var_ratio, \r\n",
                "        color = 'darkcyan', \r\n",
                "        label = 'Individual_component_variance')\r\n",
                "\r\n",
                "plt.title('Components Variance')\r\n",
                "plt.legend(loc = 'right')\r\n"
            ],
            "outputs": [
                {
                    "output_type": "execute_result",
                    "data": {
                        "text/plain": [
                            "<matplotlib.legend.Legend at 0x1c534c471d0>"
                        ]
                    },
                    "metadata": {},
                    "execution_count": 14
                },
                {
                    "output_type": "display_data",
                    "data": {
                        "image/png": "[encoded data removed]",
                        "text/plain": [
                            "<Figure size 576x396 with 1 Axes>"
                        ]
                    },
                    "metadata": {}
                }
            ],
            "metadata": {}
        },
        {
            "cell_type": "markdown",
            "source": [
                "----\r\n",
                "特征变换\r\n"
            ],
            "metadata": {}
        },
        {
            "cell_type": "code",
            "execution_count": 15,
            "source": [
                "eigen_pairs = [(np.abs(eigen_val[i]), \r\n",
                "                eigen_vec[:,i]) for i in range(len(eigen_val))]\r\n",
                "\r\n",
                "eigen_pairs.sort(key=lambda k:k[0], reverse=True)"
            ],
            "outputs": [],
            "metadata": {}
        },
        {
            "cell_type": "code",
            "execution_count": 16,
            "source": [
                "w = np.c_[eigen_pairs[0][1],eigen_pairs[1][1]]\r\n",
                "w"
            ],
            "outputs": [
                {
                    "output_type": "execute_result",
                    "data": {
                        "text/plain": [
                            "array([[ 0.11645962,  0.4730375 ],\n",
                            "       [-0.25171097,  0.17752112],\n",
                            "       [-0.00422795,  0.30888974],\n",
                            "       [-0.22793778, -0.0313588 ],\n",
                            "       [ 0.08476121,  0.38317845],\n",
                            "       [ 0.39647836,  0.0656858 ],\n",
                            "       [ 0.41904379,  0.02051815],\n",
                            "       [-0.30696668,  0.01689802],\n",
                            "       [ 0.30869158,  0.04460681],\n",
                            "       [-0.13823206,  0.50697125],\n",
                            "       [ 0.32043958, -0.20440076],\n",
                            "       [ 0.38396378, -0.17197371],\n",
                            "       [ 0.26905601,  0.40757135]])"
                        ]
                    },
                    "metadata": {},
                    "execution_count": 16
                }
            ],
            "metadata": {}
        },
        {
            "cell_type": "code",
            "execution_count": 17,
            "source": [
                "x_train_std.shape"
            ],
            "outputs": [
                {
                    "output_type": "execute_result",
                    "data": {
                        "text/plain": [
                            "(124, 13)"
                        ]
                    },
                    "metadata": {},
                    "execution_count": 17
                }
            ],
            "metadata": {}
        },
        {
            "cell_type": "code",
            "execution_count": 18,
            "source": [
                "x_train_pca = x_train_std.dot(w)"
            ],
            "outputs": [],
            "metadata": {}
        },
        {
            "cell_type": "code",
            "execution_count": 19,
            "source": [
                "plot_df = pd.DataFrame({'pc1':x_train_pca[:,0],\r\n",
                "                        'pc2':x_train_pca[:,1],\r\n",
                "                        'label':y_train})\r\n",
                "sns.scatterplot(x='pc1', y='pc2',\r\n",
                "                data=plot_df,\r\n",
                "                hue='label',\r\n",
                "                palette='winter_d')\r\n",
                "plt.title('PCA Result')"
            ],
            "outputs": [
                {
                    "output_type": "execute_result",
                    "data": {
                        "text/plain": [
                            "Text(0.5, 1.0, 'PCA Result')"
                        ]
                    },
                    "metadata": {},
                    "execution_count": 19
                },
                {
                    "output_type": "display_data",
                    "data": {
                        "image/png": "[encoded data removed]",
                        "text/plain": [
                            "<Figure size 576x396 with 1 Axes>"
                        ]
                    },
                    "metadata": {}
                }
            ],
            "metadata": {}
        },
        {
            "cell_type": "code",
            "execution_count": 20,
            "source": [
                "from sklearn.linear_model import LogisticRegression\r\n",
                "from sklearn.decomposition import PCA\r\n",
                "from matplotlib.colors import ListedColormap"
            ],
            "outputs": [],
            "metadata": {}
        },
        {
            "cell_type": "code",
            "execution_count": 21,
            "source": [
                "def plot_decision_regions(x, y, model , res=0.02):\r\n",
                "    markers = ['s','x','o','^','v']\r\n",
                "    colors = ['r','g','b','gray','cyan']\r\n",
                "    cmap = ListedColormap(colors[:len(np.unique(y))]) \r\n",
                "    \r\n",
                "    x1_min, x1_max = x[:,0].min()-1, x[:,0].max()+1\r\n",
                "    x2_min, x2_max = x[:,1].min()-1, x[:,1].max()+1\r\n",
                "    xx1, xx2 = np.meshgrid(np.arange(x1_min, x1_max, res),\r\n",
                "                            np.arange(x2_min, x2_max,res))\r\n",
                "    z = model.predict(np.array([xx1.ravel(),xx2.ravel()]).T)\r\n",
                "    z = z.reshape(xx1.shape)\r\n",
                "    plt.contourf(xx1, xx2, z, alpha=0.4, cmap = cmap)\r\n",
                "    \r\n",
                "    for idx, cc in enumerate(np.unique(y)):\r\n",
                "        plt.scatter(x=x[y==cc, 0],\r\n",
                "                    y=x[y==cc, 1],\r\n",
                "                    alpha=0.6,\r\n",
                "                    c=cmap(idx),\r\n",
                "                    edgecolor = 'black',\r\n",
                "                    marker = markers[idx],\r\n",
                "                    label=cc)"
            ],
            "outputs": [],
            "metadata": {}
        },
        {
            "cell_type": "code",
            "execution_count": 22,
            "source": [
                "for i in enumerate(np.unique(y_train)):\r\n",
                "    print(i)"
            ],
            "outputs": [
                {
                    "output_type": "stream",
                    "name": "stdout",
                    "text": [
                        "(0, 0.0)\n",
                        "(1, 1.0)\n",
                        "(2, 2.0)\n"
                    ]
                }
            ],
            "metadata": {}
        },
        {
            "cell_type": "code",
            "execution_count": 23,
            "source": [
                "pca = PCA(n_components=2)\r\n",
                "lr = LogisticRegression()\r\n",
                "x_train_pca = pca.fit_transform(x_train_std)\r\n",
                "x_test_pcs = pca.transform(x_test_std)\r\n",
                "\r\n",
                "lr.fit(x_train_pca, y_train.astype('int'))\r\n",
                "plot_decision_regions(x_train_pca, y_train.astype('int'), model=lr)\r\n"
            ],
            "outputs": [
                {
                    "output_type": "stream",
                    "name": "stderr",
                    "text": [
                        "*c* argument looks like a single numeric RGB or RGBA sequence, which should be avoided as value-mapping will have precedence in case its length matches with *x* & *y*.  Please use the *color* keyword-argument or provide a 2-D array with a single row if you intend to specify the same RGB or RGBA value for all points.\n",
                        "*c* argument looks like a single numeric RGB or RGBA sequence, which should be avoided as value-mapping will have precedence in case its length matches with *x* & *y*.  Please use the *color* keyword-argument or provide a 2-D array with a single row if you intend to specify the same RGB or RGBA value for all points.\n",
                        "*c* argument looks like a single numeric RGB or RGBA sequence, which should be avoided as value-mapping will have precedence in case its length matches with *x* & *y*.  Please use the *color* keyword-argument or provide a 2-D array with a single row if you intend to specify the same RGB or RGBA value for all points.\n"
                    ]
                },
                {
                    "output_type": "display_data",
                    "data": {
                        "image/png": "[encoded data removed]",
                        "text/plain": [
                            "<Figure size 576x396 with 1 Axes>"
                        ]
                    },
                    "metadata": {}
                }
            ],
            "metadata": {}
        },
        {
            "cell_type": "code",
            "execution_count": 24,
            "source": [
                "x = x_train_pca\r\n",
                "y = y_train.astype('int')"
            ],
            "outputs": [],
            "metadata": {}
        },
        {
            "cell_type": "code",
            "execution_count": 25,
            "source": [
                "x1_min, x1_max = x[:,0].min()-1, x[:,0].max()+1\r\n",
                "x2_min, x2_max = x[:,1].min()-1, x[:,1].max()+1\r\n",
                "xx1, xx2 = np.meshgrid(np.arange(x1_min, x1_max, 0.02),\r\n",
                "                            np.arange(x2_min, x2_max, 0.02))"
            ],
            "outputs": [],
            "metadata": {}
        },
        {
            "cell_type": "code",
            "execution_count": 26,
            "source": [
                "xx1"
            ],
            "outputs": [
                {
                    "output_type": "execute_result",
                    "data": {
                        "text/plain": [
                            "array([[-5.13682177, -5.11682177, -5.09682177, ...,  5.22317823,\n",
                            "         5.24317823,  5.26317823],\n",
                            "       [-5.13682177, -5.11682177, -5.09682177, ...,  5.22317823,\n",
                            "         5.24317823,  5.26317823],\n",
                            "       [-5.13682177, -5.11682177, -5.09682177, ...,  5.22317823,\n",
                            "         5.24317823,  5.26317823],\n",
                            "       ...,\n",
                            "       [-5.13682177, -5.11682177, -5.09682177, ...,  5.22317823,\n",
                            "         5.24317823,  5.26317823],\n",
                            "       [-5.13682177, -5.11682177, -5.09682177, ...,  5.22317823,\n",
                            "         5.24317823,  5.26317823],\n",
                            "       [-5.13682177, -5.11682177, -5.09682177, ...,  5.22317823,\n",
                            "         5.24317823,  5.26317823]])"
                        ]
                    },
                    "metadata": {},
                    "execution_count": 26
                }
            ],
            "metadata": {}
        },
        {
            "cell_type": "code",
            "execution_count": 27,
            "source": [
                "xx2"
            ],
            "outputs": [
                {
                    "output_type": "execute_result",
                    "data": {
                        "text/plain": [
                            "array([[-3.87100234, -3.87100234, -3.87100234, ..., -3.87100234,\n",
                            "        -3.87100234, -3.87100234],\n",
                            "       [-3.85100234, -3.85100234, -3.85100234, ..., -3.85100234,\n",
                            "        -3.85100234, -3.85100234],\n",
                            "       [-3.83100234, -3.83100234, -3.83100234, ..., -3.83100234,\n",
                            "        -3.83100234, -3.83100234],\n",
                            "       ...,\n",
                            "       [ 4.38899766,  4.38899766,  4.38899766, ...,  4.38899766,\n",
                            "         4.38899766,  4.38899766],\n",
                            "       [ 4.40899766,  4.40899766,  4.40899766, ...,  4.40899766,\n",
                            "         4.40899766,  4.40899766],\n",
                            "       [ 4.42899766,  4.42899766,  4.42899766, ...,  4.42899766,\n",
                            "         4.42899766,  4.42899766]])"
                        ]
                    },
                    "metadata": {},
                    "execution_count": 27
                }
            ],
            "metadata": {}
        },
        {
            "cell_type": "code",
            "execution_count": 28,
            "source": [
                "xx1, xx2 = np.meshgrid(np.arange(0, 1, 0.02),\r\n",
                "                            np.arange(0, 2, 0.02))"
            ],
            "outputs": [],
            "metadata": {}
        },
        {
            "cell_type": "code",
            "execution_count": 29,
            "source": [
                "xx1"
            ],
            "outputs": [
                {
                    "output_type": "execute_result",
                    "data": {
                        "text/plain": [
                            "array([[0.  , 0.02, 0.04, ..., 0.94, 0.96, 0.98],\n",
                            "       [0.  , 0.02, 0.04, ..., 0.94, 0.96, 0.98],\n",
                            "       [0.  , 0.02, 0.04, ..., 0.94, 0.96, 0.98],\n",
                            "       ...,\n",
                            "       [0.  , 0.02, 0.04, ..., 0.94, 0.96, 0.98],\n",
                            "       [0.  , 0.02, 0.04, ..., 0.94, 0.96, 0.98],\n",
                            "       [0.  , 0.02, 0.04, ..., 0.94, 0.96, 0.98]])"
                        ]
                    },
                    "metadata": {},
                    "execution_count": 29
                }
            ],
            "metadata": {}
        },
        {
            "cell_type": "code",
            "execution_count": 30,
            "source": [
                "xx2"
            ],
            "outputs": [
                {
                    "output_type": "execute_result",
                    "data": {
                        "text/plain": [
                            "array([[0.  , 0.  , 0.  , ..., 0.  , 0.  , 0.  ],\n",
                            "       [0.02, 0.02, 0.02, ..., 0.02, 0.02, 0.02],\n",
                            "       [0.04, 0.04, 0.04, ..., 0.04, 0.04, 0.04],\n",
                            "       ...,\n",
                            "       [1.94, 1.94, 1.94, ..., 1.94, 1.94, 1.94],\n",
                            "       [1.96, 1.96, 1.96, ..., 1.96, 1.96, 1.96],\n",
                            "       [1.98, 1.98, 1.98, ..., 1.98, 1.98, 1.98]])"
                        ]
                    },
                    "metadata": {},
                    "execution_count": 30
                }
            ],
            "metadata": {}
        },
        {
            "cell_type": "code",
            "execution_count": null,
            "source": [],
            "outputs": [],
            "metadata": {}
        }
    ],
    "metadata": {
        "orig_nbformat": 4,
        "language_info": {
            "name": "python",
            "version": "3.6.13",
            "mimetype": "text/x-python",
            "codemirror_mode": {
                "name": "ipython",
                "version": 3
            },
            "pygments_lexer": "ipython3",
            "nbconvert_exporter": "python",
            "file_extension": ".py"
        },
        "kernelspec": {
            "name": "python3",
            "display_name": "Python 3.6.13 64-bit ('python36': conda)"
        },
        "interpreter": {
            "hash": "c4ba2975249f22329a2bfd4358de00082d7a2d8b97caacaf84290d52b0d66844"
        }
    },
    "nbformat": 4,
    "nbformat_minor": 2
}