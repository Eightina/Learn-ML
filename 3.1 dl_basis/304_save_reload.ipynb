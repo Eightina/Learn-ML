{
 "cells": [
  {
   "cell_type": "markdown",
   "source": [
    "# 304 Save and Reload\n"
   ],
   "metadata": {}
  },
  {
   "cell_type": "code",
   "execution_count": 13,
   "source": [
    "import torch\r\n",
    "from torch.autograd import Variable\r\n",
    "import matplotlib.pyplot as plt\r\n",
    "%matplotlib inline\r\n",
    "\r\n",
    "torch.manual_seed(1)    # reproducible"
   ],
   "outputs": [
    {
     "output_type": "execute_result",
     "data": {
      "text/plain": [
       "<torch._C.Generator at 0x19a6d0952d0>"
      ]
     },
     "metadata": {},
     "execution_count": 13
    }
   ],
   "metadata": {}
  },
  {
   "cell_type": "markdown",
   "source": [
    "### Generate some fake data"
   ],
   "metadata": {}
  },
  {
   "cell_type": "code",
   "execution_count": 14,
   "source": [
    "x = torch.unsqueeze(torch.linspace(-1, 1, 100), dim=1)  # x data (tensor), shape=(100, 1)\r\n",
    "y = x.pow(2) + 0.2*torch.rand(x.size())  # noisy y data (tensor), shape=(100, 1)\r\n",
    "x, y = Variable(x, requires_grad=False), Variable(y, requires_grad=False)\r\n"
   ],
   "outputs": [],
   "metadata": {}
  },
  {
   "cell_type": "code",
   "execution_count": 15,
   "source": [
    "def save():\r\n",
    "    # save net1\r\n",
    "    net1 = torch.nn.Sequential(\r\n",
    "        torch.nn.Linear(1, 10),\r\n",
    "        torch.nn.ReLU(),\r\n",
    "        torch.nn.Linear(10, 1)\r\n",
    "    )\r\n",
    "    optimizer = torch.optim.SGD(net1.parameters(), lr=0.5)\r\n",
    "    loss_func = torch.nn.MSELoss()\r\n",
    "\r\n",
    "    for t in range(1000):\r\n",
    "        prediction = net1(x)\r\n",
    "        loss = loss_func(prediction, y)\r\n",
    "        optimizer.zero_grad()\r\n",
    "        loss.backward()\r\n",
    "        optimizer.step()\r\n",
    "\r\n",
    "    # plot result\r\n",
    "    plt.figure(1, figsize=(10, 3))\r\n",
    "    plt.subplot(131)\r\n",
    "    plt.title('Net1')\r\n",
    "    plt.scatter(x.data.numpy(), y.data.numpy())\r\n",
    "    plt.plot(x.data.numpy(), prediction.data.numpy(), 'r-', lw=5)\r\n",
    "\r\n",
    "    # 2 ways to save the net\r\n",
    "    torch.save(net1, 'net.pkl')  # save entire net\r\n",
    "    torch.save(net1.state_dict(), 'net_params.pkl')   # save only the parameters"
   ],
   "outputs": [],
   "metadata": {}
  },
  {
   "cell_type": "code",
   "execution_count": 16,
   "source": [
    "def restore_net():\r\n",
    "    # restore entire net1 to net2\r\n",
    "    net2 = torch.load('net.pkl')\r\n",
    "    prediction = net2(x)\r\n",
    "\r\n",
    "    # plot result\r\n",
    "    plt.subplot(132)\r\n",
    "    plt.title('Net2')\r\n",
    "    plt.scatter(x.data.numpy(), y.data.numpy())\r\n",
    "    plt.plot(x.data.numpy(), prediction.data.numpy(), 'r-', lw=5)\r\n"
   ],
   "outputs": [],
   "metadata": {}
  },
  {
   "cell_type": "code",
   "execution_count": 17,
   "source": [
    "def restore_params():\r\n",
    "    # restore only the parameters in net1 to net3\r\n",
    "    net3 = torch.nn.Sequential(\r\n",
    "        torch.nn.Linear(1, 10),\r\n",
    "        torch.nn.ReLU(),\r\n",
    "        torch.nn.Linear(10, 1)\r\n",
    "    )\r\n",
    "\r\n",
    "    # copy net1's parameters into net3\r\n",
    "    net3.load_state_dict(torch.load('net_params.pkl'))\r\n",
    "    prediction = net3(x)\r\n",
    "\r\n",
    "    # plot result\r\n",
    "    plt.subplot(133)\r\n",
    "    plt.title('Net3')\r\n",
    "    plt.scatter(x.data.numpy(), y.data.numpy())\r\n",
    "    plt.plot(x.data.numpy(), prediction.data.numpy(), 'r-', lw=5)\r\n",
    "    plt.show()"
   ],
   "outputs": [],
   "metadata": {}
  },
  {
   "cell_type": "code",
   "execution_count": 18,
   "source": [
    "# save net1\r\n",
    "save()\r\n",
    "# restore entire net (may slow)\r\n",
    "restore_net()\r\n",
    "# restore only the net parameters\r\n",
    "restore_params()"
   ],
   "outputs": [
    {
     "output_type": "display_data",
     "data": {
      "image/png": "[encoded data removed]",
      "text/plain": [
       "<Figure size 720x216 with 3 Axes>"
      ]
     },
     "metadata": {
      "needs_background": "light"
     }
    }
   ],
   "metadata": {}
  },
  {
   "cell_type": "code",
   "execution_count": null,
   "source": [],
   "outputs": [],
   "metadata": {
    "collapsed": true
   }
  }
 ],
 "metadata": {
  "kernelspec": {
   "name": "python3",
   "display_name": "Python 3.6.13 64-bit ('python36': conda)"
  },
  "language_info": {
   "codemirror_mode": {
    "name": "ipython",
    "version": 3
   },
   "file_extension": ".py",
   "mimetype": "text/x-python",
   "name": "python",
   "nbconvert_exporter": "python",
   "pygments_lexer": "ipython3",
   "version": "3.6.13"
  },
  "interpreter": {
   "hash": "c4ba2975249f22329a2bfd4358de00082d7a2d8b97caacaf84290d52b0d66844"
  }
 },
 "nbformat": 4,
 "nbformat_minor": 2
}