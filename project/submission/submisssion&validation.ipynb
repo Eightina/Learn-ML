{
 "cells": [
  {
   "cell_type": "code",
   "execution_count": 1,
   "metadata": {},
   "outputs": [],
   "source": [
    "import pandas as pd\n",
    "import numpy as np\n",
    "import sklearn\n",
    "import matplotlib.pyplot as plt\n",
    "import seaborn as sns\n",
    "import torch\n",
    "from sklearn.preprocessing import StandardScaler "
   ]
  },
  {
   "cell_type": "code",
   "execution_count": 2,
   "metadata": {},
   "outputs": [],
   "source": [
    "torch_ba = pd.read_csv('pred_test_ba.csv')\n",
    "gbm_ba = pd.read_csv('gbm_ba.csv')\n",
    "torch_ba.drop('Unnamed: 0', axis = 1, inplace = True)\n",
    "label = pd.read_csv('test_label.csv').target.map({\"Class_1\":0, \"Class_2\":1, \"Class_3\":2, \"Class_4\":3})\n",
    "label = np.array(label)\n",
    "torch_ba = np.array(torch_ba)\n",
    "gbm_ba = np.array(gbm_ba)\n"
   ]
  },
  {
   "cell_type": "code",
   "execution_count": 3,
   "metadata": {},
   "outputs": [],
   "source": [
    "torch_pred = np.array([np.argwhere(x == x.max())for x in torch_ba]).squeeze()\n",
    "gbm_pred = np.array([np.argwhere(x == x.max())for x in gbm_ba]).squeeze()\n",
    "# scaler = StandardScaler()\n",
    "# torch_ba = scaler.fit_transform(torch_ba)\n",
    "# gbm_ba = scaler.fit_transform(gbm_ba)\n",
    "merge_ba = (torch_ba+gbm_ba)/2\n",
    "merge_pred = np.array([np.argwhere(x == x.max())for x in merge_ba]).squeeze()"
   ]
  },
  {
   "cell_type": "code",
   "execution_count": 5,
   "metadata": {},
   "outputs": [
    {
     "data": {
      "text/html": [
       "<div>\n",
       "<style scoped>\n",
       "    .dataframe tbody tr th:only-of-type {\n",
       "        vertical-align: middle;\n",
       "    }\n",
       "\n",
       "    .dataframe tbody tr th {\n",
       "        vertical-align: top;\n",
       "    }\n",
       "\n",
       "    .dataframe thead th {\n",
       "        text-align: right;\n",
       "    }\n",
       "</style>\n",
       "<table border=\"1\" class=\"dataframe\">\n",
       "  <thead>\n",
       "    <tr style=\"text-align: right;\">\n",
       "      <th></th>\n",
       "      <th>id</th>\n",
       "      <th>Class_1</th>\n",
       "      <th>Class_2</th>\n",
       "      <th>Class_3</th>\n",
       "      <th>Class_4</th>\n",
       "    </tr>\n",
       "  </thead>\n",
       "  <tbody>\n",
       "    <tr>\n",
       "      <th>0</th>\n",
       "      <td>100000</td>\n",
       "      <td>0.25</td>\n",
       "      <td>0.25</td>\n",
       "      <td>0.25</td>\n",
       "      <td>0.25</td>\n",
       "    </tr>\n",
       "    <tr>\n",
       "      <th>1</th>\n",
       "      <td>100001</td>\n",
       "      <td>0.25</td>\n",
       "      <td>0.25</td>\n",
       "      <td>0.25</td>\n",
       "      <td>0.25</td>\n",
       "    </tr>\n",
       "    <tr>\n",
       "      <th>2</th>\n",
       "      <td>100002</td>\n",
       "      <td>0.25</td>\n",
       "      <td>0.25</td>\n",
       "      <td>0.25</td>\n",
       "      <td>0.25</td>\n",
       "    </tr>\n",
       "    <tr>\n",
       "      <th>3</th>\n",
       "      <td>100003</td>\n",
       "      <td>0.25</td>\n",
       "      <td>0.25</td>\n",
       "      <td>0.25</td>\n",
       "      <td>0.25</td>\n",
       "    </tr>\n",
       "    <tr>\n",
       "      <th>4</th>\n",
       "      <td>100004</td>\n",
       "      <td>0.25</td>\n",
       "      <td>0.25</td>\n",
       "      <td>0.25</td>\n",
       "      <td>0.25</td>\n",
       "    </tr>\n",
       "    <tr>\n",
       "      <th>...</th>\n",
       "      <td>...</td>\n",
       "      <td>...</td>\n",
       "      <td>...</td>\n",
       "      <td>...</td>\n",
       "      <td>...</td>\n",
       "    </tr>\n",
       "    <tr>\n",
       "      <th>49995</th>\n",
       "      <td>149995</td>\n",
       "      <td>0.25</td>\n",
       "      <td>0.25</td>\n",
       "      <td>0.25</td>\n",
       "      <td>0.25</td>\n",
       "    </tr>\n",
       "    <tr>\n",
       "      <th>49996</th>\n",
       "      <td>149996</td>\n",
       "      <td>0.25</td>\n",
       "      <td>0.25</td>\n",
       "      <td>0.25</td>\n",
       "      <td>0.25</td>\n",
       "    </tr>\n",
       "    <tr>\n",
       "      <th>49997</th>\n",
       "      <td>149997</td>\n",
       "      <td>0.25</td>\n",
       "      <td>0.25</td>\n",
       "      <td>0.25</td>\n",
       "      <td>0.25</td>\n",
       "    </tr>\n",
       "    <tr>\n",
       "      <th>49998</th>\n",
       "      <td>149998</td>\n",
       "      <td>0.25</td>\n",
       "      <td>0.25</td>\n",
       "      <td>0.25</td>\n",
       "      <td>0.25</td>\n",
       "    </tr>\n",
       "    <tr>\n",
       "      <th>49999</th>\n",
       "      <td>149999</td>\n",
       "      <td>0.25</td>\n",
       "      <td>0.25</td>\n",
       "      <td>0.25</td>\n",
       "      <td>0.25</td>\n",
       "    </tr>\n",
       "  </tbody>\n",
       "</table>\n",
       "<p>50000 rows × 5 columns</p>\n",
       "</div>"
      ],
      "text/plain": [
       "           id  Class_1  Class_2  Class_3  Class_4\n",
       "0      100000     0.25     0.25     0.25     0.25\n",
       "1      100001     0.25     0.25     0.25     0.25\n",
       "2      100002     0.25     0.25     0.25     0.25\n",
       "3      100003     0.25     0.25     0.25     0.25\n",
       "4      100004     0.25     0.25     0.25     0.25\n",
       "...       ...      ...      ...      ...      ...\n",
       "49995  149995     0.25     0.25     0.25     0.25\n",
       "49996  149996     0.25     0.25     0.25     0.25\n",
       "49997  149997     0.25     0.25     0.25     0.25\n",
       "49998  149998     0.25     0.25     0.25     0.25\n",
       "49999  149999     0.25     0.25     0.25     0.25\n",
       "\n",
       "[50000 rows x 5 columns]"
      ]
     },
     "execution_count": 5,
     "metadata": {},
     "output_type": "execute_result"
    }
   ],
   "source": [
    "sp  = pd.read_csv('sample_submission.csv')\n",
    "sp"
   ]
  },
  {
   "cell_type": "code",
   "execution_count": 6,
   "metadata": {},
   "outputs": [
    {
     "data": {
      "text/plain": [
       "80000"
      ]
     },
     "execution_count": 6,
     "metadata": {},
     "output_type": "execute_result"
    }
   ],
   "source": [
    "torch_ba.size\n"
   ]
  },
  {
   "cell_type": "code",
   "execution_count": 39,
   "metadata": {},
   "outputs": [
    {
     "data": {
      "text/plain": [
       "array([[0.02573478, 0.52341225, 0.41291213, 0.03794084],\n",
       "       [0.06403118, 0.49454252, 0.34417159, 0.0972547 ],\n",
       "       [0.11374126, 0.65501724, 0.14029585, 0.09094565],\n",
       "       ...,\n",
       "       [0.16115675, 0.48374561, 0.10624133, 0.24885631],\n",
       "       [0.05270594, 0.711948  , 0.14647419, 0.08887187],\n",
       "       [0.10529847, 0.44676158, 0.34796956, 0.09997039]])"
      ]
     },
     "execution_count": 39,
     "metadata": {},
     "output_type": "execute_result"
    }
   ],
   "source": [
    "gbm_ba"
   ]
  },
  {
   "cell_type": "code",
   "execution_count": 40,
   "metadata": {},
   "outputs": [
    {
     "name": "stdout",
     "output_type": "stream",
     "text": [
      "torch预测accuracy： 0.57345\n",
      "gbm预测accuracy： 0.5708\n",
      "merge预测accuracy： 0.57795\n"
     ]
    }
   ],
   "source": [
    "print('torch预测accuracy：',np.array([label == torch_pred]).sum()/len(label))\n",
    "print('gbm预测accuracy：',np.array([label == gbm_pred]).sum()/len(label))\n",
    "print('merge预测accuracy：',np.array([label == merge_pred]).sum()/len(label))"
   ]
  },
  {
   "cell_type": "code",
   "execution_count": 41,
   "metadata": {},
   "outputs": [
    {
     "name": "stdout",
     "output_type": "stream",
     "text": [
      "torch预测loss： tensor(1.1311, dtype=torch.float64)\n",
      "gbm预测loss： tensor(1.2256, dtype=torch.float64)\n",
      "merge预测loss： tensor(1.1660, dtype=torch.float64)\n"
     ]
    }
   ],
   "source": [
    "criteria = torch.nn.CrossEntropyLoss()\n",
    "torch_loss = criteria(torch.from_numpy(torch_ba), torch.from_numpy(label))\n",
    "gbm_loss = criteria(torch.from_numpy(gbm_ba), torch.from_numpy(label))\n",
    "merge_loss = criteria(torch.from_numpy(merge_ba), torch.from_numpy(label))\n",
    "print('torch预测loss：',torch_loss)\n",
    "print('gbm预测loss：',gbm_loss)\n",
    "print('merge预测loss：',merge_loss)"
   ]
  },
  {
   "cell_type": "code",
   "execution_count": 42,
   "metadata": {},
   "outputs": [
    {
     "data": {
      "text/plain": [
       "<AxesSubplot:ylabel='Count'>"
      ]
     },
     "execution_count": 42,
     "metadata": {},
     "output_type": "execute_result"
    },
    {
     "data": {
      "image/png": "[encoded data removed]",
      "text/plain": [
       "<Figure size 432x288 with 1 Axes>"
      ]
     },
     "metadata": {
      "needs_background": "light"
     },
     "output_type": "display_data"
    }
   ],
   "source": [
    "sns.histplot(gbm_pred)"
   ]
  },
  {
   "cell_type": "code",
   "execution_count": 43,
   "metadata": {},
   "outputs": [
    {
     "data": {
      "text/plain": [
       "<AxesSubplot:ylabel='Count'>"
      ]
     },
     "execution_count": 43,
     "metadata": {},
     "output_type": "execute_result"
    },
    {
     "data": {
      "image/png": "[encoded data removed]",
      "text/plain": [
       "<Figure size 432x288 with 1 Axes>"
      ]
     },
     "metadata": {
      "needs_background": "light"
     },
     "output_type": "display_data"
    }
   ],
   "source": [
    "sns.histplot(torch_pred)"
   ]
  },
  {
   "cell_type": "code",
   "execution_count": 44,
   "metadata": {},
   "outputs": [
    {
     "data": {
      "text/plain": [
       "<AxesSubplot:ylabel='Count'>"
      ]
     },
     "execution_count": 44,
     "metadata": {},
     "output_type": "execute_result"
    },
    {
     "data": {
      "image/png": "[encoded data removed]",
      "text/plain": [
       "<Figure size 432x288 with 1 Axes>"
      ]
     },
     "metadata": {
      "needs_background": "light"
     },
     "output_type": "display_data"
    }
   ],
   "source": [
    "sns.histplot(merge_pred)"
   ]
  },
  {
   "cell_type": "code",
   "execution_count": 70,
   "metadata": {},
   "outputs": [
    {
     "data": {
      "image/png": "[encoded data removed]",
      "text/plain": [
       "<Figure size 576x1152 with 9 Axes>"
      ]
     },
     "metadata": {
      "needs_background": "light"
     },
     "output_type": "display_data"
    }
   ],
   "source": [
    "import matplotlib.pyplot as plt\n",
    "import seaborn as sns\n",
    "plt.figure(figsize = [8,16])\n",
    "plt.subplot(9,1,1)\n",
    "plt.step(range(13),[0,0,1,0,0,0,0,1,1,1,1,1,1])\n",
    "plt.ylim(-1,2)\n",
    "plt.xticks(range(13))\n",
    "plt.yticks([0,1])\n",
    "plt.title('K1')\n",
    "\n",
    "plt.subplot(9,1,2)\n",
    "plt.step(range(13),[0,0,0,0,0,1,0,1,1,1,1,1,1])\n",
    "plt.ylim(-1,2)\n",
    "plt.xticks(range(13))\n",
    "plt.yticks([0,1])\n",
    "plt.title('K2')\n",
    "\n",
    "plt.subplot(9,1,3)\n",
    "plt.step(range(13),[1,1,1,1,1,1,1,0,1,0,0,0,0])\n",
    "plt.ylim(-1,2)\n",
    "plt.xticks(range(13))\n",
    "plt.yticks([0,1])\n",
    "plt.title('K3')\n",
    "\n",
    "plt.subplot(9,1,4)\n",
    "plt.step(range(13),[1,1,1,1,1,1,1,0,0,0,0,1,0])\n",
    "plt.ylim(-1,2)\n",
    "plt.xticks(range(13))\n",
    "plt.yticks([0,1])\n",
    "plt.title('K4')\n",
    "\n",
    "\n",
    "plt.subplot(9,1,5)\n",
    "plt.step(range(13),[0,0,0,0,0,0,0,1,0,1,1,0,1],'r')\n",
    "plt.ylim(-1,2)\n",
    "plt.xticks(range(13))\n",
    "plt.yticks([0,1])\n",
    "plt.title('M1')\n",
    "\n",
    "plt.subplot(9,1,6)\n",
    "plt.step(range(13),[0,0,0,0,0,0,0,1,0,1,1,0,1],'r')\n",
    "plt.ylim(-1,2)\n",
    "plt.xticks(range(13))\n",
    "plt.yticks([0,1])\n",
    "plt.title('M2')\n",
    "\n",
    "plt.subplot(9,1,7)\n",
    "plt.step(range(13),[0,0,0,0,0,0,0,1,0,1,1,0,1],'r')\n",
    "plt.ylim(-1,2)\n",
    "plt.xticks(range(13))\n",
    "plt.yticks([0,1])\n",
    "plt.title('M3')\n",
    "\n",
    "plt.subplot(9,1,8)\n",
    "plt.step(range(13),[1,1,0,1,1,0,1,0,0,0,0,0,0],'r')\n",
    "plt.ylim(-1,2)\n",
    "plt.xticks(range(13))\n",
    "plt.yticks([0,1])\n",
    "plt.title('M4')\n",
    "\n",
    "plt.subplot(9,1,9)\n",
    "plt.step(range(13),[1,1,0,1,1,0,1,0,0,0,0,0,0],'r')\n",
    "plt.ylim(-1,2)\n",
    "plt.xticks(range(13))\n",
    "plt.yticks([0,1])\n",
    "plt.title('M5')\n",
    "\n",
    "\n",
    "\n",
    "plt.subplots_adjust(left=None, bottom=None, right=None, top=0.65,\n",
    "                wspace=0, hspace=1)\n",
    "\n",
    "plt.savefig('ddd.jpg')"
   ]
  },
  {
   "cell_type": "code",
   "execution_count": 4,
   "metadata": {},
   "outputs": [],
   "source": [
    "for i in range(3):\n",
    "    if i==2:\n",
    "        break\n"
   ]
  },
  {
   "cell_type": "code",
   "execution_count": 5,
   "metadata": {},
   "outputs": [
    {
     "data": {
      "text/plain": [
       "2"
      ]
     },
     "execution_count": 5,
     "metadata": {},
     "output_type": "execute_result"
    }
   ],
   "source": [
    "i"
   ]
  },
  {
   "cell_type": "code",
   "execution_count": null,
   "metadata": {},
   "outputs": [],
   "source": []
  }
 ],
 "metadata": {
  "interpreter": {
   "hash": "87bde4b8ac899a866791947b85fa526e720fe9897752d0655688f577c9f6fa63"
  },
  "kernelspec": {
   "display_name": "Python 3.8.11 64-bit ('python38': conda)",
   "name": "python3"
  },
  "language_info": {
   "codemirror_mode": {
    "name": "ipython",
    "version": 3
   },
   "file_extension": ".py",
   "mimetype": "text/x-python",
   "name": "python",
   "nbconvert_exporter": "python",
   "pygments_lexer": "ipython3",
   "version": "3.8.11"
  },
  "orig_nbformat": 4
 },
 "nbformat": 4,
 "nbformat_minor": 2
}
