{
 "cells": [
  {
   "cell_type": "code",
   "execution_count": 1,
   "metadata": {},
   "outputs": [],
   "source": [
    "import pandas as pd\n",
    "import numpy as np\n",
    "import sklearn \n",
    "import matplotlib.pyplot as plt\n",
    "import seaborn as sns\n",
    "import optuna\n",
    "import lightgbm as lgb\n",
    "import torch\n",
    "from sklearn.model_selection import train_test_split\n",
    "from sklearn.cluster import KMeans"
   ]
  },
  {
   "cell_type": "code",
   "execution_count": 2,
   "metadata": {},
   "outputs": [],
   "source": [
    "train = pd.read_csv('train.csv')\n",
    "test = pd.read_csv('test.csv')"
   ]
  },
  {
   "cell_type": "code",
   "execution_count": 3,
   "metadata": {},
   "outputs": [
    {
     "data": {
      "text/html": [
       "<div>\n",
       "<style scoped>\n",
       "    .dataframe tbody tr th:only-of-type {\n",
       "        vertical-align: middle;\n",
       "    }\n",
       "\n",
       "    .dataframe tbody tr th {\n",
       "        vertical-align: top;\n",
       "    }\n",
       "\n",
       "    .dataframe thead th {\n",
       "        text-align: right;\n",
       "    }\n",
       "</style>\n",
       "<table border=\"1\" class=\"dataframe\">\n",
       "  <thead>\n",
       "    <tr style=\"text-align: right;\">\n",
       "      <th></th>\n",
       "      <th>id</th>\n",
       "      <th>feature_0</th>\n",
       "      <th>feature_1</th>\n",
       "      <th>feature_2</th>\n",
       "      <th>feature_3</th>\n",
       "      <th>feature_4</th>\n",
       "      <th>feature_5</th>\n",
       "      <th>feature_6</th>\n",
       "      <th>feature_7</th>\n",
       "      <th>feature_8</th>\n",
       "      <th>...</th>\n",
       "      <th>feature_41</th>\n",
       "      <th>feature_42</th>\n",
       "      <th>feature_43</th>\n",
       "      <th>feature_44</th>\n",
       "      <th>feature_45</th>\n",
       "      <th>feature_46</th>\n",
       "      <th>feature_47</th>\n",
       "      <th>feature_48</th>\n",
       "      <th>feature_49</th>\n",
       "      <th>target</th>\n",
       "    </tr>\n",
       "  </thead>\n",
       "  <tbody>\n",
       "    <tr>\n",
       "      <th>0</th>\n",
       "      <td>81819</td>\n",
       "      <td>0</td>\n",
       "      <td>0</td>\n",
       "      <td>0</td>\n",
       "      <td>0</td>\n",
       "      <td>0</td>\n",
       "      <td>0</td>\n",
       "      <td>0</td>\n",
       "      <td>3</td>\n",
       "      <td>0</td>\n",
       "      <td>...</td>\n",
       "      <td>0</td>\n",
       "      <td>0</td>\n",
       "      <td>0</td>\n",
       "      <td>0</td>\n",
       "      <td>1</td>\n",
       "      <td>0</td>\n",
       "      <td>0</td>\n",
       "      <td>0</td>\n",
       "      <td>0</td>\n",
       "      <td>Class_1</td>\n",
       "    </tr>\n",
       "    <tr>\n",
       "      <th>1</th>\n",
       "      <td>52877</td>\n",
       "      <td>1</td>\n",
       "      <td>0</td>\n",
       "      <td>0</td>\n",
       "      <td>2</td>\n",
       "      <td>0</td>\n",
       "      <td>0</td>\n",
       "      <td>0</td>\n",
       "      <td>0</td>\n",
       "      <td>0</td>\n",
       "      <td>...</td>\n",
       "      <td>0</td>\n",
       "      <td>0</td>\n",
       "      <td>0</td>\n",
       "      <td>0</td>\n",
       "      <td>0</td>\n",
       "      <td>0</td>\n",
       "      <td>2</td>\n",
       "      <td>1</td>\n",
       "      <td>0</td>\n",
       "      <td>Class_3</td>\n",
       "    </tr>\n",
       "    <tr>\n",
       "      <th>2</th>\n",
       "      <td>76874</td>\n",
       "      <td>0</td>\n",
       "      <td>0</td>\n",
       "      <td>0</td>\n",
       "      <td>0</td>\n",
       "      <td>0</td>\n",
       "      <td>0</td>\n",
       "      <td>1</td>\n",
       "      <td>1</td>\n",
       "      <td>0</td>\n",
       "      <td>...</td>\n",
       "      <td>0</td>\n",
       "      <td>0</td>\n",
       "      <td>0</td>\n",
       "      <td>0</td>\n",
       "      <td>0</td>\n",
       "      <td>0</td>\n",
       "      <td>5</td>\n",
       "      <td>2</td>\n",
       "      <td>2</td>\n",
       "      <td>Class_2</td>\n",
       "    </tr>\n",
       "    <tr>\n",
       "      <th>3</th>\n",
       "      <td>23007</td>\n",
       "      <td>0</td>\n",
       "      <td>1</td>\n",
       "      <td>0</td>\n",
       "      <td>0</td>\n",
       "      <td>0</td>\n",
       "      <td>0</td>\n",
       "      <td>0</td>\n",
       "      <td>0</td>\n",
       "      <td>0</td>\n",
       "      <td>...</td>\n",
       "      <td>0</td>\n",
       "      <td>0</td>\n",
       "      <td>0</td>\n",
       "      <td>1</td>\n",
       "      <td>0</td>\n",
       "      <td>0</td>\n",
       "      <td>0</td>\n",
       "      <td>0</td>\n",
       "      <td>0</td>\n",
       "      <td>Class_2</td>\n",
       "    </tr>\n",
       "    <tr>\n",
       "      <th>4</th>\n",
       "      <td>31906</td>\n",
       "      <td>0</td>\n",
       "      <td>0</td>\n",
       "      <td>0</td>\n",
       "      <td>11</td>\n",
       "      <td>0</td>\n",
       "      <td>0</td>\n",
       "      <td>0</td>\n",
       "      <td>5</td>\n",
       "      <td>0</td>\n",
       "      <td>...</td>\n",
       "      <td>1</td>\n",
       "      <td>0</td>\n",
       "      <td>0</td>\n",
       "      <td>0</td>\n",
       "      <td>0</td>\n",
       "      <td>0</td>\n",
       "      <td>0</td>\n",
       "      <td>2</td>\n",
       "      <td>0</td>\n",
       "      <td>Class_2</td>\n",
       "    </tr>\n",
       "    <tr>\n",
       "      <th>...</th>\n",
       "      <td>...</td>\n",
       "      <td>...</td>\n",
       "      <td>...</td>\n",
       "      <td>...</td>\n",
       "      <td>...</td>\n",
       "      <td>...</td>\n",
       "      <td>...</td>\n",
       "      <td>...</td>\n",
       "      <td>...</td>\n",
       "      <td>...</td>\n",
       "      <td>...</td>\n",
       "      <td>...</td>\n",
       "      <td>...</td>\n",
       "      <td>...</td>\n",
       "      <td>...</td>\n",
       "      <td>...</td>\n",
       "      <td>...</td>\n",
       "      <td>...</td>\n",
       "      <td>...</td>\n",
       "      <td>...</td>\n",
       "      <td>...</td>\n",
       "    </tr>\n",
       "    <tr>\n",
       "      <th>79995</th>\n",
       "      <td>96783</td>\n",
       "      <td>0</td>\n",
       "      <td>0</td>\n",
       "      <td>0</td>\n",
       "      <td>4</td>\n",
       "      <td>0</td>\n",
       "      <td>0</td>\n",
       "      <td>2</td>\n",
       "      <td>0</td>\n",
       "      <td>20</td>\n",
       "      <td>...</td>\n",
       "      <td>0</td>\n",
       "      <td>0</td>\n",
       "      <td>0</td>\n",
       "      <td>0</td>\n",
       "      <td>0</td>\n",
       "      <td>0</td>\n",
       "      <td>0</td>\n",
       "      <td>0</td>\n",
       "      <td>0</td>\n",
       "      <td>Class_4</td>\n",
       "    </tr>\n",
       "    <tr>\n",
       "      <th>79996</th>\n",
       "      <td>51898</td>\n",
       "      <td>0</td>\n",
       "      <td>0</td>\n",
       "      <td>0</td>\n",
       "      <td>0</td>\n",
       "      <td>0</td>\n",
       "      <td>0</td>\n",
       "      <td>0</td>\n",
       "      <td>0</td>\n",
       "      <td>0</td>\n",
       "      <td>...</td>\n",
       "      <td>2</td>\n",
       "      <td>0</td>\n",
       "      <td>0</td>\n",
       "      <td>0</td>\n",
       "      <td>0</td>\n",
       "      <td>0</td>\n",
       "      <td>1</td>\n",
       "      <td>1</td>\n",
       "      <td>0</td>\n",
       "      <td>Class_2</td>\n",
       "    </tr>\n",
       "    <tr>\n",
       "      <th>79997</th>\n",
       "      <td>1492</td>\n",
       "      <td>0</td>\n",
       "      <td>0</td>\n",
       "      <td>0</td>\n",
       "      <td>0</td>\n",
       "      <td>0</td>\n",
       "      <td>0</td>\n",
       "      <td>0</td>\n",
       "      <td>0</td>\n",
       "      <td>0</td>\n",
       "      <td>...</td>\n",
       "      <td>0</td>\n",
       "      <td>3</td>\n",
       "      <td>0</td>\n",
       "      <td>0</td>\n",
       "      <td>0</td>\n",
       "      <td>0</td>\n",
       "      <td>0</td>\n",
       "      <td>2</td>\n",
       "      <td>0</td>\n",
       "      <td>Class_4</td>\n",
       "    </tr>\n",
       "    <tr>\n",
       "      <th>79998</th>\n",
       "      <td>90984</td>\n",
       "      <td>5</td>\n",
       "      <td>0</td>\n",
       "      <td>0</td>\n",
       "      <td>0</td>\n",
       "      <td>0</td>\n",
       "      <td>0</td>\n",
       "      <td>11</td>\n",
       "      <td>2</td>\n",
       "      <td>2</td>\n",
       "      <td>...</td>\n",
       "      <td>0</td>\n",
       "      <td>0</td>\n",
       "      <td>0</td>\n",
       "      <td>0</td>\n",
       "      <td>0</td>\n",
       "      <td>0</td>\n",
       "      <td>0</td>\n",
       "      <td>0</td>\n",
       "      <td>0</td>\n",
       "      <td>Class_2</td>\n",
       "    </tr>\n",
       "    <tr>\n",
       "      <th>79999</th>\n",
       "      <td>12307</td>\n",
       "      <td>0</td>\n",
       "      <td>0</td>\n",
       "      <td>0</td>\n",
       "      <td>0</td>\n",
       "      <td>0</td>\n",
       "      <td>0</td>\n",
       "      <td>0</td>\n",
       "      <td>0</td>\n",
       "      <td>0</td>\n",
       "      <td>...</td>\n",
       "      <td>6</td>\n",
       "      <td>0</td>\n",
       "      <td>0</td>\n",
       "      <td>0</td>\n",
       "      <td>0</td>\n",
       "      <td>0</td>\n",
       "      <td>0</td>\n",
       "      <td>0</td>\n",
       "      <td>0</td>\n",
       "      <td>Class_2</td>\n",
       "    </tr>\n",
       "  </tbody>\n",
       "</table>\n",
       "<p>80000 rows × 52 columns</p>\n",
       "</div>"
      ],
      "text/plain": [
       "          id  feature_0  feature_1  feature_2  feature_3  feature_4  \\\n",
       "0      81819          0          0          0          0          0   \n",
       "1      52877          1          0          0          2          0   \n",
       "2      76874          0          0          0          0          0   \n",
       "3      23007          0          1          0          0          0   \n",
       "4      31906          0          0          0         11          0   \n",
       "...      ...        ...        ...        ...        ...        ...   \n",
       "79995  96783          0          0          0          4          0   \n",
       "79996  51898          0          0          0          0          0   \n",
       "79997   1492          0          0          0          0          0   \n",
       "79998  90984          5          0          0          0          0   \n",
       "79999  12307          0          0          0          0          0   \n",
       "\n",
       "       feature_5  feature_6  feature_7  feature_8  ...  feature_41  \\\n",
       "0              0          0          3          0  ...           0   \n",
       "1              0          0          0          0  ...           0   \n",
       "2              0          1          1          0  ...           0   \n",
       "3              0          0          0          0  ...           0   \n",
       "4              0          0          5          0  ...           1   \n",
       "...          ...        ...        ...        ...  ...         ...   \n",
       "79995          0          2          0         20  ...           0   \n",
       "79996          0          0          0          0  ...           2   \n",
       "79997          0          0          0          0  ...           0   \n",
       "79998          0         11          2          2  ...           0   \n",
       "79999          0          0          0          0  ...           6   \n",
       "\n",
       "       feature_42  feature_43  feature_44  feature_45  feature_46  feature_47  \\\n",
       "0               0           0           0           1           0           0   \n",
       "1               0           0           0           0           0           2   \n",
       "2               0           0           0           0           0           5   \n",
       "3               0           0           1           0           0           0   \n",
       "4               0           0           0           0           0           0   \n",
       "...           ...         ...         ...         ...         ...         ...   \n",
       "79995           0           0           0           0           0           0   \n",
       "79996           0           0           0           0           0           1   \n",
       "79997           3           0           0           0           0           0   \n",
       "79998           0           0           0           0           0           0   \n",
       "79999           0           0           0           0           0           0   \n",
       "\n",
       "       feature_48  feature_49   target  \n",
       "0               0           0  Class_1  \n",
       "1               1           0  Class_3  \n",
       "2               2           2  Class_2  \n",
       "3               0           0  Class_2  \n",
       "4               2           0  Class_2  \n",
       "...           ...         ...      ...  \n",
       "79995           0           0  Class_4  \n",
       "79996           1           0  Class_2  \n",
       "79997           2           0  Class_4  \n",
       "79998           0           0  Class_2  \n",
       "79999           0           0  Class_2  \n",
       "\n",
       "[80000 rows x 52 columns]"
      ]
     },
     "execution_count": 3,
     "metadata": {},
     "output_type": "execute_result"
    }
   ],
   "source": [
    "train"
   ]
  },
  {
   "cell_type": "code",
   "execution_count": 4,
   "metadata": {},
   "outputs": [],
   "source": [
    "def calc_weight(train):\n",
    "    col_name = train.columns[3]\n",
    "    class_cnt = np.array(train.groupby('target').agg('count')[col_name])\n",
    "    \n",
    "    entropy_weight = torch.Tensor(np.exp(np.sum(np.log2(class_cnt))/np.log2(class_cnt)))\n",
    "    entropy_weight = entropy_weight.cuda()\n",
    "    return entropy_weight\n",
    "def add_features(df):\n",
    "    df.drop(['id'], axis=1, inplace=True)\n",
    "    # for i,col in enumerate(df.columns):\n",
    "        # df[col].loc[df[col]==np.inf]=0\n",
    "        # df[col].loc[df[col]==-np.inf]=0\n",
    "        # df[col] = pd.cut(df[col],bins = 16,labels = range(16))\n",
    "        # df[col+str(1)] = pd.cut(df[col],bins = 8,labels = range(8))\n",
    "        # df[col+str(2)] = df[col]*df[col]\n",
    "        # df[col+str(3)] = df[col+str(2)]*df[col]\n",
    "        # df[col+'log'] = np.log(df[col])\n",
    "\n",
    "    \n",
    "    # for i in [2,8,16,24,32,48,64]:\n",
    "    #     km = KMeans(n_clusters=i,random_state=42)\n",
    "    #     cluster = km.fit_predict(df)\n",
    "    #     df['Cluste'+str(i)] = cluster\n",
    "\n",
    "    df.fillna(0)\n",
    "from sklearn.preprocessing import StandardScaler\n",
    "def prepare_data(train, test):\n",
    "    entropy_weight = calc_weight(train)\n",
    "    target = train['target']\n",
    "    target = np.array(target.map({\"Class_1\":0, \"Class_2\":1, \"Class_3\":2, \"Class_4\":3}))\n",
    "    train.drop('target', axis=1, inplace=True)\n",
    "    \n",
    "    add_features(train)\n",
    "    add_features(test)\n",
    "    scaler = StandardScaler()\n",
    "    train = pd.DataFrame(np.array(scaler.fit_transform(train)))\n",
    "    test = pd.DataFrame(np.array(scaler.transform(test)))\n",
    "    \n",
    "\n",
    "    \n",
    "    return train, test, target, entropy_weight\n",
    "\n",
    "train,test,target,entropy_weight = prepare_data(train, test)"
   ]
  },
  {
   "cell_type": "code",
   "execution_count": 5,
   "metadata": {},
   "outputs": [],
   "source": [
    "entropy_weight = entropy_weight*entropy_weight"
   ]
  },
  {
   "cell_type": "code",
   "execution_count": 6,
   "metadata": {},
   "outputs": [
    {
     "data": {
      "text/plain": [
       "tensor([6145.4512, 1311.0331, 2711.7688, 4287.8228], device='cuda:0')"
      ]
     },
     "execution_count": 6,
     "metadata": {},
     "output_type": "execute_result"
    }
   ],
   "source": [
    "entropy_weight"
   ]
  },
  {
   "cell_type": "code",
   "execution_count": 7,
   "metadata": {},
   "outputs": [],
   "source": [
    "train = np.array(train)\n",
    "test = np.array(test)"
   ]
  },
  {
   "cell_type": "code",
   "execution_count": 8,
   "metadata": {},
   "outputs": [
    {
     "name": "stdout",
     "output_type": "stream",
     "text": [
      "Device used : cuda\n"
     ]
    }
   ],
   "source": [
    "from pytorch_tabnet.tab_model import TabNetClassifier, TabNetRegressor\n",
    "import torch.nn as nn\n",
    "criteria = nn.CrossEntropyLoss(weight=entropy_weight)\n",
    "\n",
    "clf = TabNetClassifier(\n",
    "    \n",
    "    optimizer_fn=torch.optim.Adam,\n",
    "    optimizer_params=dict(lr=1e-4)\n",
    "    )  #TabNetRegressor()"
   ]
  },
  {
   "cell_type": "code",
   "execution_count": 9,
   "metadata": {},
   "outputs": [
    {
     "data": {
      "text/plain": [
       "<seaborn.axisgrid.FacetGrid at 0x18f0f882940>"
      ]
     },
     "execution_count": 9,
     "metadata": {},
     "output_type": "execute_result"
    },
    {
     "data": {
      "image/png": "[encoded data removed]",
      "text/plain": [
       "<Figure size 360x360 with 1 Axes>"
      ]
     },
     "metadata": {
      "needs_background": "light"
     },
     "output_type": "display_data"
    }
   ],
   "source": [
    "sns.displot(target)"
   ]
  },
  {
   "cell_type": "code",
   "execution_count": 10,
   "metadata": {},
   "outputs": [
    {
     "name": "stdout",
     "output_type": "stream",
     "text": [
      "epoch 0  | loss: 1.63722 | val_0_accuracy: 0.31494 |  0:00:15s\n",
      "epoch 1  | loss: 1.62214 | val_0_accuracy: 0.32748 |  0:00:30s\n",
      "epoch 2  | loss: 1.61172 | val_0_accuracy: 0.32884 |  0:00:44s\n",
      "epoch 3  | loss: 1.58733 | val_0_accuracy: 0.3474  |  0:00:58s\n",
      "epoch 4  | loss: 1.56953 | val_0_accuracy: 0.34804 |  0:01:13s\n",
      "epoch 5  | loss: 1.56009 | val_0_accuracy: 0.35388 |  0:01:27s\n",
      "epoch 6  | loss: 1.55014 | val_0_accuracy: 0.36359 |  0:01:42s\n",
      "epoch 7  | loss: 1.53587 | val_0_accuracy: 0.36391 |  0:01:56s\n",
      "epoch 8  | loss: 1.52981 | val_0_accuracy: 0.37249 |  0:02:11s\n",
      "epoch 9  | loss: 1.51511 | val_0_accuracy: 0.37948 |  0:02:25s\n"
     ]
    }
   ],
   "source": [
    "\n",
    "clf.fit(\n",
    "  train, \n",
    "  target,\n",
    "  loss_fn = criteria,\n",
    "  eval_set=[(train, target)],\n",
    "  patience = 32\n",
    "  \n",
    ")\n",
    "preds = clf.predict(test)"
   ]
  },
  {
   "cell_type": "code",
   "execution_count": null,
   "metadata": {},
   "outputs": [],
   "source": [
    "preds = clf.predict(train)"
   ]
  },
  {
   "cell_type": "code",
   "execution_count": null,
   "metadata": {},
   "outputs": [
    {
     "data": {
      "text/plain": [
       "0.5568875"
      ]
     },
     "execution_count": 47,
     "metadata": {},
     "output_type": "execute_result"
    }
   ],
   "source": [
    "sklearn.metrics.accuracy_score(target, preds)"
   ]
  },
  {
   "cell_type": "code",
   "execution_count": null,
   "metadata": {},
   "outputs": [
    {
     "data": {
      "text/plain": [
       "<seaborn.axisgrid.FacetGrid at 0x269b26fcb20>"
      ]
     },
     "execution_count": 48,
     "metadata": {},
     "output_type": "execute_result"
    },
    {
     "data": {
      "image/png": "[encoded data removed]",
      "text/plain": [
       "<Figure size 360x360 with 1 Axes>"
      ]
     },
     "metadata": {
      "needs_background": "light"
     },
     "output_type": "display_data"
    }
   ],
   "source": [
    "sns.displot(preds)"
   ]
  },
  {
   "cell_type": "code",
   "execution_count": null,
   "metadata": {},
   "outputs": [
    {
     "data": {
      "text/plain": [
       "array([[-0.27719705, -0.2172619 , -0.21898824, ..., -0.26205264,\n",
       "        -0.3783679 , -0.33136693],\n",
       "       [ 0.80671535, -0.2172619 , -0.21898824, ...,  1.06727817,\n",
       "         0.01057937, -0.33136693],\n",
       "       [-0.27719705, -0.2172619 , -0.21898824, ...,  3.06127438,\n",
       "         0.39952663,  0.85592922],\n",
       "       ...,\n",
       "       [-0.27719705, -0.2172619 , -0.21898824, ..., -0.26205264,\n",
       "         0.39952663, -0.33136693],\n",
       "       [ 5.14236496, -0.2172619 , -0.21898824, ..., -0.26205264,\n",
       "        -0.3783679 , -0.33136693],\n",
       "       [-0.27719705, -0.2172619 , -0.21898824, ..., -0.26205264,\n",
       "        -0.3783679 , -0.33136693]])"
      ]
     },
     "execution_count": 28,
     "metadata": {},
     "output_type": "execute_result"
    }
   ],
   "source": [
    "train"
   ]
  },
  {
   "cell_type": "code",
   "execution_count": null,
   "metadata": {},
   "outputs": [],
   "source": []
  }
 ],
 "metadata": {
  "interpreter": {
   "hash": "87bde4b8ac899a866791947b85fa526e720fe9897752d0655688f577c9f6fa63"
  },
  "kernelspec": {
   "display_name": "Python 3.8.11 64-bit ('python38': conda)",
   "name": "python3"
  },
  "language_info": {
   "codemirror_mode": {
    "name": "ipython",
    "version": 3
   },
   "file_extension": ".py",
   "mimetype": "text/x-python",
   "name": "python",
   "nbconvert_exporter": "python",
   "pygments_lexer": "ipython3",
   "version": "3.8.11"
  },
  "orig_nbformat": 4
 },
 "nbformat": 4,
 "nbformat_minor": 2
}
